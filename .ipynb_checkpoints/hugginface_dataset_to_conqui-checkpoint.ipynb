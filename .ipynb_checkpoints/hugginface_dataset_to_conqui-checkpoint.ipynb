{
 "cells": [
  {
   "cell_type": "code",
   "execution_count": 1,
   "id": "c1214269-7605-4853-9fba-1598b6ca6600",
   "metadata": {},
   "outputs": [],
   "source": [
    "import pandas as pd"
   ]
  },
  {
   "cell_type": "code",
   "execution_count": 2,
   "id": "02016e5a-427e-4e41-8ad4-e75ef96fc600",
   "metadata": {},
   "outputs": [
    {
     "name": "stderr",
     "output_type": "stream",
     "text": [
      "/root/anaconda3/envs/research_env/lib/python3.10/site-packages/tqdm/auto.py:21: TqdmWarning: IProgress not found. Please update jupyter and ipywidgets. See https://ipywidgets.readthedocs.io/en/stable/user_install.html\n",
      "  from .autonotebook import tqdm as notebook_tqdm\n"
     ]
    }
   ],
   "source": [
    "from datasets import load_dataset"
   ]
  },
  {
   "cell_type": "code",
   "execution_count": 3,
   "id": "82997443-a3a0-4b26-be72-a88f8f02291a",
   "metadata": {},
   "outputs": [
    {
     "name": "stderr",
     "output_type": "stream",
     "text": [
      "Repo card metadata block was not found. Setting CardData to empty.\n"
     ]
    }
   ],
   "source": [
    "# Download first 20000 examples from the dataset (assuming it supports slicing)\n",
    "dataset = load_dataset(\"m-aliabbas1/myeidi\")"
   ]
  },
  {
   "cell_type": "code",
   "execution_count": 4,
   "id": "b00671ba-545d-4a14-ad21-914e7ccad289",
   "metadata": {},
   "outputs": [],
   "source": [
    "# !pip install -U datasets "
   ]
  },
  {
   "cell_type": "code",
   "execution_count": 5,
   "id": "0cced596-01b9-4e59-9bb6-93414d4ea25b",
   "metadata": {},
   "outputs": [],
   "source": [
    "# !ls"
   ]
  },
  {
   "cell_type": "code",
   "execution_count": 6,
   "id": "7dfb9cad-01a7-4257-b034-d6fdb0baf319",
   "metadata": {},
   "outputs": [],
   "source": [
    "# !rm -rf ~/.cache/huggingface/datasets/"
   ]
  },
  {
   "cell_type": "code",
   "execution_count": 7,
   "id": "346205ba-34ad-4524-95ae-9dd98798a6c0",
   "metadata": {},
   "outputs": [],
   "source": [
    "dataset = dataset[\"train\"].train_test_split(seed=42)[\"train\"]"
   ]
  },
  {
   "cell_type": "code",
   "execution_count": 8,
   "id": "fab7e5cf-e485-4c05-9b5c-9998194d2eca",
   "metadata": {},
   "outputs": [
    {
     "data": {
      "text/plain": [
       "Dataset({\n",
       "    features: ['text', 'audio', 'duration'],\n",
       "    num_rows: 78390\n",
       "})"
      ]
     },
     "execution_count": 8,
     "metadata": {},
     "output_type": "execute_result"
    }
   ],
   "source": [
    "dataset"
   ]
  },
  {
   "cell_type": "code",
   "execution_count": 14,
   "id": "da338727-4e57-4a2b-b18a-1cc76d3edb0f",
   "metadata": {},
   "outputs": [],
   "source": [
    "split_dataset = dataset.train_test_split(test_size=0.2, seed=42)"
   ]
  },
  {
   "cell_type": "code",
   "execution_count": 15,
   "id": "d0a92dc9-6b41-46f5-b3a1-580e7c5813c3",
   "metadata": {},
   "outputs": [
    {
     "data": {
      "text/plain": [
       "DatasetDict({\n",
       "    train: Dataset({\n",
       "        features: ['text', 'audio', 'duration'],\n",
       "        num_rows: 62712\n",
       "    })\n",
       "    test: Dataset({\n",
       "        features: ['text', 'audio', 'duration'],\n",
       "        num_rows: 15678\n",
       "    })\n",
       "})"
      ]
     },
     "execution_count": 15,
     "metadata": {},
     "output_type": "execute_result"
    }
   ],
   "source": [
    "split_dataset"
   ]
  },
  {
   "cell_type": "code",
   "execution_count": 16,
   "id": "f3151da3-702f-4591-93bb-449c2367ba66",
   "metadata": {},
   "outputs": [],
   "source": [
    "train_dataset = split_dataset[\"train\"]\n",
    "test_dataset = split_dataset[\"test\"]"
   ]
  },
  {
   "cell_type": "code",
   "execution_count": 17,
   "id": "3292a0e8-2ad7-498d-b4a5-e13c5b9ad6f1",
   "metadata": {},
   "outputs": [
    {
     "data": {
      "text/plain": [
       "Dataset({\n",
       "    features: ['text', 'audio', 'duration'],\n",
       "    num_rows: 62712\n",
       "})"
      ]
     },
     "execution_count": 17,
     "metadata": {},
     "output_type": "execute_result"
    }
   ],
   "source": [
    "train_dataset"
   ]
  },
  {
   "cell_type": "code",
   "execution_count": 18,
   "id": "67aed7f0-0f71-4956-a274-851c21f2a21f",
   "metadata": {},
   "outputs": [],
   "source": [
    "import csv\n",
    "import os\n",
    "\n"
   ]
  },
  {
   "cell_type": "code",
   "execution_count": 19,
   "id": "93b32e8c-7399-400b-9aba-f968efc544aa",
   "metadata": {},
   "outputs": [],
   "source": [
    "# Prepare metadata lines\n",
    "metadata = [[\"audio_file\", \"text\", \"speaker_name\"]]\n",
    "\n"
   ]
  },
  {
   "cell_type": "code",
   "execution_count": 20,
   "id": "75045a1b-283d-41e5-bdc7-df084753a9c7",
   "metadata": {},
   "outputs": [],
   "source": [
    "# df = pd.read_csv('metadata_train.csv')"
   ]
  },
  {
   "cell_type": "code",
   "execution_count": 15,
   "id": "57a867e9-64f5-4282-b9fc-416483c8234c",
   "metadata": {},
   "outputs": [
    {
     "name": "stdout",
     "output_type": "stream",
     "text": [
      "ls: cannot access 'wavs': No such file or directory\n"
     ]
    }
   ],
   "source": [
    "!ls wavs"
   ]
  },
  {
   "cell_type": "code",
   "execution_count": 18,
   "id": "3e6a3725-af1b-4015-a24f-130fa4539b87",
   "metadata": {},
   "outputs": [],
   "source": [
    "# !pip install librosa"
   ]
  },
  {
   "cell_type": "code",
   "execution_count": 20,
   "id": "b7fb9289-3bc8-452f-bbc6-35b27572f5cf",
   "metadata": {},
   "outputs": [],
   "source": [
    "# !pip install librosa soundfile tqdm\n"
   ]
  },
  {
   "cell_type": "code",
   "execution_count": 21,
   "id": "9dce92f1-4a2a-437d-9742-732cce330557",
   "metadata": {},
   "outputs": [],
   "source": [
    "import os\n",
    "import csv\n",
    "import librosa\n",
    "import soundfile as sf\n",
    "from tqdm import tqdm\n",
    "\n",
    "def process_dataset_to_metadata(\n",
    "    dataset, \n",
    "    output_dir=\"wavs\", \n",
    "    metadata_path=\"metadata_train.csv\", \n",
    "    target_sr=22500, \n",
    "    speaker_name=\"@faisal\"\n",
    "):\n",
    "    \"\"\"\n",
    "    Resamples and saves audio files from Hugging Face dataset and creates metadata CSV.\n",
    "    \n",
    "    Args:\n",
    "        dataset: Hugging Face dataset with 'audio' and 'text' fields\n",
    "        output_dir: Directory to save resampled audio files\n",
    "        metadata_path: Path to save metadata CSV file\n",
    "        target_sr: Target sample rate (default is 24000 Hz)\n",
    "        speaker_name: Speaker name to use in metadata\n",
    "\n",
    "    Returns:\n",
    "        None (saves audio files and CSV to disk)\n",
    "    \"\"\"\n",
    "    os.makedirs(output_dir, exist_ok=True)\n",
    "    metadata = [[\"audio_file\", \"text\", \"speaker_name\"]]\n",
    "\n",
    "    for example in tqdm(dataset, desc=\"Processing audio\"):\n",
    "        audio_data = example[\"audio\"]\n",
    "        text = example[\"text\"]\n",
    "        filename = os.path.basename(audio_data[\"path\"])\n",
    "        new_filename = filename.replace(\".wav\", f\"_{target_sr//1000}k.wav\")\n",
    "        output_path = os.path.join(output_dir, new_filename)\n",
    "\n",
    "        # Resample and save\n",
    "        y = audio_data[\"array\"]\n",
    "        sr = audio_data[\"sampling_rate\"]\n",
    "        y_resampled = librosa.resample(y, orig_sr=sr, target_sr=target_sr)\n",
    "        sf.write(output_path, y_resampled, target_sr)\n",
    "\n",
    "        # Append metadata row\n",
    "        metadata.append([output_path, text, speaker_name])\n",
    "\n",
    "    # Write metadata to CSV\n",
    "    with open(metadata_path, \"w\", newline='', encoding=\"utf-8\") as f:\n",
    "        writer = csv.writer(f, delimiter='|')\n",
    "        writer.writerows(metadata)\n",
    "\n",
    "    print(f\"✅ Done: {len(dataset)} samples processed.\")\n",
    "    print(f\"📁 Audio saved in: {output_dir}\")\n",
    "    print(f\"📝 Metadata saved to: {metadata_path}\")\n"
   ]
  },
  {
   "cell_type": "code",
   "execution_count": 22,
   "id": "cdce2db8-4008-43a6-92c4-8c4d13955a71",
   "metadata": {},
   "outputs": [],
   "source": [
    "# !conda install numpy=2.1 -y\n"
   ]
  },
  {
   "cell_type": "code",
   "execution_count": 23,
   "id": "6a8aaa73-80b4-4685-90d1-373c4a633aae",
   "metadata": {},
   "outputs": [
    {
     "name": "stderr",
     "output_type": "stream",
     "text": [
      "Processing audio: 100%|█████████████████████████████████████████████████████████████| 62712/62712 [01:04<00:00, 967.97it/s]\n"
     ]
    },
    {
     "name": "stdout",
     "output_type": "stream",
     "text": [
      "✅ Done: 62712 samples processed.\n",
      "📁 Audio saved in: wavs\n",
      "📝 Metadata saved to: metadata_train.csv\n"
     ]
    }
   ],
   "source": [
    "process_dataset_to_metadata(train_dataset)"
   ]
  },
  {
   "cell_type": "code",
   "execution_count": 24,
   "id": "ed5277df-7c49-473a-b104-382f4970b841",
   "metadata": {},
   "outputs": [],
   "source": [
    "# !rm -rf wavs"
   ]
  },
  {
   "cell_type": "code",
   "execution_count": 25,
   "id": "e6f8956b-7798-49b4-89ba-7e108d4c7969",
   "metadata": {},
   "outputs": [],
   "source": [
    "test_dataset = split_dataset[\"test\"]"
   ]
  },
  {
   "cell_type": "code",
   "execution_count": null,
   "id": "3a3a15ec-8e95-42fd-8f4f-548255f7baca",
   "metadata": {},
   "outputs": [],
   "source": []
  },
  {
   "cell_type": "code",
   "execution_count": 26,
   "id": "5e982824-b414-4d3c-a485-204dadb44089",
   "metadata": {},
   "outputs": [
    {
     "name": "stderr",
     "output_type": "stream",
     "text": [
      "Processing audio: 100%|█████████████████████████████████████████████████████████████| 15678/15678 [00:27<00:00, 570.39it/s]\n"
     ]
    },
    {
     "name": "stdout",
     "output_type": "stream",
     "text": [
      "✅ Done: 15678 samples processed.\n",
      "📁 Audio saved in: wavs\n",
      "📝 Metadata saved to: metadata_test.csv\n"
     ]
    }
   ],
   "source": [
    "process_dataset_to_metadata(test_dataset,output_dir=\"wavs\", \n",
    "    metadata_path=\"metadata_test.csv\", \n",
    "    target_sr=24000, \n",
    "    speaker_name=\"@faisal\")"
   ]
  },
  {
   "cell_type": "code",
   "execution_count": 37,
   "id": "4be05823-7a9b-42c2-9849-c02f4fd2c744",
   "metadata": {},
   "outputs": [],
   "source": [
    "!mv wavs ./XTTSv2-Finetuning-for-New-Languages/datasets-1/"
   ]
  },
  {
   "cell_type": "code",
   "execution_count": null,
   "id": "cc5c3623-3d49-4401-aa38-d0755d3e8dc1",
   "metadata": {},
   "outputs": [],
   "source": []
  }
 ],
 "metadata": {
  "kernelspec": {
   "display_name": "Python 3 (ipykernel)",
   "language": "python",
   "name": "python3"
  },
  "language_info": {
   "codemirror_mode": {
    "name": "ipython",
    "version": 3
   },
   "file_extension": ".py",
   "mimetype": "text/x-python",
   "name": "python",
   "nbconvert_exporter": "python",
   "pygments_lexer": "ipython3",
   "version": "3.10.16"
  }
 },
 "nbformat": 4,
 "nbformat_minor": 5
}
