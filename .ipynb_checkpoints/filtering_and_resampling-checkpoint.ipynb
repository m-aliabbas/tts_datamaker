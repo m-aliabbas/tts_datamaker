{
 "cells": [
  {
   "cell_type": "code",
   "execution_count": 17,
   "id": "cf2eaab6-82be-4141-a588-bcfb010fe856",
   "metadata": {},
   "outputs": [],
   "source": [
    "import os\n",
    "import librosa\n",
    "import soundfile as sf\n",
    "import subprocess\n"
   ]
  },
  {
   "cell_type": "code",
   "execution_count": 25,
   "id": "c0ced72d-181d-459b-9d6b-065177f87c3b",
   "metadata": {},
   "outputs": [],
   "source": [
    "import random\n",
    "import string\n",
    "import time\n",
    "\n",
    "\n",
    "def generate_random_filename(extension=\".wav\", length=8):\n",
    "    timestamp = int(time.time())\n",
    "    random_str = ''.join(random.choices(string.ascii_lowercase + string.digits, k=length))\n",
    "    return f\"{random_str}_{timestamp}\""
   ]
  },
  {
   "cell_type": "code",
   "execution_count": 18,
   "id": "95261c15-a448-42ce-840f-253d510b7483",
   "metadata": {},
   "outputs": [],
   "source": [
    "def convert_mp3_to_16k_wav(input_mp3_path: str, output_dir: str, output_filename: str = None) -> str:\n",
    "    os.makedirs(output_dir, exist_ok=True)\n",
    "\n",
    "    if output_filename is None:\n",
    "        output_filename = os.path.splitext(os.path.basename(input_mp3_path))[0]\n",
    "\n",
    "    output_path = os.path.join(output_dir, f\"{output_filename}_16k.wav\")\n",
    "\n",
    "    audio, sr = librosa.load(input_mp3_path, sr=16000)\n",
    "    sf.write(output_path, audio, samplerate=16000)\n",
    "\n",
    "    return output_path"
   ]
  },
  {
   "cell_type": "code",
   "execution_count": 19,
   "id": "f5db1da6-d845-460d-9e2a-797e2ad6a338",
   "metadata": {},
   "outputs": [],
   "source": [
    "def run_deepfilter_with_output_dir(input_wav_path: str, output_dir: str) -> str:\n",
    "    os.makedirs(output_dir, exist_ok=True)\n",
    "\n",
    "    command = [\n",
    "        \"deepFilter\",\n",
    "        input_wav_path,\n",
    "        \"--output-dir\", output_dir\n",
    "    ]\n",
    "    subprocess.run(command, check=True)\n",
    "\n",
    "    base_name = os.path.splitext(os.path.basename(input_wav_path))[0]\n",
    "    output_path = os.path.join(output_dir, f\"{base_name}_enhanced.wav\")\n",
    "    return output_path"
   ]
  },
  {
   "cell_type": "code",
   "execution_count": 20,
   "id": "fb481b2f-7a2c-4005-9abe-b486b999ab82",
   "metadata": {},
   "outputs": [],
   "source": [
    "def preprocess_audio(input_mp3_path: str, output_dir: str) -> str:\n",
    "    \"\"\"\n",
    "    Preprocesses an MP3 audio file by converting to 16kHz WAV, applying DeepFilterNet,\n",
    "    and returning the enhanced audio path. Deletes the intermediate unfiltered WAV.\n",
    "\n",
    "    Args:\n",
    "        input_mp3_path (str): Path to the MP3 file.\n",
    "        output_dir (str): Directory to store the final enhanced WAV file.\n",
    "\n",
    "    Returns:\n",
    "        str: Path to the final filtered/enhanced WAV file.\n",
    "    \"\"\"\n",
    "    print(f\"🔄 Preprocessing: {input_mp3_path}\")\n",
    "    \n",
    "    # Step 1: Convert MP3 to 16kHz WAV\n",
    "    wav_path = convert_mp3_to_16k_wav(input_mp3_path, output_dir)\n",
    "    \n",
    "    # Step 2: Apply DeepFilterNet\n",
    "    enhanced_wav_path = run_deepfilter_with_output_dir(wav_path, output_dir)\n",
    "    \n",
    "    # Step 3: Remove the intermediate WAV file\n",
    "    if os.path.exists(wav_path):\n",
    "        os.remove(wav_path)\n",
    "        print(f\"🗑️ Removed intermediate file: {wav_path}\")\n",
    "\n",
    "    print(f\"✅ Final enhanced file: {enhanced_wav_path}\")\n",
    "    return enhanced_wav_path"
   ]
  },
  {
   "cell_type": "code",
   "execution_count": 3,
   "id": "db58333c-cbfd-4515-bfaf-2a88ece0baab",
   "metadata": {},
   "outputs": [],
   "source": [
    "import glob"
   ]
  },
  {
   "cell_type": "code",
   "execution_count": 7,
   "id": "edfe4af0-14f4-4751-81f0-6122c91c65ed",
   "metadata": {},
   "outputs": [
    {
     "name": "stdout",
     "output_type": "stream",
     "text": [
      "no_vocals.mp3  vocals.mp3\n"
     ]
    }
   ],
   "source": [
    "!ls vocals/mdx_extra_q/2g1u3998_1743335826"
   ]
  },
  {
   "cell_type": "code",
   "execution_count": 10,
   "id": "65906041-0560-4232-88a7-feaa800a63f3",
   "metadata": {},
   "outputs": [],
   "source": [
    "vocal_0 = glob.glob('vocals/mdx_extra_q/*/vocals.mp3')\n",
    "vocal_1 = glob.glob('vocal_1/mdx_extra_q/*/vocals.mp3')\n",
    "vocal_2 = glob.glob('vocal_2/mdx_extra_q/*/vocals.mp3')"
   ]
  },
  {
   "cell_type": "code",
   "execution_count": 14,
   "id": "b3e8157f-2422-4001-8a99-d3b133a925aa",
   "metadata": {},
   "outputs": [],
   "source": [
    "files_name = vocal_0 + vocal_1 + vocal_2"
   ]
  },
  {
   "cell_type": "code",
   "execution_count": 28,
   "id": "d0efe78c-5210-4844-8712-af967b5c3c0c",
   "metadata": {},
   "outputs": [],
   "source": [
    "# !deepFilter -i filter_waves/vocals_16k.wav -o clean_final"
   ]
  },
  {
   "cell_type": "code",
   "execution_count": 16,
   "id": "43c867eb-4cf3-4b57-a9bd-222a5d393173",
   "metadata": {},
   "outputs": [],
   "source": [
    "# len(files_name)"
   ]
  },
  {
   "cell_type": "code",
   "execution_count": 21,
   "id": "9e25acd0-8e5c-4d0f-8cd5-394c2105e245",
   "metadata": {},
   "outputs": [
    {
     "name": "stdout",
     "output_type": "stream",
     "text": [
      "🔄 Preprocessing: vocals/mdx_extra_q/2g1u3998_1743335826/vocals.mp3\n"
     ]
    },
    {
     "name": "stderr",
     "output_type": "stream",
     "text": [
      "/root/anaconda3/envs/research_env/lib/python3.10/site-packages/df/io.py:9: UserWarning: `torchaudio.backend.common.AudioMetaData` has been moved to `torchaudio.AudioMetaData`. Please update the import path.\n",
      "  from torchaudio.backend.common import AudioMetaData\n",
      "fatal: not a git repository (or any of the parent directories): .git\n"
     ]
    },
    {
     "name": "stdout",
     "output_type": "stream",
     "text": [
      "2025-03-31 07:22:04 | INFO     | DF | Running on torch 2.6.0+cu124\n",
      "2025-03-31 07:22:04 | INFO     | DF | Running on host Ubuntu-2404-noble-amd64-base\n",
      "2025-03-31 07:22:04 | INFO     | DF | Loading model settings of DeepFilterNet3\n",
      "2025-03-31 07:22:04 | INFO     | DF | Using DeepFilterNet3 model at /root/.cache/DeepFilterNet/DeepFilterNet3\n",
      "2025-03-31 07:22:04 | INFO     | DF | Initializing model `deepfilternet3`\n",
      "2025-03-31 07:22:05 | INFO     | DF | Found checkpoint /root/.cache/DeepFilterNet/DeepFilterNet3/checkpoints/model_120.ckpt.best with epoch 120\n",
      "2025-03-31 07:22:05 | INFO     | DF | Running on device cuda:0\n",
      "2025-03-31 07:22:05 | INFO     | DF | Model loaded\n"
     ]
    },
    {
     "name": "stderr",
     "output_type": "stream",
     "text": [
      "2025-03-31 07:22:05 | WARNING  | DF | Audio sampling rate does not match model sampling rate (16000, 48000). Resampling...\n",
      "/root/anaconda3/envs/research_env/lib/python3.10/site-packages/df/io.py:106: UserWarning: \"sinc_interpolation\" resampling method name is being deprecated and replaced by \"sinc_interp_hann\" in the next release. The default behavior remains unchanged.\n",
      "  return ta_resample(audio, orig_sr, new_sr, **params)\n",
      "Traceback (most recent call last):\n",
      "  File \"/root/anaconda3/envs/research_env/bin/deepFilter\", line 8, in <module>\n",
      "    sys.exit(run())\n",
      "  File \"/root/anaconda3/envs/research_env/lib/python3.10/site-packages/df/enhance.py\", line 378, in run\n",
      "    main(args)\n",
      "  File \"/root/anaconda3/envs/research_env/lib/python3.10/site-packages/df/enhance.py\", line 78, in main\n",
      "    audio = enhance(\n",
      "  File \"/root/anaconda3/envs/research_env/lib/python3.10/site-packages/torch/utils/_contextlib.py\", line 116, in decorate_context\n",
      "    return func(*args, **kwargs)\n",
      "  File \"/root/anaconda3/envs/research_env/lib/python3.10/site-packages/df/enhance.py\", line 235, in enhance\n",
      "    enhanced = model(spec.clone(), erb_feat, spec_feat)[0].cpu()\n",
      "  File \"/root/anaconda3/envs/research_env/lib/python3.10/site-packages/torch/nn/modules/module.py\", line 1739, in _wrapped_call_impl\n",
      "    return self._call_impl(*args, **kwargs)\n",
      "  File \"/root/anaconda3/envs/research_env/lib/python3.10/site-packages/torch/nn/modules/module.py\", line 1750, in _call_impl\n",
      "    return forward_call(*args, **kwargs)\n",
      "  File \"/root/anaconda3/envs/research_env/lib/python3.10/site-packages/df/deepfilternet3.py\", line 411, in forward\n",
      "    e0, e1, e2, e3, emb, c0, lsnr = self.enc(feat_erb, feat_spec)\n",
      "  File \"/root/anaconda3/envs/research_env/lib/python3.10/site-packages/torch/nn/modules/module.py\", line 1739, in _wrapped_call_impl\n",
      "    return self._call_impl(*args, **kwargs)\n",
      "  File \"/root/anaconda3/envs/research_env/lib/python3.10/site-packages/torch/nn/modules/module.py\", line 1750, in _call_impl\n",
      "    return forward_call(*args, **kwargs)\n",
      "  File \"/root/anaconda3/envs/research_env/lib/python3.10/site-packages/df/deepfilternet3.py\", line 183, in forward\n",
      "    emb, _ = self.emb_gru(emb)  # [B, T, -1]\n",
      "  File \"/root/anaconda3/envs/research_env/lib/python3.10/site-packages/torch/nn/modules/module.py\", line 1739, in _wrapped_call_impl\n",
      "    return self._call_impl(*args, **kwargs)\n",
      "  File \"/root/anaconda3/envs/research_env/lib/python3.10/site-packages/torch/nn/modules/module.py\", line 1750, in _call_impl\n",
      "    return forward_call(*args, **kwargs)\n",
      "  File \"/root/anaconda3/envs/research_env/lib/python3.10/site-packages/df/modules.py\", line 734, in forward\n",
      "    x, h = self.gru(x, h)\n",
      "  File \"/root/anaconda3/envs/research_env/lib/python3.10/site-packages/torch/nn/modules/module.py\", line 1739, in _wrapped_call_impl\n",
      "    return self._call_impl(*args, **kwargs)\n",
      "  File \"/root/anaconda3/envs/research_env/lib/python3.10/site-packages/torch/nn/modules/module.py\", line 1750, in _call_impl\n",
      "    return forward_call(*args, **kwargs)\n",
      "  File \"/root/anaconda3/envs/research_env/lib/python3.10/site-packages/torch/nn/modules/rnn.py\", line 1393, in forward\n",
      "    result = _VF.gru(\n",
      "RuntimeError: cuDNN error: CUDNN_STATUS_NOT_SUPPORTED. This error may appear if you passed in a non-contiguous input.\n"
     ]
    },
    {
     "ename": "CalledProcessError",
     "evalue": "Command '['deepFilter', 'filter_waves/vocals_16k.wav', '--output-dir', 'filter_waves/']' returned non-zero exit status 1.",
     "output_type": "error",
     "traceback": [
      "\u001b[0;31m---------------------------------------------------------------------------\u001b[0m",
      "\u001b[0;31mCalledProcessError\u001b[0m                        Traceback (most recent call last)",
      "Cell \u001b[0;32mIn[21], line 1\u001b[0m\n\u001b[0;32m----> 1\u001b[0m preprocessed_file \u001b[38;5;241m=\u001b[39m \u001b[43mpreprocess_audio\u001b[49m\u001b[43m(\u001b[49m\u001b[38;5;124;43m\"\u001b[39;49m\u001b[38;5;124;43mvocals/mdx_extra_q/2g1u3998_1743335826/vocals.mp3\u001b[39;49m\u001b[38;5;124;43m\"\u001b[39;49m\u001b[43m,\u001b[49m\u001b[43m \u001b[49m\u001b[38;5;124;43m\"\u001b[39;49m\u001b[38;5;124;43mfilter_waves/\u001b[39;49m\u001b[38;5;124;43m\"\u001b[39;49m\u001b[43m)\u001b[49m\n",
      "Cell \u001b[0;32mIn[20], line 19\u001b[0m, in \u001b[0;36mpreprocess_audio\u001b[0;34m(input_mp3_path, output_dir)\u001b[0m\n\u001b[1;32m     16\u001b[0m wav_path \u001b[38;5;241m=\u001b[39m convert_mp3_to_16k_wav(input_mp3_path, output_dir)\n\u001b[1;32m     18\u001b[0m \u001b[38;5;66;03m# Step 2: Apply DeepFilterNet\u001b[39;00m\n\u001b[0;32m---> 19\u001b[0m enhanced_wav_path \u001b[38;5;241m=\u001b[39m \u001b[43mrun_deepfilter_with_output_dir\u001b[49m\u001b[43m(\u001b[49m\u001b[43mwav_path\u001b[49m\u001b[43m,\u001b[49m\u001b[43m \u001b[49m\u001b[43moutput_dir\u001b[49m\u001b[43m)\u001b[49m\n\u001b[1;32m     21\u001b[0m \u001b[38;5;66;03m# Step 3: Remove the intermediate WAV file\u001b[39;00m\n\u001b[1;32m     22\u001b[0m \u001b[38;5;28;01mif\u001b[39;00m os\u001b[38;5;241m.\u001b[39mpath\u001b[38;5;241m.\u001b[39mexists(wav_path):\n",
      "Cell \u001b[0;32mIn[19], line 9\u001b[0m, in \u001b[0;36mrun_deepfilter_with_output_dir\u001b[0;34m(input_wav_path, output_dir)\u001b[0m\n\u001b[1;32m      2\u001b[0m os\u001b[38;5;241m.\u001b[39mmakedirs(output_dir, exist_ok\u001b[38;5;241m=\u001b[39m\u001b[38;5;28;01mTrue\u001b[39;00m)\n\u001b[1;32m      4\u001b[0m command \u001b[38;5;241m=\u001b[39m [\n\u001b[1;32m      5\u001b[0m     \u001b[38;5;124m\"\u001b[39m\u001b[38;5;124mdeepFilter\u001b[39m\u001b[38;5;124m\"\u001b[39m,\n\u001b[1;32m      6\u001b[0m     input_wav_path,\n\u001b[1;32m      7\u001b[0m     \u001b[38;5;124m\"\u001b[39m\u001b[38;5;124m--output-dir\u001b[39m\u001b[38;5;124m\"\u001b[39m, output_dir\n\u001b[1;32m      8\u001b[0m ]\n\u001b[0;32m----> 9\u001b[0m \u001b[43msubprocess\u001b[49m\u001b[38;5;241;43m.\u001b[39;49m\u001b[43mrun\u001b[49m\u001b[43m(\u001b[49m\u001b[43mcommand\u001b[49m\u001b[43m,\u001b[49m\u001b[43m \u001b[49m\u001b[43mcheck\u001b[49m\u001b[38;5;241;43m=\u001b[39;49m\u001b[38;5;28;43;01mTrue\u001b[39;49;00m\u001b[43m)\u001b[49m\n\u001b[1;32m     11\u001b[0m base_name \u001b[38;5;241m=\u001b[39m os\u001b[38;5;241m.\u001b[39mpath\u001b[38;5;241m.\u001b[39msplitext(os\u001b[38;5;241m.\u001b[39mpath\u001b[38;5;241m.\u001b[39mbasename(input_wav_path))[\u001b[38;5;241m0\u001b[39m]\n\u001b[1;32m     12\u001b[0m output_path \u001b[38;5;241m=\u001b[39m os\u001b[38;5;241m.\u001b[39mpath\u001b[38;5;241m.\u001b[39mjoin(output_dir, \u001b[38;5;124mf\u001b[39m\u001b[38;5;124m\"\u001b[39m\u001b[38;5;132;01m{\u001b[39;00mbase_name\u001b[38;5;132;01m}\u001b[39;00m\u001b[38;5;124m_enhanced.wav\u001b[39m\u001b[38;5;124m\"\u001b[39m)\n",
      "File \u001b[0;32m~/anaconda3/envs/research_env/lib/python3.10/subprocess.py:526\u001b[0m, in \u001b[0;36mrun\u001b[0;34m(input, capture_output, timeout, check, *popenargs, **kwargs)\u001b[0m\n\u001b[1;32m    524\u001b[0m     retcode \u001b[38;5;241m=\u001b[39m process\u001b[38;5;241m.\u001b[39mpoll()\n\u001b[1;32m    525\u001b[0m     \u001b[38;5;28;01mif\u001b[39;00m check \u001b[38;5;129;01mand\u001b[39;00m retcode:\n\u001b[0;32m--> 526\u001b[0m         \u001b[38;5;28;01mraise\u001b[39;00m CalledProcessError(retcode, process\u001b[38;5;241m.\u001b[39margs,\n\u001b[1;32m    527\u001b[0m                                  output\u001b[38;5;241m=\u001b[39mstdout, stderr\u001b[38;5;241m=\u001b[39mstderr)\n\u001b[1;32m    528\u001b[0m \u001b[38;5;28;01mreturn\u001b[39;00m CompletedProcess(process\u001b[38;5;241m.\u001b[39margs, retcode, stdout, stderr)\n",
      "\u001b[0;31mCalledProcessError\u001b[0m: Command '['deepFilter', 'filter_waves/vocals_16k.wav', '--output-dir', 'filter_waves/']' returned non-zero exit status 1."
     ]
    }
   ],
   "source": [
    "preprocessed_file = preprocess_audio(\"vocals/mdx_extra_q/2g1u3998_1743335826/vocals.mp3\", \"filter_waves/\")"
   ]
  },
  {
   "cell_type": "code",
   "execution_count": 29,
   "id": "032af524-4fad-4414-b7ee-95449ccc9be4",
   "metadata": {},
   "outputs": [],
   "source": [
    "import os\n",
    "import subprocess\n",
    "\n",
    "def run_deepfilter_with_output_dir(input_wav_path: str, output_dir: str):\n",
    "    \"\"\"\n",
    "    Runs DeepFilterNet (via CLI) on a WAV file and saves the enhanced file in a given output directory.\n",
    "\n",
    "    Args:\n",
    "        input_wav_path (str): Path to the input WAV file.\n",
    "        output_dir (str): Directory to store the enhanced WAV output.\n",
    "\n",
    "    Returns:\n",
    "        str: Path to the enhanced WAV file.\n",
    "    \"\"\"\n",
    "    os.makedirs(output_dir, exist_ok=True)\n",
    "\n",
    "    # Run deepFilter command with custom output directory\n",
    "    command = [\n",
    "        \"deepFilter\",\n",
    "        input_wav_path,\n",
    "        \"--output-dir\", output_dir\n",
    "    ]\n",
    "\n",
    "    print(f\"🚀 Running DeepFilterNet on: {input_wav_path}\")\n",
    "    subprocess.run(command, check=True)\n",
    "\n",
    "    # Expected output file name\n",
    "    base_name = os.path.splitext(os.path.basename(input_wav_path))[0]\n",
    "    output_path = os.path.join(output_dir, f\"{base_name}_enhanced.wav\")\n",
    "\n",
    "    print(f\"✅ Saved enhanced file to: {output_path}\")\n",
    "    return output_path\n"
   ]
  },
  {
   "cell_type": "code",
   "execution_count": 30,
   "id": "db13382f-ec03-4d49-86f7-2947d62f9379",
   "metadata": {},
   "outputs": [],
   "source": [
    "def convert_mp3_to_16k_wav(input_mp3_path: str, output_dir: str, output_filename: str = None) -> str:\n",
    "    os.makedirs(output_dir, exist_ok=True)\n",
    "\n",
    "    if output_filename is None:\n",
    "        output_filename = os.path.splitext(os.path.basename(input_mp3_path))[0]\n",
    "\n",
    "    output_path = os.path.join(output_dir, f\"{output_filename}_16k.wav\")\n",
    "\n",
    "    audio, sr = librosa.load(input_mp3_path, sr=16000)\n",
    "    sf.write(output_path, audio, samplerate=16000)\n",
    "\n",
    "    return output_path"
   ]
  },
  {
   "cell_type": "code",
   "execution_count": 31,
   "id": "52df6cb4-2938-4455-a718-c8e8de0419e4",
   "metadata": {},
   "outputs": [
    {
     "data": {
      "text/plain": [
       "'preprocess_waves/w4w31k34_1743399043_16k.wav'"
      ]
     },
     "execution_count": 31,
     "metadata": {},
     "output_type": "execute_result"
    }
   ],
   "source": [
    "convert_mp3_to_16k_wav('vocal_2/mdx_extra_q/0dz5hdnw_1743334548/vocals.mp3','preprocess_waves',generate_random_filename())"
   ]
  },
  {
   "cell_type": "code",
   "execution_count": 43,
   "id": "9e1bef6a-26c8-4561-848e-8926e752bf9f",
   "metadata": {},
   "outputs": [],
   "source": [
    "# run_deepfilter_with_output_dir('preprocess_waves/w4w31k34_1743399043_16k.wav','preprocess_waves')"
   ]
  },
  {
   "cell_type": "code",
   "execution_count": 38,
   "id": "f93beefe-d0b7-4ac5-aeea-2ed8590f92e1",
   "metadata": {},
   "outputs": [],
   "source": [
    "import librosa\n",
    "\n",
    "def get_audio_duration(audio_path: str) -> float:\n",
    "    \"\"\"\n",
    "    Returns the duration of an audio file in seconds.\n",
    "\n",
    "    Args:\n",
    "        audio_path (str): Path to the audio file.\n",
    "\n",
    "    Returns:\n",
    "        float: Duration in seconds.\n",
    "    \"\"\"\n",
    "    try:\n",
    "        audio, sr = librosa.load(audio_path, sr=None)  # Load with original sampling rate\n",
    "        duration = len(audio) / sr / 60.0\n",
    "        print(f\"⏱️ Duration of {audio_path}: {duration:.2f} seconds\")\n",
    "        return duration\n",
    "    except Exception as e:\n",
    "        print(f\"❌ Error reading audio: {e}\")\n",
    "        return 0.0"
   ]
  },
  {
   "cell_type": "code",
   "execution_count": null,
   "id": "1c0a10c0-c360-4de9-ae54-74b886994f30",
   "metadata": {},
   "outputs": [],
   "source": []
  }
 ],
 "metadata": {
  "kernelspec": {
   "display_name": "research_env",
   "language": "python",
   "name": "research_env"
  },
  "language_info": {
   "codemirror_mode": {
    "name": "ipython",
    "version": 3
   },
   "file_extension": ".py",
   "mimetype": "text/x-python",
   "name": "python",
   "nbconvert_exporter": "python",
   "pygments_lexer": "ipython3",
   "version": "3.10.16"
  }
 },
 "nbformat": 4,
 "nbformat_minor": 5
}
