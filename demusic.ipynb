{
 "cells": [
  {
   "cell_type": "code",
   "execution_count": 1,
   "id": "642575bc-9559-4d13-9542-db67f7d7f97a",
   "metadata": {},
   "outputs": [],
   "source": [
    "import os\n",
    "import subprocess\n",
    "from glob import glob\n",
    "from datetime import datetime\n",
    "import torchaudio\n",
    "\n",
    "def run_demucs_on_directory_safe(input_root: str, output_root: str, model: str = \"mdx_extra_q\", device: str = \"cuda\"):\n",
    "    \"\"\"\n",
    "    Applies Demucs to all .mp3 files in the input directory with crash-safe logging.\n",
    "    Skips files longer than 30 minutes.\n",
    "\n",
    "    Args:\n",
    "        input_root (str): Directory with .mp3 files (nested OK).\n",
    "        output_root (str): Where to store separated stems.\n",
    "        model (str): Demucs model name.\n",
    "        device (str): 'cuda' or 'cpu'\n",
    "    \"\"\"\n",
    "    # Get all .mp3 files\n",
    "    mp3_files = glob(os.path.join(input_root, \"**/*.mp3\"), recursive=True)\n",
    "    print(f\"🎧 Found {len(mp3_files)} MP3 files in '{input_root}'\")\n",
    "\n",
    "    # Create a log file for failures or skipped files\n",
    "    fail_log = os.path.join(output_root, \"demucs_failed_files.log\")\n",
    "    os.makedirs(output_root, exist_ok=True)\n",
    "    open(fail_log, \"w\").close()  # clear log\n",
    "\n",
    "    for mp3_path in mp3_files:\n",
    "        try:\n",
    "            # Check duration using torchaudio\n",
    "            info = torchaudio.info(mp3_path)\n",
    "            duration_minutes = info.num_frames / info.sample_rate / 60.0\n",
    "\n",
    "            if duration_minutes > 35:\n",
    "                print(f\"⏩ Skipping (>{duration_minutes:.2f} min): {mp3_path}\")\n",
    "                with open(fail_log, \"a\") as f:\n",
    "                    f.write(f\"{mp3_path} | Skipped (too long) | {duration_minutes:.2f} minutes\\n\")\n",
    "                continue\n",
    "\n",
    "            print(f\"🎙️  Processing: {mp3_path} ({duration_minutes:.2f} min)\")\n",
    "            subprocess.run([\n",
    "                \"demucs\",\n",
    "                \"-n\", model,\n",
    "                \"-d\", device,\n",
    "                \"--two-stems=vocals\",\n",
    "                \"--mp3\",\n",
    "                \"-o\", output_root,\n",
    "                mp3_path\n",
    "            ], check=True)\n",
    "            print(f\"✅ Done: {mp3_path}\")\n",
    "\n",
    "        except subprocess.CalledProcessError as e:\n",
    "            print(f\"❌ Error processing {mp3_path}: {e}\")\n",
    "            with open(fail_log, \"a\") as f:\n",
    "                f.write(f\"{mp3_path} | {datetime.now()} | {e}\\n\")\n",
    "\n",
    "        except Exception as ex:\n",
    "            print(f\"🔥 Unexpected error on {mp3_path}: {ex}\")\n",
    "            with open(fail_log, \"a\") as f:\n",
    "                f.write(f\"{mp3_path} | {datetime.now()} | {ex}\\n\")\n",
    "\n",
    "    print(f\"📄 Done! Skipped or failed files are logged in: {fail_log}\")\n"
   ]
  },
  {
   "cell_type": "code",
   "execution_count": null,
   "id": "597ed4bf-cb01-4f8c-8e44-37dc5dfcd168",
   "metadata": {},
   "outputs": [
    {
     "name": "stdout",
     "output_type": "stream",
     "text": [
      "🎧 Found 278 MP3 files in 'downloads'\n",
      "🎙️  Processing: downloads/urfzbbw3_1743338432.mp3 (33.28 min)\n",
      "Selected model is a bag of 4 models. You will see that many progress bars per track.\n",
      "Separated tracks will be stored in /root/tts_datamaker/vocal_1/mdx_extra_q\n",
      "Separating track downloads/urfzbbw3_1743338432.mp3\n"
     ]
    },
    {
     "name": "stderr",
     "output_type": "stream",
     "text": [
      "100%|██████████████████████████████████████████████████████████████████████| 2013.0/2013.0 [00:28<00:00, 71.12seconds/s]\n",
      "100%|██████████████████████████████████████████████████████████████████████| 2013.0/2013.0 [00:29<00:00, 68.48seconds/s]\n",
      "100%|██████████████████████████████████████████████████████████████████████| 2013.0/2013.0 [00:29<00:00, 68.21seconds/s]\n",
      "100%|██████████████████████████████████████████████████████████████████████| 2013.0/2013.0 [00:28<00:00, 70.85seconds/s]\n"
     ]
    },
    {
     "name": "stdout",
     "output_type": "stream",
     "text": [
      "✅ Done: downloads/urfzbbw3_1743338432.mp3\n",
      "🎙️  Processing: downloads/jzvjbu83_1743321347.mp3 (27.97 min)\n",
      "Selected model is a bag of 4 models. You will see that many progress bars per track.\n",
      "Separated tracks will be stored in /root/tts_datamaker/vocal_1/mdx_extra_q\n",
      "Separating track downloads/jzvjbu83_1743321347.mp3\n"
     ]
    },
    {
     "name": "stderr",
     "output_type": "stream",
     "text": [
      "100%|██████████████████████████████████████████████████████████████████████| 1683.0/1683.0 [00:24<00:00, 70.11seconds/s]\n",
      "100%|██████████████████████████████████████████████████████████████████████| 1683.0/1683.0 [00:24<00:00, 68.12seconds/s]\n",
      "100%|██████████████████████████████████████████████████████████████████████| 1683.0/1683.0 [00:24<00:00, 68.05seconds/s]\n",
      "100%|██████████████████████████████████████████████████████████████████████| 1683.0/1683.0 [00:23<00:00, 70.65seconds/s]\n"
     ]
    },
    {
     "name": "stdout",
     "output_type": "stream",
     "text": [
      "✅ Done: downloads/jzvjbu83_1743321347.mp3\n",
      "🎙️  Processing: downloads/elsczyj8_1743321370.mp3 (23.32 min)\n",
      "Selected model is a bag of 4 models. You will see that many progress bars per track.\n",
      "Separated tracks will be stored in /root/tts_datamaker/vocal_1/mdx_extra_q\n",
      "Separating track downloads/elsczyj8_1743321370.mp3\n"
     ]
    },
    {
     "name": "stderr",
     "output_type": "stream",
     "text": [
      "100%|██████████████████████████████████████████████████████████████████████| 1419.0/1419.0 [00:19<00:00, 70.98seconds/s]\n",
      "100%|██████████████████████████████████████████████████████████████████████| 1419.0/1419.0 [00:20<00:00, 68.95seconds/s]\n",
      "100%|██████████████████████████████████████████████████████████████████████| 1419.0/1419.0 [00:20<00:00, 68.71seconds/s]\n",
      "100%|██████████████████████████████████████████████████████████████████████| 1419.0/1419.0 [00:19<00:00, 71.06seconds/s]\n"
     ]
    },
    {
     "name": "stdout",
     "output_type": "stream",
     "text": [
      "✅ Done: downloads/elsczyj8_1743321370.mp3\n",
      "🎙️  Processing: downloads/bt85b6gg_1743320267.mp3 (24.27 min)\n",
      "Selected model is a bag of 4 models. You will see that many progress bars per track.\n",
      "Separated tracks will be stored in /root/tts_datamaker/vocal_1/mdx_extra_q\n",
      "Separating track downloads/bt85b6gg_1743320267.mp3\n"
     ]
    },
    {
     "name": "stderr",
     "output_type": "stream",
     "text": [
      "100%|██████████████████████████████████████████████████████████████████████| 1485.0/1485.0 [00:20<00:00, 71.64seconds/s]\n",
      "100%|██████████████████████████████████████████████████████████████████████| 1485.0/1485.0 [00:21<00:00, 69.34seconds/s]\n",
      "100%|██████████████████████████████████████████████████████████████████████| 1485.0/1485.0 [00:21<00:00, 69.14seconds/s]\n",
      "100%|██████████████████████████████████████████████████████████████████████| 1485.0/1485.0 [00:20<00:00, 71.35seconds/s]\n"
     ]
    },
    {
     "name": "stdout",
     "output_type": "stream",
     "text": [
      "✅ Done: downloads/bt85b6gg_1743320267.mp3\n",
      "🎙️  Processing: downloads/iwxvu68l_1743322538.mp3 (24.15 min)\n",
      "Selected model is a bag of 4 models. You will see that many progress bars per track.\n",
      "Separated tracks will be stored in /root/tts_datamaker/vocal_1/mdx_extra_q\n",
      "Separating track downloads/iwxvu68l_1743322538.mp3\n"
     ]
    },
    {
     "name": "stderr",
     "output_type": "stream",
     "text": [
      "100%|██████████████████████████████████████████████████████████████████████| 1452.0/1452.0 [00:20<00:00, 70.36seconds/s]\n",
      "100%|██████████████████████████████████████████████████████████████████████| 1452.0/1452.0 [00:21<00:00, 67.97seconds/s]\n",
      "100%|██████████████████████████████████████████████████████████████████████| 1452.0/1452.0 [00:21<00:00, 67.86seconds/s]\n",
      "100%|██████████████████████████████████████████████████████████████████████| 1452.0/1452.0 [00:20<00:00, 70.66seconds/s]\n"
     ]
    },
    {
     "name": "stdout",
     "output_type": "stream",
     "text": [
      "✅ Done: downloads/iwxvu68l_1743322538.mp3\n",
      "⏩ Skipping (>97.01 min): downloads/cidms914_1743320133.mp3\n",
      "🎙️  Processing: downloads/452tqewa_1743338775.mp3 (20.79 min)\n",
      "Selected model is a bag of 4 models. You will see that many progress bars per track.\n",
      "Separated tracks will be stored in /root/tts_datamaker/vocal_1/mdx_extra_q\n",
      "Separating track downloads/452tqewa_1743338775.mp3\n"
     ]
    },
    {
     "name": "stderr",
     "output_type": "stream",
     "text": [
      "100%|██████████████████████████████████████████████████████████████████████| 1254.0/1254.0 [00:17<00:00, 70.42seconds/s]\n",
      "100%|██████████████████████████████████████████████████████████████████████| 1254.0/1254.0 [00:18<00:00, 68.21seconds/s]\n",
      "100%|██████████████████████████████████████████████████████████████████████| 1254.0/1254.0 [00:18<00:00, 68.29seconds/s]\n",
      "100%|██████████████████████████████████████████████████████████████████████| 1254.0/1254.0 [00:17<00:00, 70.93seconds/s]\n"
     ]
    },
    {
     "name": "stdout",
     "output_type": "stream",
     "text": [
      "✅ Done: downloads/452tqewa_1743338775.mp3\n",
      "🎙️  Processing: downloads/3fqft94u_1743320685.mp3 (28.94 min)\n",
      "Selected model is a bag of 4 models. You will see that many progress bars per track.\n",
      "Separated tracks will be stored in /root/tts_datamaker/vocal_1/mdx_extra_q\n",
      "Separating track downloads/3fqft94u_1743320685.mp3\n"
     ]
    },
    {
     "name": "stderr",
     "output_type": "stream",
     "text": [
      "100%|██████████████████████████████████████████████████████████████████████| 1749.0/1749.0 [00:24<00:00, 70.75seconds/s]\n",
      "100%|██████████████████████████████████████████████████████████████████████| 1749.0/1749.0 [00:25<00:00, 68.25seconds/s]\n",
      "100%|██████████████████████████████████████████████████████████████████████| 1749.0/1749.0 [00:25<00:00, 68.07seconds/s]\n",
      "100%|██████████████████████████████████████████████████████████████████████| 1749.0/1749.0 [00:24<00:00, 70.59seconds/s]\n"
     ]
    },
    {
     "name": "stdout",
     "output_type": "stream",
     "text": [
      "✅ Done: downloads/3fqft94u_1743320685.mp3\n",
      "🎙️  Processing: downloads/5xgedse2_1743337471.mp3 (25.04 min)\n",
      "Selected model is a bag of 4 models. You will see that many progress bars per track.\n",
      "Separated tracks will be stored in /root/tts_datamaker/vocal_1/mdx_extra_q\n",
      "Separating track downloads/5xgedse2_1743337471.mp3\n"
     ]
    },
    {
     "name": "stderr",
     "output_type": "stream",
     "text": [
      "100%|██████████████████████████████████████████████████████████████████████| 1518.0/1518.0 [00:21<00:00, 70.89seconds/s]\n",
      "100%|██████████████████████████████████████████████████████████████████████| 1518.0/1518.0 [00:22<00:00, 68.75seconds/s]\n",
      "100%|██████████████████████████████████████████████████████████████████████| 1518.0/1518.0 [00:22<00:00, 68.48seconds/s]\n",
      "100%|██████████████████████████████████████████████████████████████████████| 1518.0/1518.0 [00:21<00:00, 71.04seconds/s]\n"
     ]
    },
    {
     "name": "stdout",
     "output_type": "stream",
     "text": [
      "✅ Done: downloads/5xgedse2_1743337471.mp3\n",
      "⏩ Skipping (>37.54 min): downloads/2yrrnrx8_1743334845.mp3\n",
      "⏩ Skipping (>71.44 min): downloads/yf2m5nqd_1743338376.mp3\n",
      "🎙️  Processing: downloads/b6fzuxvo_1743320671.mp3 (15.88 min)\n",
      "Selected model is a bag of 4 models. You will see that many progress bars per track.\n",
      "Separated tracks will be stored in /root/tts_datamaker/vocal_1/mdx_extra_q\n",
      "Separating track downloads/b6fzuxvo_1743320671.mp3\n"
     ]
    },
    {
     "name": "stderr",
     "output_type": "stream",
     "text": [
      "100%|████████████████████████████████████████████████████████████████████████| 957.0/957.0 [00:13<00:00, 69.07seconds/s]\n",
      "100%|████████████████████████████████████████████████████████████████████████| 957.0/957.0 [00:13<00:00, 68.84seconds/s]\n",
      "100%|████████████████████████████████████████████████████████████████████████| 957.0/957.0 [00:13<00:00, 68.60seconds/s]\n",
      "100%|████████████████████████████████████████████████████████████████████████| 957.0/957.0 [00:13<00:00, 71.11seconds/s]\n"
     ]
    },
    {
     "name": "stdout",
     "output_type": "stream",
     "text": [
      "✅ Done: downloads/b6fzuxvo_1743320671.mp3\n",
      "🎙️  Processing: downloads/sj8uvm7k_1743320755.mp3 (27.31 min)\n",
      "Selected model is a bag of 4 models. You will see that many progress bars per track.\n",
      "Separated tracks will be stored in /root/tts_datamaker/vocal_1/mdx_extra_q\n",
      "Separating track downloads/sj8uvm7k_1743320755.mp3\n"
     ]
    },
    {
     "name": "stderr",
     "output_type": "stream",
     "text": [
      "100%|██████████████████████████████████████████████████████████████████████| 1650.0/1650.0 [00:23<00:00, 70.62seconds/s]\n",
      "100%|██████████████████████████████████████████████████████████████████████| 1650.0/1650.0 [00:24<00:00, 68.34seconds/s]\n",
      "100%|██████████████████████████████████████████████████████████████████████| 1650.0/1650.0 [00:24<00:00, 68.11seconds/s]\n",
      "100%|██████████████████████████████████████████████████████████████████████| 1650.0/1650.0 [00:23<00:00, 70.81seconds/s]\n"
     ]
    },
    {
     "name": "stdout",
     "output_type": "stream",
     "text": [
      "✅ Done: downloads/sj8uvm7k_1743320755.mp3\n",
      "🎙️  Processing: downloads/5e8xisqr_1743338924.mp3 (14.70 min)\n",
      "Selected model is a bag of 4 models. You will see that many progress bars per track.\n",
      "Separated tracks will be stored in /root/tts_datamaker/vocal_1/mdx_extra_q\n",
      "Separating track downloads/5e8xisqr_1743338924.mp3\n"
     ]
    },
    {
     "name": "stderr",
     "output_type": "stream",
     "text": [
      "100%|████████████████████████████████████████████████████████████████████████| 891.0/891.0 [00:12<00:00, 70.55seconds/s]\n",
      "100%|████████████████████████████████████████████████████████████████████████| 891.0/891.0 [00:12<00:00, 69.12seconds/s]\n",
      "100%|████████████████████████████████████████████████████████████████████████| 891.0/891.0 [00:12<00:00, 68.93seconds/s]\n",
      "100%|████████████████████████████████████████████████████████████████████████| 891.0/891.0 [00:12<00:00, 71.56seconds/s]\n"
     ]
    },
    {
     "name": "stdout",
     "output_type": "stream",
     "text": [
      "✅ Done: downloads/5e8xisqr_1743338924.mp3\n",
      "🎙️  Processing: downloads/nsy9odj4_1743320707.mp3 (27.72 min)\n",
      "Selected model is a bag of 4 models. You will see that many progress bars per track.\n",
      "Separated tracks will be stored in /root/tts_datamaker/vocal_1/mdx_extra_q\n",
      "Separating track downloads/nsy9odj4_1743320707.mp3\n"
     ]
    },
    {
     "name": "stderr",
     "output_type": "stream",
     "text": [
      "100%|██████████████████████████████████████████████████████████████████████| 1683.0/1683.0 [00:23<00:00, 70.86seconds/s]\n",
      "100%|██████████████████████████████████████████████████████████████████████| 1683.0/1683.0 [00:24<00:00, 68.49seconds/s]\n",
      "100%|██████████████████████████████████████████████████████████████████████| 1683.0/1683.0 [00:24<00:00, 68.12seconds/s]\n",
      "100%|██████████████████████████████████████████████████████████████████████| 1683.0/1683.0 [00:23<00:00, 71.01seconds/s]\n"
     ]
    },
    {
     "name": "stdout",
     "output_type": "stream",
     "text": [
      "✅ Done: downloads/nsy9odj4_1743320707.mp3\n",
      "🎙️  Processing: downloads/2g1u3998_1743335826.mp3 (28.57 min)\n",
      "Selected model is a bag of 4 models. You will see that many progress bars per track.\n",
      "Separated tracks will be stored in /root/tts_datamaker/vocal_1/mdx_extra_q\n",
      "Separating track downloads/2g1u3998_1743335826.mp3\n"
     ]
    },
    {
     "name": "stderr",
     "output_type": "stream",
     "text": [
      "100%|██████████████████████████████████████████████████████████████████████| 1716.0/1716.0 [00:24<00:00, 70.31seconds/s]\n",
      "100%|██████████████████████████████████████████████████████████████████████| 1716.0/1716.0 [00:25<00:00, 68.10seconds/s]\n",
      "100%|██████████████████████████████████████████████████████████████████████| 1716.0/1716.0 [00:25<00:00, 67.81seconds/s]\n",
      "100%|██████████████████████████████████████████████████████████████████████| 1716.0/1716.0 [00:24<00:00, 70.21seconds/s]\n"
     ]
    },
    {
     "name": "stdout",
     "output_type": "stream",
     "text": [
      "✅ Done: downloads/2g1u3998_1743335826.mp3\n",
      "🎙️  Processing: downloads/kk27oins_1743337365.mp3 (21.48 min)\n",
      "Selected model is a bag of 4 models. You will see that many progress bars per track.\n",
      "Separated tracks will be stored in /root/tts_datamaker/vocal_1/mdx_extra_q\n",
      "Separating track downloads/kk27oins_1743337365.mp3\n"
     ]
    },
    {
     "name": "stderr",
     "output_type": "stream",
     "text": [
      "100%|██████████████████████████████████████████████████████████████████████| 1320.0/1320.0 [00:18<00:00, 71.79seconds/s]\n",
      "100%|██████████████████████████████████████████████████████████████████████| 1320.0/1320.0 [00:18<00:00, 69.51seconds/s]\n",
      "100%|██████████████████████████████████████████████████████████████████████| 1320.0/1320.0 [00:18<00:00, 69.60seconds/s]\n",
      "100%|██████████████████████████████████████████████████████████████████████| 1320.0/1320.0 [00:18<00:00, 72.24seconds/s]\n"
     ]
    },
    {
     "name": "stdout",
     "output_type": "stream",
     "text": [
      "✅ Done: downloads/kk27oins_1743337365.mp3\n",
      "🎙️  Processing: downloads/ma2sueb6_1743338863.mp3 (14.19 min)\n",
      "Selected model is a bag of 4 models. You will see that many progress bars per track.\n",
      "Separated tracks will be stored in /root/tts_datamaker/vocal_1/mdx_extra_q\n",
      "Separating track downloads/ma2sueb6_1743338863.mp3\n"
     ]
    },
    {
     "name": "stderr",
     "output_type": "stream",
     "text": [
      "100%|████████████████████████████████████████████████████████████████████████| 858.0/858.0 [00:12<00:00, 69.61seconds/s]\n",
      "100%|████████████████████████████████████████████████████████████████████████| 858.0/858.0 [00:12<00:00, 68.89seconds/s]\n",
      "100%|████████████████████████████████████████████████████████████████████████| 858.0/858.0 [00:12<00:00, 68.19seconds/s]\n",
      "100%|████████████████████████████████████████████████████████████████████████| 858.0/858.0 [00:12<00:00, 71.46seconds/s]\n"
     ]
    },
    {
     "name": "stdout",
     "output_type": "stream",
     "text": [
      "✅ Done: downloads/ma2sueb6_1743338863.mp3\n",
      "🎙️  Processing: downloads/k8klcy98_1743336666.mp3 (22.95 min)\n",
      "Selected model is a bag of 4 models. You will see that many progress bars per track.\n",
      "Separated tracks will be stored in /root/tts_datamaker/vocal_1/mdx_extra_q\n",
      "Separating track downloads/k8klcy98_1743336666.mp3\n"
     ]
    },
    {
     "name": "stderr",
     "output_type": "stream",
     "text": [
      "100%|██████████████████████████████████████████████████████████████████████| 1386.0/1386.0 [00:19<00:00, 70.51seconds/s]\n",
      "100%|██████████████████████████████████████████████████████████████████████| 1386.0/1386.0 [00:20<00:00, 68.13seconds/s]\n",
      "100%|██████████████████████████████████████████████████████████████████████| 1386.0/1386.0 [00:20<00:00, 68.22seconds/s]\n",
      "100%|██████████████████████████████████████████████████████████████████████| 1386.0/1386.0 [00:19<00:00, 70.87seconds/s]\n"
     ]
    },
    {
     "name": "stdout",
     "output_type": "stream",
     "text": [
      "✅ Done: downloads/k8klcy98_1743336666.mp3\n",
      "🎙️  Processing: downloads/h1eebk3z_1743320729.mp3 (32.15 min)\n",
      "Selected model is a bag of 4 models. You will see that many progress bars per track.\n",
      "Separated tracks will be stored in /root/tts_datamaker/vocal_1/mdx_extra_q\n",
      "Separating track downloads/h1eebk3z_1743320729.mp3\n"
     ]
    },
    {
     "name": "stderr",
     "output_type": "stream",
     "text": [
      "100%|██████████████████████████████████████████████████████████████████████| 1947.0/1947.0 [00:27<00:00, 70.81seconds/s]\n",
      "100%|██████████████████████████████████████████████████████████████████████| 1947.0/1947.0 [00:28<00:00, 68.41seconds/s]\n",
      "100%|██████████████████████████████████████████████████████████████████████| 1947.0/1947.0 [00:28<00:00, 68.16seconds/s]\n",
      "100%|██████████████████████████████████████████████████████████████████████| 1947.0/1947.0 [00:27<00:00, 70.83seconds/s]\n"
     ]
    },
    {
     "name": "stdout",
     "output_type": "stream",
     "text": [
      "✅ Done: downloads/h1eebk3z_1743320729.mp3\n",
      "🎙️  Processing: downloads/qf3pgihu_1743321687.mp3 (21.59 min)\n",
      "Selected model is a bag of 4 models. You will see that many progress bars per track.\n",
      "Separated tracks will be stored in /root/tts_datamaker/vocal_1/mdx_extra_q\n",
      "Separating track downloads/qf3pgihu_1743321687.mp3\n"
     ]
    },
    {
     "name": "stderr",
     "output_type": "stream",
     "text": [
      "100%|██████████████████████████████████████████████████████████████████████| 1320.0/1320.0 [00:18<00:00, 70.89seconds/s]\n",
      "100%|██████████████████████████████████████████████████████████████████████| 1320.0/1320.0 [00:19<00:00, 69.29seconds/s]\n",
      "100%|██████████████████████████████████████████████████████████████████████| 1320.0/1320.0 [00:19<00:00, 69.06seconds/s]\n",
      "100%|██████████████████████████████████████████████████████████████████████| 1320.0/1320.0 [00:18<00:00, 71.69seconds/s]\n"
     ]
    },
    {
     "name": "stdout",
     "output_type": "stream",
     "text": [
      "✅ Done: downloads/qf3pgihu_1743321687.mp3\n",
      "🎙️  Processing: downloads/rx81cf9f_1743321033.mp3 (29.45 min)\n",
      "Selected model is a bag of 4 models. You will see that many progress bars per track.\n",
      "Separated tracks will be stored in /root/tts_datamaker/vocal_1/mdx_extra_q\n",
      "Separating track downloads/rx81cf9f_1743321033.mp3\n"
     ]
    },
    {
     "name": "stderr",
     "output_type": "stream",
     "text": [
      "100%|██████████████████████████████████████████████████████████████████████| 1782.0/1782.0 [00:25<00:00, 70.34seconds/s]\n",
      "100%|██████████████████████████████████████████████████████████████████████| 1782.0/1782.0 [00:26<00:00, 68.17seconds/s]\n",
      "100%|██████████████████████████████████████████████████████████████████████| 1782.0/1782.0 [00:26<00:00, 67.97seconds/s]\n",
      "100%|██████████████████████████████████████████████████████████████████████| 1782.0/1782.0 [00:25<00:00, 70.79seconds/s]\n"
     ]
    },
    {
     "name": "stdout",
     "output_type": "stream",
     "text": [
      "✅ Done: downloads/rx81cf9f_1743321033.mp3\n",
      "🎙️  Processing: downloads/x6e491df_1743319841.mp3 (23.82 min)\n",
      "Selected model is a bag of 4 models. You will see that many progress bars per track.\n",
      "Separated tracks will be stored in /root/tts_datamaker/vocal_1/mdx_extra_q\n",
      "Separating track downloads/x6e491df_1743319841.mp3\n"
     ]
    },
    {
     "name": "stderr",
     "output_type": "stream",
     "text": [
      "100%|██████████████████████████████████████████████████████████████████████| 1452.0/1452.0 [00:20<00:00, 71.26seconds/s]\n",
      "100%|██████████████████████████████████████████████████████████████████████| 1452.0/1452.0 [00:21<00:00, 69.05seconds/s]\n",
      "100%|██████████████████████████████████████████████████████████████████████| 1452.0/1452.0 [00:21<00:00, 68.76seconds/s]\n",
      "100%|██████████████████████████████████████████████████████████████████████| 1452.0/1452.0 [00:20<00:00, 71.48seconds/s]\n"
     ]
    },
    {
     "name": "stdout",
     "output_type": "stream",
     "text": [
      "✅ Done: downloads/x6e491df_1743319841.mp3\n",
      "⏩ Skipping (>59.99 min): downloads/ofqj6jse_1743321763.mp3\n",
      "🎙️  Processing: downloads/tgfxjtol_1743322962.mp3 (27.34 min)\n",
      "Selected model is a bag of 4 models. You will see that many progress bars per track.\n",
      "Separated tracks will be stored in /root/tts_datamaker/vocal_1/mdx_extra_q\n",
      "Separating track downloads/tgfxjtol_1743322962.mp3\n"
     ]
    },
    {
     "name": "stderr",
     "output_type": "stream",
     "text": [
      "100%|██████████████████████████████████████████████████████████████████████| 1650.0/1650.0 [00:23<00:00, 70.61seconds/s]\n",
      "100%|██████████████████████████████████████████████████████████████████████| 1650.0/1650.0 [00:24<00:00, 68.17seconds/s]\n",
      "100%|██████████████████████████████████████████████████████████████████████| 1650.0/1650.0 [00:24<00:00, 68.11seconds/s]\n",
      "100%|██████████████████████████████████████████████████████████████████████| 1650.0/1650.0 [00:23<00:00, 70.53seconds/s]\n"
     ]
    },
    {
     "name": "stdout",
     "output_type": "stream",
     "text": [
      "✅ Done: downloads/tgfxjtol_1743322962.mp3\n",
      "🎙️  Processing: downloads/xb5r281v_1743321974.mp3 (32.54 min)\n",
      "Selected model is a bag of 4 models. You will see that many progress bars per track.\n",
      "Separated tracks will be stored in /root/tts_datamaker/vocal_1/mdx_extra_q\n",
      "Separating track downloads/xb5r281v_1743321974.mp3\n"
     ]
    },
    {
     "name": "stderr",
     "output_type": "stream",
     "text": [
      "100%|██████████████████████████████████████████████████████████████████████| 1980.0/1980.0 [00:27<00:00, 71.25seconds/s]\n",
      "100%|██████████████████████████████████████████████████████████████████████| 1980.0/1980.0 [00:28<00:00, 68.79seconds/s]\n",
      "100%|██████████████████████████████████████████████████████████████████████| 1980.0/1980.0 [00:28<00:00, 68.60seconds/s]\n",
      "100%|██████████████████████████████████████████████████████████████████████| 1980.0/1980.0 [00:27<00:00, 71.10seconds/s]\n"
     ]
    },
    {
     "name": "stdout",
     "output_type": "stream",
     "text": [
      "✅ Done: downloads/xb5r281v_1743321974.mp3\n",
      "🎙️  Processing: downloads/jlj81369_1743321528.mp3 (20.07 min)\n",
      "Selected model is a bag of 4 models. You will see that many progress bars per track.\n",
      "Separated tracks will be stored in /root/tts_datamaker/vocal_1/mdx_extra_q\n",
      "Separating track downloads/jlj81369_1743321528.mp3\n"
     ]
    },
    {
     "name": "stderr",
     "output_type": "stream",
     "text": [
      "100%|██████████████████████████████████████████████████████████████████████| 1221.0/1221.0 [00:17<00:00, 70.58seconds/s]\n",
      "100%|██████████████████████████████████████████████████████████████████████| 1221.0/1221.0 [00:17<00:00, 68.53seconds/s]\n",
      "100%|██████████████████████████████████████████████████████████████████████| 1221.0/1221.0 [00:17<00:00, 68.39seconds/s]\n",
      "100%|██████████████████████████████████████████████████████████████████████| 1221.0/1221.0 [00:17<00:00, 71.46seconds/s]\n"
     ]
    },
    {
     "name": "stdout",
     "output_type": "stream",
     "text": [
      "✅ Done: downloads/jlj81369_1743321528.mp3\n",
      "🎙️  Processing: downloads/4bckzlhs_1743338590.mp3 (21.18 min)\n",
      "Selected model is a bag of 4 models. You will see that many progress bars per track.\n",
      "Separated tracks will be stored in /root/tts_datamaker/vocal_1/mdx_extra_q\n",
      "Separating track downloads/4bckzlhs_1743338590.mp3\n"
     ]
    },
    {
     "name": "stderr",
     "output_type": "stream",
     "text": [
      "100%|██████████████████████████████████████████████████████████████████████| 1287.0/1287.0 [00:18<00:00, 71.22seconds/s]\n",
      "100%|██████████████████████████████████████████████████████████████████████| 1287.0/1287.0 [00:18<00:00, 68.83seconds/s]\n",
      "100%|██████████████████████████████████████████████████████████████████████| 1287.0/1287.0 [00:18<00:00, 68.64seconds/s]\n",
      "100%|██████████████████████████████████████████████████████████████████████| 1287.0/1287.0 [00:18<00:00, 71.36seconds/s]\n"
     ]
    },
    {
     "name": "stdout",
     "output_type": "stream",
     "text": [
      "✅ Done: downloads/4bckzlhs_1743338590.mp3\n",
      "🎙️  Processing: downloads/k6l2subp_1743320203.mp3 (24.60 min)\n",
      "Selected model is a bag of 4 models. You will see that many progress bars per track.\n",
      "Separated tracks will be stored in /root/tts_datamaker/vocal_1/mdx_extra_q\n",
      "Separating track downloads/k6l2subp_1743320203.mp3\n"
     ]
    },
    {
     "name": "stderr",
     "output_type": "stream",
     "text": [
      "100%|██████████████████████████████████████████████████████████████████████| 1485.0/1485.0 [00:21<00:00, 70.46seconds/s]\n",
      "100%|██████████████████████████████████████████████████████████████████████| 1485.0/1485.0 [00:21<00:00, 68.45seconds/s]\n",
      "100%|██████████████████████████████████████████████████████████████████████| 1485.0/1485.0 [00:21<00:00, 67.83seconds/s]\n",
      "100%|██████████████████████████████████████████████████████████████████████| 1485.0/1485.0 [00:20<00:00, 70.86seconds/s]\n"
     ]
    },
    {
     "name": "stdout",
     "output_type": "stream",
     "text": [
      "✅ Done: downloads/k6l2subp_1743320203.mp3\n",
      "🎙️  Processing: downloads/sosfrc7p_1743337518.mp3 (11.67 min)\n",
      "Selected model is a bag of 4 models. You will see that many progress bars per track.\n",
      "Separated tracks will be stored in /root/tts_datamaker/vocal_1/mdx_extra_q\n",
      "Separating track downloads/sosfrc7p_1743337518.mp3\n"
     ]
    },
    {
     "name": "stderr",
     "output_type": "stream",
     "text": [
      "100%|████████████████████████████████████████████████████████████████████████| 726.0/726.0 [00:10<00:00, 71.87seconds/s]\n",
      "100%|████████████████████████████████████████████████████████████████████████| 726.0/726.0 [00:10<00:00, 70.72seconds/s]\n",
      "100%|████████████████████████████████████████████████████████████████████████| 726.0/726.0 [00:10<00:00, 70.75seconds/s]\n",
      "100%|████████████████████████████████████████████████████████████████████████| 726.0/726.0 [00:09<00:00, 73.48seconds/s]\n"
     ]
    },
    {
     "name": "stdout",
     "output_type": "stream",
     "text": [
      "✅ Done: downloads/sosfrc7p_1743337518.mp3\n",
      "⏩ Skipping (>361.28 min): downloads/ob8qht6j_1743322132.mp3\n",
      "⏩ Skipping (>48.10 min): downloads/awtpjgvy_1743334703.mp3\n",
      "⏩ Skipping (>345.89 min): downloads/v4rwjs6g_1743336740.mp3\n",
      "🎙️  Processing: downloads/2u2nre39_1743336376.mp3 (34.18 min)\n",
      "Selected model is a bag of 4 models. You will see that many progress bars per track.\n",
      "Separated tracks will be stored in /root/tts_datamaker/vocal_1/mdx_extra_q\n",
      "Separating track downloads/2u2nre39_1743336376.mp3\n"
     ]
    },
    {
     "name": "stderr",
     "output_type": "stream",
     "text": [
      "100%|██████████████████████████████████████████████████████████████████████| 2079.0/2079.0 [00:29<00:00, 71.49seconds/s]\n",
      "100%|██████████████████████████████████████████████████████████████████████| 2079.0/2079.0 [00:30<00:00, 68.82seconds/s]\n",
      "100%|██████████████████████████████████████████████████████████████████████| 2079.0/2079.0 [00:30<00:00, 68.35seconds/s]\n",
      "100%|██████████████████████████████████████████████████████████████████████| 2079.0/2079.0 [00:29<00:00, 71.01seconds/s]\n"
     ]
    },
    {
     "name": "stdout",
     "output_type": "stream",
     "text": [
      "✅ Done: downloads/2u2nre39_1743336376.mp3\n",
      "🎙️  Processing: downloads/yk1xntr9_1743337322.mp3 (27.94 min)\n",
      "Selected model is a bag of 4 models. You will see that many progress bars per track.\n",
      "Separated tracks will be stored in /root/tts_datamaker/vocal_1/mdx_extra_q\n",
      "Separating track downloads/yk1xntr9_1743337322.mp3\n"
     ]
    },
    {
     "name": "stderr",
     "output_type": "stream",
     "text": [
      "100%|██████████████████████████████████████████████████████████████████████| 1683.0/1683.0 [00:23<00:00, 71.04seconds/s]\n",
      "100%|██████████████████████████████████████████████████████████████████████| 1683.0/1683.0 [00:24<00:00, 68.34seconds/s]\n",
      "100%|██████████████████████████████████████████████████████████████████████| 1683.0/1683.0 [00:24<00:00, 68.12seconds/s]\n",
      "100%|██████████████████████████████████████████████████████████████████████| 1683.0/1683.0 [00:23<00:00, 70.79seconds/s]\n"
     ]
    },
    {
     "name": "stdout",
     "output_type": "stream",
     "text": [
      "✅ Done: downloads/yk1xntr9_1743337322.mp3\n",
      "🎙️  Processing: downloads/j8hrz8v2_1743323088.mp3 (32.69 min)\n",
      "Selected model is a bag of 4 models. You will see that many progress bars per track.\n",
      "Separated tracks will be stored in /root/tts_datamaker/vocal_1/mdx_extra_q\n",
      "Separating track downloads/j8hrz8v2_1743323088.mp3\n"
     ]
    },
    {
     "name": "stderr",
     "output_type": "stream",
     "text": [
      "100%|██████████████████████████████████████████████████████████████████████| 1980.0/1980.0 [00:27<00:00, 70.85seconds/s]\n",
      "100%|██████████████████████████████████████████████████████████████████████| 1980.0/1980.0 [00:28<00:00, 68.33seconds/s]\n",
      "100%|██████████████████████████████████████████████████████████████████████| 1980.0/1980.0 [00:29<00:00, 67.92seconds/s]\n",
      "100%|██████████████████████████████████████████████████████████████████████| 1980.0/1980.0 [00:27<00:00, 70.83seconds/s]\n"
     ]
    },
    {
     "name": "stdout",
     "output_type": "stream",
     "text": [
      "✅ Done: downloads/j8hrz8v2_1743323088.mp3\n",
      "🎙️  Processing: downloads/taunnvl3_1743323320.mp3 (22.76 min)\n",
      "Selected model is a bag of 4 models. You will see that many progress bars per track.\n",
      "Separated tracks will be stored in /root/tts_datamaker/vocal_1/mdx_extra_q\n",
      "Separating track downloads/taunnvl3_1743323320.mp3\n"
     ]
    },
    {
     "name": "stderr",
     "output_type": "stream",
     "text": [
      "100%|██████████████████████████████████████████████████████████████████████| 1386.0/1386.0 [00:19<00:00, 71.05seconds/s]\n",
      "100%|██████████████████████████████████████████████████████████████████████| 1386.0/1386.0 [00:20<00:00, 69.02seconds/s]\n",
      "100%|██████████████████████████████████████████████████████████████████████| 1386.0/1386.0 [00:20<00:00, 68.73seconds/s]\n",
      "100%|██████████████████████████████████████████████████████████████████████| 1386.0/1386.0 [00:19<00:00, 71.45seconds/s]\n"
     ]
    },
    {
     "name": "stdout",
     "output_type": "stream",
     "text": [
      "✅ Done: downloads/taunnvl3_1743323320.mp3\n",
      "🎙️  Processing: downloads/ecb3l2ki_1743321591.mp3 (26.21 min)\n",
      "Selected model is a bag of 4 models. You will see that many progress bars per track.\n",
      "Separated tracks will be stored in /root/tts_datamaker/vocal_1/mdx_extra_q\n",
      "Separating track downloads/ecb3l2ki_1743321591.mp3\n"
     ]
    },
    {
     "name": "stderr",
     "output_type": "stream",
     "text": [
      "100%|██████████████████████████████████████████████████████████████████████| 1584.0/1584.0 [00:22<00:00, 70.73seconds/s]\n",
      "100%|██████████████████████████████████████████████████████████████████████| 1584.0/1584.0 [00:23<00:00, 68.40seconds/s]\n",
      "100%|██████████████████████████████████████████████████████████████████████| 1584.0/1584.0 [00:23<00:00, 68.28seconds/s]\n",
      "100%|██████████████████████████████████████████████████████████████████████| 1584.0/1584.0 [00:22<00:00, 70.90seconds/s]\n"
     ]
    },
    {
     "name": "stdout",
     "output_type": "stream",
     "text": [
      "✅ Done: downloads/ecb3l2ki_1743321591.mp3\n",
      "🎙️  Processing: downloads/u7gdl0zo_1743323171.mp3 (32.58 min)\n",
      "Selected model is a bag of 4 models. You will see that many progress bars per track.\n",
      "Separated tracks will be stored in /root/tts_datamaker/vocal_1/mdx_extra_q\n",
      "Separating track downloads/u7gdl0zo_1743323171.mp3\n"
     ]
    },
    {
     "name": "stderr",
     "output_type": "stream",
     "text": [
      "100%|██████████████████████████████████████████████████████████████████████| 1980.0/1980.0 [00:27<00:00, 71.33seconds/s]\n",
      "100%|██████████████████████████████████████████████████████████████████████| 1980.0/1980.0 [00:28<00:00, 68.67seconds/s]\n",
      "100%|██████████████████████████████████████████████████████████████████████| 1980.0/1980.0 [00:29<00:00, 68.14seconds/s]\n",
      "100%|██████████████████████████████████████████████████████████████████████| 1980.0/1980.0 [00:27<00:00, 71.09seconds/s]\n"
     ]
    },
    {
     "name": "stdout",
     "output_type": "stream",
     "text": [
      "✅ Done: downloads/u7gdl0zo_1743323171.mp3\n",
      "🎙️  Processing: downloads/gbnado1j_1743322985.mp3 (32.51 min)\n",
      "Selected model is a bag of 4 models. You will see that many progress bars per track.\n",
      "Separated tracks will be stored in /root/tts_datamaker/vocal_1/mdx_extra_q\n",
      "Separating track downloads/gbnado1j_1743322985.mp3\n"
     ]
    },
    {
     "name": "stderr",
     "output_type": "stream",
     "text": [
      "100%|██████████████████████████████████████████████████████████████████████| 1980.0/1980.0 [00:27<00:00, 71.12seconds/s]\n",
      "100%|██████████████████████████████████████████████████████████████████████| 1980.0/1980.0 [00:28<00:00, 68.91seconds/s]\n",
      "100%|██████████████████████████████████████████████████████████████████████| 1980.0/1980.0 [00:28<00:00, 68.47seconds/s]\n",
      "100%|██████████████████████████████████████████████████████████████████████| 1980.0/1980.0 [00:27<00:00, 71.34seconds/s]\n"
     ]
    },
    {
     "name": "stdout",
     "output_type": "stream",
     "text": [
      "✅ Done: downloads/gbnado1j_1743322985.mp3\n",
      "🎙️  Processing: downloads/pljvhm0f_1743322461.mp3 (29.63 min)\n",
      "Selected model is a bag of 4 models. You will see that many progress bars per track.\n",
      "Separated tracks will be stored in /root/tts_datamaker/vocal_1/mdx_extra_q\n",
      "Separating track downloads/pljvhm0f_1743322461.mp3\n"
     ]
    },
    {
     "name": "stderr",
     "output_type": "stream",
     "text": [
      "100%|██████████████████████████████████████████████████████████████████████| 1782.0/1782.0 [00:25<00:00, 70.82seconds/s]\n",
      "100%|██████████████████████████████████████████████████████████████████████| 1782.0/1782.0 [00:26<00:00, 68.13seconds/s]\n",
      "100%|██████████████████████████████████████████████████████████████████████| 1782.0/1782.0 [00:26<00:00, 67.79seconds/s]\n",
      "100%|██████████████████████████████████████████████████████████████████████| 1782.0/1782.0 [00:25<00:00, 70.26seconds/s]\n"
     ]
    },
    {
     "name": "stdout",
     "output_type": "stream",
     "text": [
      "✅ Done: downloads/pljvhm0f_1743322461.mp3\n",
      "🎙️  Processing: downloads/9nj72415_1743335911.mp3 (18.09 min)\n",
      "Selected model is a bag of 4 models. You will see that many progress bars per track.\n",
      "Separated tracks will be stored in /root/tts_datamaker/vocal_1/mdx_extra_q\n",
      "Separating track downloads/9nj72415_1743335911.mp3\n"
     ]
    },
    {
     "name": "stderr",
     "output_type": "stream",
     "text": [
      "100%|██████████████████████████████████████████████████████████████████████| 1089.0/1089.0 [00:15<00:00, 69.88seconds/s]\n",
      "100%|██████████████████████████████████████████████████████████████████████| 1089.0/1089.0 [00:15<00:00, 68.28seconds/s]\n",
      "100%|██████████████████████████████████████████████████████████████████████| 1089.0/1089.0 [00:15<00:00, 68.52seconds/s]\n",
      "100%|██████████████████████████████████████████████████████████████████████| 1089.0/1089.0 [00:15<00:00, 71.05seconds/s]\n"
     ]
    },
    {
     "name": "stdout",
     "output_type": "stream",
     "text": [
      "✅ Done: downloads/9nj72415_1743335911.mp3\n",
      "🎙️  Processing: downloads/wmc1y4ki_1743334450.mp3 (25.52 min)\n",
      "Selected model is a bag of 4 models. You will see that many progress bars per track.\n",
      "Separated tracks will be stored in /root/tts_datamaker/vocal_1/mdx_extra_q\n",
      "Separating track downloads/wmc1y4ki_1743334450.mp3\n"
     ]
    },
    {
     "name": "stderr",
     "output_type": "stream",
     "text": [
      "100%|██████████████████████████████████████████████████████████████████████| 1551.0/1551.0 [00:21<00:00, 71.18seconds/s]\n",
      "100%|██████████████████████████████████████████████████████████████████████| 1551.0/1551.0 [00:22<00:00, 68.69seconds/s]\n",
      "100%|██████████████████████████████████████████████████████████████████████| 1551.0/1551.0 [00:22<00:00, 68.47seconds/s]\n",
      "100%|██████████████████████████████████████████████████████████████████████| 1551.0/1551.0 [00:21<00:00, 70.96seconds/s]\n"
     ]
    },
    {
     "name": "stdout",
     "output_type": "stream",
     "text": [
      "✅ Done: downloads/wmc1y4ki_1743334450.mp3\n",
      "⏩ Skipping (>56.57 min): downloads/tya0yzg1_1743322767.mp3\n",
      "🎙️  Processing: downloads/197cmx7h_1743323359.mp3 (28.12 min)\n",
      "Selected model is a bag of 4 models. You will see that many progress bars per track.\n",
      "Separated tracks will be stored in /root/tts_datamaker/vocal_1/mdx_extra_q\n",
      "Separating track downloads/197cmx7h_1743323359.mp3\n"
     ]
    },
    {
     "name": "stderr",
     "output_type": "stream",
     "text": [
      "100%|██████████████████████████████████████████████████████████████████████| 1716.0/1716.0 [00:24<00:00, 71.41seconds/s]\n",
      "100%|██████████████████████████████████████████████████████████████████████| 1716.0/1716.0 [00:24<00:00, 68.76seconds/s]\n",
      "100%|██████████████████████████████████████████████████████████████████████| 1716.0/1716.0 [00:25<00:00, 68.61seconds/s]\n",
      "100%|██████████████████████████████████████████████████████████████████████| 1716.0/1716.0 [00:23<00:00, 71.50seconds/s]\n"
     ]
    },
    {
     "name": "stdout",
     "output_type": "stream",
     "text": [
      "✅ Done: downloads/197cmx7h_1743323359.mp3\n",
      "⏩ Skipping (>49.56 min): downloads/mmkknq8q_1743334873.mp3\n",
      "🎙️  Processing: downloads/lovmxml3_1743336176.mp3 (22.94 min)\n",
      "Selected model is a bag of 4 models. You will see that many progress bars per track.\n",
      "Separated tracks will be stored in /root/tts_datamaker/vocal_1/mdx_extra_q\n",
      "Separating track downloads/lovmxml3_1743336176.mp3\n"
     ]
    },
    {
     "name": "stderr",
     "output_type": "stream",
     "text": [
      "100%|██████████████████████████████████████████████████████████████████████| 1386.0/1386.0 [00:19<00:00, 70.54seconds/s]\n",
      "100%|██████████████████████████████████████████████████████████████████████| 1386.0/1386.0 [00:20<00:00, 68.59seconds/s]\n",
      "100%|██████████████████████████████████████████████████████████████████████| 1386.0/1386.0 [00:20<00:00, 68.40seconds/s]\n",
      "100%|██████████████████████████████████████████████████████████████████████| 1386.0/1386.0 [00:19<00:00, 71.05seconds/s]\n"
     ]
    },
    {
     "name": "stdout",
     "output_type": "stream",
     "text": [
      "✅ Done: downloads/lovmxml3_1743336176.mp3\n",
      "🎙️  Processing: downloads/zfobfu1y_1743338517.mp3 (21.69 min)\n",
      "Selected model is a bag of 4 models. You will see that many progress bars per track.\n",
      "Separated tracks will be stored in /root/tts_datamaker/vocal_1/mdx_extra_q\n",
      "Separating track downloads/zfobfu1y_1743338517.mp3\n"
     ]
    },
    {
     "name": "stderr",
     "output_type": "stream",
     "text": [
      "100%|██████████████████████████████████████████████████████████████████████| 1320.0/1320.0 [00:18<00:00, 70.83seconds/s]\n",
      "100%|██████████████████████████████████████████████████████████████████████| 1320.0/1320.0 [00:19<00:00, 68.95seconds/s]\n",
      "100%|██████████████████████████████████████████████████████████████████████| 1320.0/1320.0 [00:19<00:00, 68.43seconds/s]\n",
      "100%|██████████████████████████████████████████████████████████████████████| 1320.0/1320.0 [00:18<00:00, 71.42seconds/s]\n"
     ]
    },
    {
     "name": "stdout",
     "output_type": "stream",
     "text": [
      "✅ Done: downloads/zfobfu1y_1743338517.mp3\n",
      "🎙️  Processing: downloads/lwrn6pi6_1743321955.mp3 (23.89 min)\n",
      "Selected model is a bag of 4 models. You will see that many progress bars per track.\n",
      "Separated tracks will be stored in /root/tts_datamaker/vocal_1/mdx_extra_q\n",
      "Separating track downloads/lwrn6pi6_1743321955.mp3\n"
     ]
    },
    {
     "name": "stderr",
     "output_type": "stream",
     "text": [
      "100%|██████████████████████████████████████████████████████████████████████| 1452.0/1452.0 [00:20<00:00, 70.57seconds/s]\n",
      "100%|██████████████████████████████████████████████████████████████████████| 1452.0/1452.0 [00:21<00:00, 68.79seconds/s]\n",
      "100%|██████████████████████████████████████████████████████████████████████| 1452.0/1452.0 [00:21<00:00, 68.62seconds/s]\n",
      "100%|██████████████████████████████████████████████████████████████████████| 1452.0/1452.0 [00:20<00:00, 71.25seconds/s]\n"
     ]
    },
    {
     "name": "stdout",
     "output_type": "stream",
     "text": [
      "✅ Done: downloads/lwrn6pi6_1743321955.mp3\n",
      "🎙️  Processing: downloads/sqs3v2i4_1743322652.mp3 (30.38 min)\n",
      "Selected model is a bag of 4 models. You will see that many progress bars per track.\n",
      "Separated tracks will be stored in /root/tts_datamaker/vocal_1/mdx_extra_q\n",
      "Separating track downloads/sqs3v2i4_1743322652.mp3\n"
     ]
    },
    {
     "name": "stderr",
     "output_type": "stream",
     "text": [
      "100%|██████████████████████████████████████████████████████████████████████| 1848.0/1848.0 [00:25<00:00, 71.30seconds/s]\n",
      "100%|██████████████████████████████████████████████████████████████████████| 1848.0/1848.0 [00:26<00:00, 68.71seconds/s]\n",
      "100%|██████████████████████████████████████████████████████████████████████| 1848.0/1848.0 [00:27<00:00, 68.35seconds/s]\n",
      "100%|██████████████████████████████████████████████████████████████████████| 1848.0/1848.0 [00:25<00:00, 71.13seconds/s]\n"
     ]
    },
    {
     "name": "stdout",
     "output_type": "stream",
     "text": [
      "✅ Done: downloads/sqs3v2i4_1743322652.mp3\n",
      "🎙️  Processing: downloads/zys9pb3x_1743320246.mp3 (25.02 min)\n",
      "Selected model is a bag of 4 models. You will see that many progress bars per track.\n",
      "Separated tracks will be stored in /root/tts_datamaker/vocal_1/mdx_extra_q\n",
      "Separating track downloads/zys9pb3x_1743320246.mp3\n"
     ]
    },
    {
     "name": "stderr",
     "output_type": "stream",
     "text": [
      "100%|██████████████████████████████████████████████████████████████████████| 1518.0/1518.0 [00:21<00:00, 70.94seconds/s]\n",
      "100%|██████████████████████████████████████████████████████████████████████| 1518.0/1518.0 [00:22<00:00, 68.75seconds/s]\n",
      "100%|██████████████████████████████████████████████████████████████████████| 1518.0/1518.0 [00:22<00:00, 68.54seconds/s]\n",
      "100%|██████████████████████████████████████████████████████████████████████| 1518.0/1518.0 [00:21<00:00, 71.16seconds/s]\n"
     ]
    },
    {
     "name": "stdout",
     "output_type": "stream",
     "text": [
      "✅ Done: downloads/zys9pb3x_1743320246.mp3\n",
      "🎙️  Processing: downloads/tbxkang9_1743320283.mp3 (32.47 min)\n",
      "Selected model is a bag of 4 models. You will see that many progress bars per track.\n",
      "Separated tracks will be stored in /root/tts_datamaker/vocal_1/mdx_extra_q\n",
      "Separating track downloads/tbxkang9_1743320283.mp3\n"
     ]
    },
    {
     "name": "stderr",
     "output_type": "stream",
     "text": [
      "100%|██████████████████████████████████████████████████████████████████████| 1980.0/1980.0 [00:27<00:00, 71.70seconds/s]\n",
      "100%|██████████████████████████████████████████████████████████████████████| 1980.0/1980.0 [00:28<00:00, 68.92seconds/s]\n",
      "100%|██████████████████████████████████████████████████████████████████████| 1980.0/1980.0 [00:28<00:00, 68.37seconds/s]\n",
      "100%|██████████████████████████████████████████████████████████████████████| 1980.0/1980.0 [00:27<00:00, 71.37seconds/s]\n"
     ]
    },
    {
     "name": "stdout",
     "output_type": "stream",
     "text": [
      "✅ Done: downloads/tbxkang9_1743320283.mp3\n",
      "🎙️  Processing: downloads/isifgcs5_1743338727.mp3 (16.78 min)\n",
      "Selected model is a bag of 4 models. You will see that many progress bars per track.\n",
      "Separated tracks will be stored in /root/tts_datamaker/vocal_1/mdx_extra_q\n",
      "Separating track downloads/isifgcs5_1743338727.mp3\n"
     ]
    },
    {
     "name": "stderr",
     "output_type": "stream",
     "text": [
      "100%|██████████████████████████████████████████████████████████████████████| 1023.0/1023.0 [00:14<00:00, 71.60seconds/s]\n",
      "100%|██████████████████████████████████████████████████████████████████████| 1023.0/1023.0 [00:14<00:00, 69.39seconds/s]\n",
      "100%|██████████████████████████████████████████████████████████████████████| 1023.0/1023.0 [00:14<00:00, 69.20seconds/s]\n",
      "100%|██████████████████████████████████████████████████████████████████████| 1023.0/1023.0 [00:14<00:00, 71.83seconds/s]\n"
     ]
    },
    {
     "name": "stdout",
     "output_type": "stream",
     "text": [
      "✅ Done: downloads/isifgcs5_1743338727.mp3\n",
      "🎙️  Processing: downloads/xnprtlzu_1743338456.mp3 (29.64 min)\n",
      "Selected model is a bag of 4 models. You will see that many progress bars per track.\n",
      "Separated tracks will be stored in /root/tts_datamaker/vocal_1/mdx_extra_q\n",
      "Separating track downloads/xnprtlzu_1743338456.mp3\n"
     ]
    },
    {
     "name": "stderr",
     "output_type": "stream",
     "text": [
      "100%|██████████████████████████████████████████████████████████████████████| 1782.0/1782.0 [00:25<00:00, 70.35seconds/s]\n",
      "100%|██████████████████████████████████████████████████████████████████████| 1782.0/1782.0 [00:26<00:00, 68.10seconds/s]\n",
      "100%|██████████████████████████████████████████████████████████████████████| 1782.0/1782.0 [00:26<00:00, 67.86seconds/s]\n",
      "100%|██████████████████████████████████████████████████████████████████████| 1782.0/1782.0 [00:25<00:00, 70.49seconds/s]\n"
     ]
    },
    {
     "name": "stdout",
     "output_type": "stream",
     "text": [
      "✅ Done: downloads/xnprtlzu_1743338456.mp3\n",
      "🎙️  Processing: downloads/01bnm6a4_1743336451.mp3 (33.88 min)\n",
      "Selected model is a bag of 4 models. You will see that many progress bars per track.\n",
      "Separated tracks will be stored in /root/tts_datamaker/vocal_1/mdx_extra_q\n",
      "Separating track downloads/01bnm6a4_1743336451.mp3\n"
     ]
    },
    {
     "name": "stderr",
     "output_type": "stream",
     "text": [
      "100%|██████████████████████████████████████████████████████████████████████| 2046.0/2046.0 [00:28<00:00, 71.10seconds/s]\n",
      "100%|██████████████████████████████████████████████████████████████████████| 2046.0/2046.0 [00:29<00:00, 68.27seconds/s]\n",
      "100%|██████████████████████████████████████████████████████████████████████| 2046.0/2046.0 [00:30<00:00, 67.92seconds/s]\n",
      "100%|██████████████████████████████████████████████████████████████████████| 2046.0/2046.0 [00:28<00:00, 70.71seconds/s]\n"
     ]
    },
    {
     "name": "stdout",
     "output_type": "stream",
     "text": [
      "✅ Done: downloads/01bnm6a4_1743336451.mp3\n",
      "🎙️  Processing: downloads/abysmkh0_1743335998.mp3 (21.42 min)\n",
      "Selected model is a bag of 4 models. You will see that many progress bars per track.\n",
      "Separated tracks will be stored in /root/tts_datamaker/vocal_1/mdx_extra_q\n",
      "Separating track downloads/abysmkh0_1743335998.mp3\n"
     ]
    },
    {
     "name": "stderr",
     "output_type": "stream",
     "text": [
      "100%|██████████████████████████████████████████████████████████████████████| 1287.0/1287.0 [00:18<00:00, 70.74seconds/s]\n",
      "100%|██████████████████████████████████████████████████████████████████████| 1122.0/1122.0 [00:15<00:00, 70.64seconds/s]\n",
      "100%|██████████████████████████████████████████████████████████████████████| 1122.0/1122.0 [00:16<00:00, 68.79seconds/s]\n",
      "100%|██████████████████████████████████████████████████████████████████████| 1122.0/1122.0 [00:16<00:00, 68.46seconds/s]\n",
      "100%|██████████████████████████████████████████████████████████████████████| 1122.0/1122.0 [00:15<00:00, 71.34seconds/s]\n"
     ]
    },
    {
     "name": "stdout",
     "output_type": "stream",
     "text": [
      "✅ Done: downloads/y9lulsy9_1743321655.mp3\n",
      "🎙️  Processing: downloads/8ahflwx0_1743320012.mp3 (27.54 min)\n",
      "Selected model is a bag of 4 models. You will see that many progress bars per track.\n",
      "Separated tracks will be stored in /root/tts_datamaker/vocal_1/mdx_extra_q\n",
      "Separating track downloads/8ahflwx0_1743320012.mp3\n"
     ]
    },
    {
     "name": "stderr",
     "output_type": "stream",
     "text": [
      "100%|██████████████████████████████████████████████████████████████████████| 1683.0/1683.0 [00:23<00:00, 71.06seconds/s]\n",
      "100%|██████████████████████████████████████████████████████████████████████| 1683.0/1683.0 [00:24<00:00, 69.16seconds/s]\n",
      "100%|██████████████████████████████████████████████████████████████████████| 1683.0/1683.0 [00:24<00:00, 68.73seconds/s]\n",
      "100%|██████████████████████████████████████████████████████████████████████| 1683.0/1683.0 [00:23<00:00, 71.29seconds/s]\n"
     ]
    },
    {
     "name": "stdout",
     "output_type": "stream",
     "text": [
      "✅ Done: downloads/8ahflwx0_1743320012.mp3\n",
      "⏩ Skipping (>42.24 min): downloads/h2ql9mu0_1743323055.mp3\n",
      "🎙️  Processing: downloads/hhzxis4b_1743322633.mp3 (23.36 min)\n",
      "Selected model is a bag of 4 models. You will see that many progress bars per track.\n",
      "Separated tracks will be stored in /root/tts_datamaker/vocal_1/mdx_extra_q\n",
      "Separating track downloads/hhzxis4b_1743322633.mp3\n"
     ]
    },
    {
     "name": "stderr",
     "output_type": "stream",
     "text": [
      "100%|██████████████████████████████████████████████████████████████████████| 1419.0/1419.0 [00:19<00:00, 71.24seconds/s]\n",
      "100%|██████████████████████████████████████████████████████████████████████| 1419.0/1419.0 [00:20<00:00, 68.80seconds/s]\n",
      "100%|██████████████████████████████████████████████████████████████████████| 1419.0/1419.0 [00:20<00:00, 68.36seconds/s]\n",
      "100%|██████████████████████████████████████████████████████████████████████| 1419.0/1419.0 [00:19<00:00, 71.25seconds/s]\n"
     ]
    },
    {
     "name": "stdout",
     "output_type": "stream",
     "text": [
      "✅ Done: downloads/hhzxis4b_1743322633.mp3\n",
      "🎙️  Processing: downloads/swi70xcg_1743338960.mp3 (2.58 min)\n",
      "Selected model is a bag of 4 models. You will see that many progress bars per track.\n",
      "Separated tracks will be stored in /root/tts_datamaker/vocal_1/mdx_extra_q\n",
      "Separating track downloads/swi70xcg_1743338960.mp3\n"
     ]
    },
    {
     "name": "stderr",
     "output_type": "stream",
     "text": [
      "100%|████████████████████████████████████████████████████████████████████████| 165.0/165.0 [00:02<00:00, 72.14seconds/s]\n",
      "100%|████████████████████████████████████████████████████████████████████████| 165.0/165.0 [00:02<00:00, 73.56seconds/s]\n",
      "100%|████████████████████████████████████████████████████████████████████████| 165.0/165.0 [00:02<00:00, 73.16seconds/s]\n",
      "100%|████████████████████████████████████████████████████████████████████████| 165.0/165.0 [00:02<00:00, 74.98seconds/s]\n"
     ]
    },
    {
     "name": "stdout",
     "output_type": "stream",
     "text": [
      "✅ Done: downloads/swi70xcg_1743338960.mp3\n",
      "🎙️  Processing: downloads/uug50cbz_1743337508.mp3 (12.10 min)\n",
      "Selected model is a bag of 4 models. You will see that many progress bars per track.\n",
      "Separated tracks will be stored in /root/tts_datamaker/vocal_1/mdx_extra_q\n",
      "Separating track downloads/uug50cbz_1743337508.mp3\n"
     ]
    },
    {
     "name": "stderr",
     "output_type": "stream",
     "text": [
      "100%|████████████████████████████████████████████████████████████████████████| 759.0/759.0 [00:10<00:00, 72.89seconds/s]\n",
      "100%|████████████████████████████████████████████████████████████████████████| 759.0/759.0 [00:10<00:00, 71.34seconds/s]\n",
      "100%|████████████████████████████████████████████████████████████████████████| 759.0/759.0 [00:10<00:00, 71.37seconds/s]\n",
      "100%|████████████████████████████████████████████████████████████████████████| 759.0/759.0 [00:10<00:00, 74.15seconds/s]\n"
     ]
    },
    {
     "name": "stdout",
     "output_type": "stream",
     "text": [
      "✅ Done: downloads/uug50cbz_1743337508.mp3\n",
      "🎙️  Processing: downloads/lapjkoh0_1743337712.mp3 (28.64 min)\n",
      "Selected model is a bag of 4 models. You will see that many progress bars per track.\n",
      "Separated tracks will be stored in /root/tts_datamaker/vocal_1/mdx_extra_q\n",
      "Separating track downloads/lapjkoh0_1743337712.mp3\n"
     ]
    },
    {
     "name": "stderr",
     "output_type": "stream",
     "text": [
      "100%|██████████████████████████████████████████████████████████████████████| 1749.0/1749.0 [00:24<00:00, 71.20seconds/s]\n",
      "100%|██████████████████████████████████████████████████████████████████████| 1749.0/1749.0 [00:25<00:00, 68.88seconds/s]\n",
      "100%|██████████████████████████████████████████████████████████████████████| 1749.0/1749.0 [00:25<00:00, 68.87seconds/s]\n",
      "100%|██████████████████████████████████████████████████████████████████████| 1749.0/1749.0 [00:24<00:00, 71.50seconds/s]\n"
     ]
    },
    {
     "name": "stdout",
     "output_type": "stream",
     "text": [
      "✅ Done: downloads/lapjkoh0_1743337712.mp3\n",
      "🎙️  Processing: downloads/b7uzt4q2_1743319749.mp3 (29.17 min)\n",
      "Selected model is a bag of 4 models. You will see that many progress bars per track.\n",
      "Separated tracks will be stored in /root/tts_datamaker/vocal_1/mdx_extra_q\n",
      "Separating track downloads/b7uzt4q2_1743319749.mp3\n"
     ]
    },
    {
     "name": "stderr",
     "output_type": "stream",
     "text": [
      "100%|██████████████████████████████████████████████████████████████████████| 1782.0/1782.0 [00:24<00:00, 71.55seconds/s]\n",
      "100%|██████████████████████████████████████████████████████████████████████| 1782.0/1782.0 [00:25<00:00, 68.88seconds/s]\n",
      "100%|██████████████████████████████████████████████████████████████████████| 1782.0/1782.0 [00:25<00:00, 68.88seconds/s]\n",
      "100%|██████████████████████████████████████████████████████████████████████| 1782.0/1782.0 [00:24<00:00, 71.44seconds/s]\n"
     ]
    },
    {
     "name": "stdout",
     "output_type": "stream",
     "text": [
      "✅ Done: downloads/b7uzt4q2_1743319749.mp3\n",
      "⏩ Skipping (>50.27 min): downloads/0dz5hdnw_1743334548.mp3\n",
      "🎙️  Processing: downloads/3vgqcc05_1743337777.mp3 (25.95 min)\n",
      "Selected model is a bag of 4 models. You will see that many progress bars per track.\n",
      "Separated tracks will be stored in /root/tts_datamaker/vocal_1/mdx_extra_q\n",
      "Separating track downloads/3vgqcc05_1743337777.mp3\n"
     ]
    },
    {
     "name": "stderr",
     "output_type": "stream",
     "text": [
      "100%|██████████████████████████████████████████████████████████████████████| 1584.0/1584.0 [00:22<00:00, 71.46seconds/s]\n",
      "100%|██████████████████████████████████████████████████████████████████████| 1584.0/1584.0 [00:23<00:00, 68.83seconds/s]\n",
      "100%|██████████████████████████████████████████████████████████████████████| 1584.0/1584.0 [00:22<00:00, 68.90seconds/s]\n",
      "100%|██████████████████████████████████████████████████████████████████████| 1584.0/1584.0 [00:22<00:00, 71.47seconds/s]\n"
     ]
    },
    {
     "name": "stdout",
     "output_type": "stream",
     "text": [
      "✅ Done: downloads/3vgqcc05_1743337777.mp3\n",
      "🎙️  Processing: downloads/7fyrwax0_1743335013.mp3 (33.06 min)\n",
      "Selected model is a bag of 4 models. You will see that many progress bars per track.\n",
      "Separated tracks will be stored in /root/tts_datamaker/vocal_1/mdx_extra_q\n",
      "Separating track downloads/7fyrwax0_1743335013.mp3\n"
     ]
    },
    {
     "name": "stderr",
     "output_type": "stream",
     "text": [
      "100%|██████████████████████████████████████████████████████████████████████| 2013.0/2013.0 [00:28<00:00, 71.37seconds/s]\n",
      "100%|██████████████████████████████████████████████████████████████████████| 2013.0/2013.0 [00:29<00:00, 68.76seconds/s]\n",
      "100%|██████████████████████████████████████████████████████████████████████| 2013.0/2013.0 [00:29<00:00, 68.46seconds/s]\n",
      "100%|██████████████████████████████████████████████████████████████████████| 2013.0/2013.0 [00:28<00:00, 71.36seconds/s]\n"
     ]
    },
    {
     "name": "stdout",
     "output_type": "stream",
     "text": [
      "✅ Done: downloads/7fyrwax0_1743335013.mp3\n",
      "🎙️  Processing: downloads/3kdhybex_1743321806.mp3 (30.52 min)\n",
      "Selected model is a bag of 4 models. You will see that many progress bars per track.\n",
      "Separated tracks will be stored in /root/tts_datamaker/vocal_1/mdx_extra_q\n",
      "Separating track downloads/3kdhybex_1743321806.mp3\n"
     ]
    },
    {
     "name": "stderr",
     "output_type": "stream",
     "text": [
      "100%|██████████████████████████████████████████████████████████████████████| 1848.0/1848.0 [00:26<00:00, 70.88seconds/s]\n",
      "100%|██████████████████████████████████████████████████████████████████████| 1848.0/1848.0 [00:26<00:00, 68.49seconds/s]\n",
      "100%|██████████████████████████████████████████████████████████████████████| 1848.0/1848.0 [00:27<00:00, 68.12seconds/s]\n",
      "100%|██████████████████████████████████████████████████████████████████████| 1848.0/1848.0 [00:26<00:00, 70.67seconds/s]\n"
     ]
    },
    {
     "name": "stdout",
     "output_type": "stream",
     "text": [
      "✅ Done: downloads/3kdhybex_1743321806.mp3\n",
      "🎙️  Processing: downloads/49ik4g6k_1743319771.mp3 (25.15 min)\n",
      "Selected model is a bag of 4 models. You will see that many progress bars per track.\n",
      "Separated tracks will be stored in /root/tts_datamaker/vocal_1/mdx_extra_q\n",
      "Separating track downloads/49ik4g6k_1743319771.mp3\n"
     ]
    },
    {
     "name": "stderr",
     "output_type": "stream",
     "text": [
      "100%|██████████████████████████████████████████████████████████████████████| 1518.0/1518.0 [00:21<00:00, 70.41seconds/s]\n",
      "100%|██████████████████████████████████████████████████████████████████████| 1518.0/1518.0 [00:22<00:00, 68.61seconds/s]\n",
      "100%|██████████████████████████████████████████████████████████████████████| 1518.0/1518.0 [00:22<00:00, 68.28seconds/s]\n",
      "100%|██████████████████████████████████████████████████████████████████████| 1518.0/1518.0 [00:21<00:00, 70.91seconds/s]\n"
     ]
    },
    {
     "name": "stdout",
     "output_type": "stream",
     "text": [
      "✅ Done: downloads/49ik4g6k_1743319771.mp3\n",
      "⏩ Skipping (>37.95 min): downloads/05dcecof_1743321545.mp3\n",
      "🎙️  Processing: downloads/vylpck35_1743334470.mp3 (23.06 min)\n",
      "Selected model is a bag of 4 models. You will see that many progress bars per track.\n",
      "Separated tracks will be stored in /root/tts_datamaker/vocal_1/mdx_extra_q\n",
      "Separating track downloads/vylpck35_1743334470.mp3\n"
     ]
    },
    {
     "name": "stderr",
     "output_type": "stream",
     "text": [
      "100%|██████████████████████████████████████████████████████████████████████| 1386.0/1386.0 [00:19<00:00, 69.93seconds/s]\n",
      "100%|██████████████████████████████████████████████████████████████████████| 1386.0/1386.0 [00:20<00:00, 68.28seconds/s]\n",
      "100%|██████████████████████████████████████████████████████████████████████| 1386.0/1386.0 [00:20<00:00, 67.80seconds/s]\n",
      "100%|██████████████████████████████████████████████████████████████████████| 1386.0/1386.0 [00:19<00:00, 70.72seconds/s]\n"
     ]
    },
    {
     "name": "stdout",
     "output_type": "stream",
     "text": [
      "✅ Done: downloads/vylpck35_1743334470.mp3\n",
      "🎙️  Processing: downloads/5aix128x_1743338912.mp3 (17.71 min)\n",
      "Selected model is a bag of 4 models. You will see that many progress bars per track.\n",
      "Separated tracks will be stored in /root/tts_datamaker/vocal_1/mdx_extra_q\n",
      "Separating track downloads/5aix128x_1743338912.mp3\n"
     ]
    },
    {
     "name": "stderr",
     "output_type": "stream",
     "text": [
      "100%|██████████████████████████████████████████████████████████████████████| 1089.0/1089.0 [00:15<00:00, 70.98seconds/s]\n",
      "100%|██████████████████████████████████████████████████████████████████████| 1089.0/1089.0 [00:15<00:00, 69.90seconds/s]\n",
      "100%|██████████████████████████████████████████████████████████████████████| 1089.0/1089.0 [00:15<00:00, 69.72seconds/s]\n",
      "100%|██████████████████████████████████████████████████████████████████████| 1089.0/1089.0 [00:15<00:00, 72.32seconds/s]\n"
     ]
    },
    {
     "name": "stdout",
     "output_type": "stream",
     "text": [
      "✅ Done: downloads/5aix128x_1743338912.mp3\n",
      "🎙️  Processing: downloads/hv0jq1o7_1743337854.mp3 (31.50 min)\n",
      "Selected model is a bag of 4 models. You will see that many progress bars per track.\n",
      "Separated tracks will be stored in /root/tts_datamaker/vocal_1/mdx_extra_q\n",
      "Separating track downloads/hv0jq1o7_1743337854.mp3\n"
     ]
    },
    {
     "name": "stderr",
     "output_type": "stream",
     "text": [
      "100%|██████████████████████████████████████████████████████████████████████| 1914.0/1914.0 [00:27<00:00, 70.89seconds/s]\n",
      "100%|██████████████████████████████████████████████████████████████████████| 1914.0/1914.0 [00:28<00:00, 68.35seconds/s]\n",
      "100%|██████████████████████████████████████████████████████████████████████| 1914.0/1914.0 [00:28<00:00, 68.36seconds/s]\n",
      "100%|██████████████████████████████████████████████████████████████████████| 1914.0/1914.0 [00:26<00:00, 71.08seconds/s]\n"
     ]
    },
    {
     "name": "stdout",
     "output_type": "stream",
     "text": [
      "✅ Done: downloads/hv0jq1o7_1743337854.mp3\n",
      "🎙️  Processing: downloads/ixvlzo3s_1743336311.mp3 (26.31 min)\n",
      "Selected model is a bag of 4 models. You will see that many progress bars per track.\n",
      "Separated tracks will be stored in /root/tts_datamaker/vocal_1/mdx_extra_q\n",
      "Separating track downloads/ixvlzo3s_1743336311.mp3\n"
     ]
    },
    {
     "name": "stderr",
     "output_type": "stream",
     "text": [
      "100%|██████████████████████████████████████████████████████████████████████| 1584.0/1584.0 [00:22<00:00, 70.77seconds/s]\n",
      "100%|██████████████████████████████████████████████████████████████████████| 1584.0/1584.0 [00:23<00:00, 68.17seconds/s]\n",
      "100%|██████████████████████████████████████████████████████████████████████| 1584.0/1584.0 [00:23<00:00, 68.13seconds/s]\n",
      "100%|██████████████████████████████████████████████████████████████████████| 1584.0/1584.0 [00:22<00:00, 70.79seconds/s]\n"
     ]
    },
    {
     "name": "stdout",
     "output_type": "stream",
     "text": [
      "✅ Done: downloads/ixvlzo3s_1743336311.mp3\n",
      "🎙️  Processing: downloads/pkroqeuk_1743322809.mp3 (31.01 min)\n",
      "Selected model is a bag of 4 models. You will see that many progress bars per track.\n",
      "Separated tracks will be stored in /root/tts_datamaker/vocal_1/mdx_extra_q\n",
      "Separating track downloads/pkroqeuk_1743322809.mp3\n"
     ]
    },
    {
     "name": "stderr",
     "output_type": "stream",
     "text": [
      "100%|██████████████████████████████████████████████████████████████████████| 1881.0/1881.0 [00:26<00:00, 70.94seconds/s]\n",
      "100%|██████████████████████████████████████████████████████████████████████| 1881.0/1881.0 [00:27<00:00, 68.59seconds/s]\n",
      "100%|██████████████████████████████████████████████████████████████████████| 1881.0/1881.0 [00:27<00:00, 68.35seconds/s]\n",
      "100%|██████████████████████████████████████████████████████████████████████| 1881.0/1881.0 [00:26<00:00, 70.98seconds/s]\n"
     ]
    },
    {
     "name": "stdout",
     "output_type": "stream",
     "text": [
      "✅ Done: downloads/pkroqeuk_1743322809.mp3\n",
      "🎙️  Processing: downloads/8c476s8y_1743319881.mp3 (27.47 min)\n",
      "Selected model is a bag of 4 models. You will see that many progress bars per track.\n",
      "Separated tracks will be stored in /root/tts_datamaker/vocal_1/mdx_extra_q\n",
      "Separating track downloads/8c476s8y_1743319881.mp3\n"
     ]
    },
    {
     "name": "stderr",
     "output_type": "stream",
     "text": [
      "100%|██████████████████████████████████████████████████████████████████████| 1650.0/1650.0 [00:23<00:00, 70.50seconds/s]\n",
      "100%|██████████████████████████████████████████████████████████████████████| 1650.0/1650.0 [00:24<00:00, 68.19seconds/s]\n",
      "  4%|██▉                                                                     | 66.0/1650.0 [00:00<00:23, 67.29seconds/s]IOPub message rate exceeded.\n",
      "The Jupyter server will temporarily stop sending output\n",
      "to the client in order to avoid crashing it.\n",
      "To change this limit, set the config variable\n",
      "`--ServerApp.iopub_msg_rate_limit`.\n",
      "\n",
      "Current values:\n",
      "ServerApp.iopub_msg_rate_limit=1000.0 (msgs/sec)\n",
      "ServerApp.rate_limit_window=3.0 (secs)\n",
      "\n"
     ]
    },
    {
     "name": "stdout",
     "output_type": "stream",
     "text": [
      "✅ Done: downloads/rwgqltdv_1743338192.mp3\n",
      "🎙️  Processing: downloads/v1mnr1u2_1743320114.mp3 (24.15 min)\n",
      "Selected model is a bag of 4 models. You will see that many progress bars per track.\n",
      "Separated tracks will be stored in /root/tts_datamaker/vocal_1/mdx_extra_q\n",
      "Separating track downloads/v1mnr1u2_1743320114.mp3\n"
     ]
    },
    {
     "name": "stderr",
     "output_type": "stream",
     "text": [
      "100%|██████████████████████████████████████████████████████████████████████| 1452.0/1452.0 [00:20<00:00, 70.38seconds/s]\n",
      "100%|██████████████████████████████████████████████████████████████████████| 1452.0/1452.0 [00:21<00:00, 68.33seconds/s]\n",
      "100%|██████████████████████████████████████████████████████████████████████| 1452.0/1452.0 [00:21<00:00, 68.07seconds/s]\n",
      "100%|██████████████████████████████████████████████████████████████████████| 1452.0/1452.0 [00:20<00:00, 70.73seconds/s]\n"
     ]
    }
   ],
   "source": [
    "run_demucs_on_directory_safe(\n",
    "    input_root=\"downloads\",\n",
    "    output_root=\"vocal_1\",\n",
    "    model=\"mdx_extra_q\"\n",
    ")"
   ]
  },
  {
   "cell_type": "code",
   "execution_count": 5,
   "id": "4eee2664-8365-41ef-9936-a5f7c02eb3bd",
   "metadata": {},
   "outputs": [
    {
     "name": "stdout",
     "output_type": "stream",
     "text": [
      "DONE\n"
     ]
    }
   ],
   "source": [
    "print('DONE')"
   ]
  },
  {
   "cell_type": "code",
   "execution_count": 6,
   "id": "d6668d60-9766-4ed0-b41a-9195f192a5ba",
   "metadata": {},
   "outputs": [],
   "source": [
    "files_under_90_mins = [\n",
    "    \"downloads/2yrrnrx8_1743334845.mp3\",\n",
    "    \"downloads/yf2m5nqd_1743338376.mp3\",\n",
    "    \"downloads/ofqj6jse_1743321763.mp3\",\n",
    "    \"downloads/awtpjgvy_1743334703.mp3\",\n",
    "    \"downloads/tya0yzg1_1743322767.mp3\",\n",
    "    \"downloads/mmkknq8q_1743334873.mp3\",\n",
    "    \"downloads/xoqqkvd4_1743335728.mp3\",\n",
    "    \"downloads/h2ql9mu0_1743323055.mp3\",\n",
    "    \"downloads/0dz5hdnw_1743334548.mp3\",\n",
    "    \"downloads/05dcecof_1743321545.mp3\",\n",
    "    \"downloads/2dnxxjoi_1743334738.mp3\",\n",
    "    \"downloads/d5ozl2k8_1743337381.mp3\",\n",
    "    \"downloads/iqnlb9hl_1743322429.mp3\",\n",
    "    \"downloads/fkab1u02_1743322606.mp3\",\n",
    "    \"downloads/wwcp6roc_1743319973.mp3\",\n",
    "    \"downloads/mduxww2h_1743320785.mp3\",\n",
    "    \"downloads/6eyc7foi_1743323380.mp3\",\n",
    "    \"downloads/jcqj6yf0_1743323219.mp3\",\n",
    "    \"downloads/8c9bvzf8_1743322676.mp3\",\n",
    "    \"downloads/obw4cfex_1743323114.mp3\",\n",
    "    \"downloads/2bmrmu97_1743319813.mp3\",\n",
    "    \"downloads/4eqgxuzy_1743335782.mp3\",\n",
    "    \"downloads/fqzi9eg7_1743336347.mp3\",\n",
    "    \"downloads/bj5kxi57_1743334790.mp3\",\n",
    "    \"downloads/h21yi5gj_1743334927.mp3\",\n",
    "    \"downloads/gip99xgh_1743338294.mp3\",\n",
    "    \"downloads/v247pqdl_1743336500.mp3\"\n",
    "]\n"
   ]
  },
  {
   "cell_type": "code",
   "execution_count": 10,
   "id": "72faf801-435e-4fd6-b684-59f403bfd2f8",
   "metadata": {},
   "outputs": [],
   "source": [
    "import os\n",
    "import subprocess\n",
    "from glob import glob\n",
    "from datetime import datetime\n",
    "import torchaudio\n",
    "\n",
    "def run_demucs_on_longfiles(long_file_list, output_root: str, model: str = \"mdx_extra_q\", device: str = \"cuda\"):\n",
    "    \"\"\"\n",
    "    Applies Demucs to all .mp3 files in the input directory with crash-safe logging.\n",
    "    Skips files longer than 30 minutes.\n",
    "\n",
    "    Args:\n",
    "        input_root (str): Directory with .mp3 files (nested OK).\n",
    "        output_root (str): Where to store separated stems.\n",
    "        model (str): Demucs model name.\n",
    "        device (str): 'cuda' or 'cpu'\n",
    "    \"\"\"\n",
    "    # Get all .mp3 files\n",
    "    mp3_files = long_file_list\n",
    "    print(f\"🎧 Found {len(mp3_files)} MP3 files \")\n",
    "\n",
    "    # Create a log file for failures or skipped files\n",
    "    fail_log = os.path.join(output_root, \"demucs_failed_files.log\")\n",
    "    os.makedirs(output_root, exist_ok=True)\n",
    "    open(fail_log, \"w\").close()  # clear log\n",
    "\n",
    "    for mp3_path in mp3_files:\n",
    "        try:\n",
    "            # Check duration using torchaudio\n",
    "            info = torchaudio.info(mp3_path)\n",
    "            duration_minutes = info.num_frames / info.sample_rate / 60.0\n",
    "\n",
    "            if duration_minutes > 90:\n",
    "                print(f\"⏩ Skipping (>{duration_minutes:.2f} min): {mp3_path}\")\n",
    "                with open(fail_log, \"a\") as f:\n",
    "                    f.write(f\"{mp3_path} | Skipped (too long) | {duration_minutes:.2f} minutes\\n\")\n",
    "                continue\n",
    "\n",
    "            print(f\"🎙️  Processing: {mp3_path} ({duration_minutes:.2f} min)\")\n",
    "            subprocess.run([\n",
    "                \"demucs\",\n",
    "                \"-n\", model,\n",
    "                \"-d\", device,\n",
    "                \"--two-stems=vocals\",\n",
    "                \"--mp3\",\n",
    "                \"-o\", output_root,\n",
    "                mp3_path\n",
    "            ], check=True)\n",
    "            print(f\"✅ Done: {mp3_path}\")\n",
    "\n",
    "        except subprocess.CalledProcessError as e:\n",
    "            print(f\"❌ Error processing {mp3_path}: {e}\")\n",
    "            with open(fail_log, \"a\") as f:\n",
    "                f.write(f\"{mp3_path} | {datetime.now()} | {e}\\n\")\n",
    "\n",
    "        except Exception as ex:\n",
    "            print(f\"🔥 Unexpected error on {mp3_path}: {ex}\")\n",
    "            with open(fail_log, \"a\") as f:\n",
    "                f.write(f\"{mp3_path} | {datetime.now()} | {ex}\\n\")\n",
    "\n",
    "    print(f\"📄 Done! Skipped or failed files are logged in: {fail_log}\")\n"
   ]
  },
  {
   "cell_type": "code",
   "execution_count": 11,
   "id": "d9defbc4-fe22-4e8e-b5ac-c716fea998b5",
   "metadata": {},
   "outputs": [
    {
     "name": "stdout",
     "output_type": "stream",
     "text": [
      "🎧 Found 27 MP3 files \n",
      "🎙️  Processing: downloads/2yrrnrx8_1743334845.mp3 (37.54 min)\n",
      "Selected model is a bag of 4 models. You will see that many progress bars per track.\n",
      "Separated tracks will be stored in /root/tts_datamaker/vocal_2/mdx_extra_q\n",
      "Separating track downloads/2yrrnrx8_1743334845.mp3\n"
     ]
    },
    {
     "name": "stderr",
     "output_type": "stream",
     "text": [
      "100%|██████████████████████████████████████████████████████████████████████| 2277.0/2277.0 [00:31<00:00, 71.32seconds/s]\n",
      "100%|██████████████████████████████████████████████████████████████████████| 2277.0/2277.0 [00:33<00:00, 68.83seconds/s]\n",
      "100%|██████████████████████████████████████████████████████████████████████| 2277.0/2277.0 [00:33<00:00, 68.41seconds/s]\n",
      "100%|██████████████████████████████████████████████████████████████████████| 2277.0/2277.0 [00:32<00:00, 70.59seconds/s]\n"
     ]
    },
    {
     "name": "stdout",
     "output_type": "stream",
     "text": [
      "✅ Done: downloads/2yrrnrx8_1743334845.mp3\n",
      "🎙️  Processing: downloads/yf2m5nqd_1743338376.mp3 (71.44 min)\n",
      "Selected model is a bag of 4 models. You will see that many progress bars per track.\n",
      "Separated tracks will be stored in /root/tts_datamaker/vocal_2/mdx_extra_q\n",
      "Separating track downloads/yf2m5nqd_1743338376.mp3\n"
     ]
    },
    {
     "name": "stderr",
     "output_type": "stream",
     "text": [
      "100%|██████████████████████████████████████████████████████████████████████| 4290.0/4290.0 [01:01<00:00, 70.21seconds/s]\n",
      "100%|██████████████████████████████████████████████████████████████████████| 4290.0/4290.0 [01:03<00:00, 67.38seconds/s]\n",
      "100%|██████████████████████████████████████████████████████████████████████| 4290.0/4290.0 [01:03<00:00, 67.39seconds/s]\n",
      "100%|██████████████████████████████████████████████████████████████████████| 4290.0/4290.0 [01:01<00:00, 69.97seconds/s]\n",
      "100%|██████████████████████████████████████████████████████████████████████| 3630.0/3630.0 [00:51<00:00, 70.95seconds/s]\n",
      "100%|██████████████████████████████████████████████████████████████████████| 3630.0/3630.0 [00:53<00:00, 68.07seconds/s]\n",
      "100%|██████████████████████████████████████████████████████████████████████| 3630.0/3630.0 [00:53<00:00, 67.84seconds/s]\n",
      "100%|██████████████████████████████████████████████████████████████████████| 3630.0/3630.0 [00:51<00:00, 70.56seconds/s]\n"
     ]
    },
    {
     "name": "stdout",
     "output_type": "stream",
     "text": [
      "✅ Done: downloads/ofqj6jse_1743321763.mp3\n",
      "🎙️  Processing: downloads/awtpjgvy_1743334703.mp3 (48.10 min)\n",
      "Selected model is a bag of 4 models. You will see that many progress bars per track.\n",
      "Separated tracks will be stored in /root/tts_datamaker/vocal_2/mdx_extra_q\n",
      "Separating track downloads/awtpjgvy_1743334703.mp3\n"
     ]
    },
    {
     "name": "stderr",
     "output_type": "stream",
     "text": [
      "100%|██████████████████████████████████████████████████████████████████████| 2904.0/2904.0 [00:41<00:00, 70.25seconds/s]\n",
      "100%|██████████████████████████████████████████████████████████████████████| 2904.0/2904.0 [00:42<00:00, 67.93seconds/s]\n",
      "100%|██████████████████████████████████████████████████████████████████████| 2904.0/2904.0 [00:42<00:00, 67.83seconds/s]\n",
      "100%|██████████████████████████████████████████████████████████████████████| 2904.0/2904.0 [00:41<00:00, 70.40seconds/s]\n"
     ]
    },
    {
     "name": "stdout",
     "output_type": "stream",
     "text": [
      "✅ Done: downloads/awtpjgvy_1743334703.mp3\n",
      "🎙️  Processing: downloads/tya0yzg1_1743322767.mp3 (56.57 min)\n",
      "Selected model is a bag of 4 models. You will see that many progress bars per track.\n",
      "Separated tracks will be stored in /root/tts_datamaker/vocal_2/mdx_extra_q\n",
      "Separating track downloads/tya0yzg1_1743322767.mp3\n"
     ]
    },
    {
     "name": "stderr",
     "output_type": "stream",
     "text": [
      "100%|██████████████████████████████████████████████████████████████████████| 3399.0/3399.0 [00:48<00:00, 70.20seconds/s]\n",
      "100%|██████████████████████████████████████████████████████████████████████| 3399.0/3399.0 [00:50<00:00, 67.63seconds/s]\n",
      "100%|██████████████████████████████████████████████████████████████████████| 3399.0/3399.0 [00:50<00:00, 67.39seconds/s]\n",
      "100%|██████████████████████████████████████████████████████████████████████| 3399.0/3399.0 [00:48<00:00, 69.97seconds/s]\n"
     ]
    },
    {
     "name": "stdout",
     "output_type": "stream",
     "text": [
      "✅ Done: downloads/tya0yzg1_1743322767.mp3\n",
      "🎙️  Processing: downloads/mmkknq8q_1743334873.mp3 (49.56 min)\n",
      "Selected model is a bag of 4 models. You will see that many progress bars per track.\n",
      "Separated tracks will be stored in /root/tts_datamaker/vocal_2/mdx_extra_q\n",
      "Separating track downloads/mmkknq8q_1743334873.mp3\n"
     ]
    },
    {
     "name": "stderr",
     "output_type": "stream",
     "text": [
      "100%|██████████████████████████████████████████████████████████████████████| 3003.0/3003.0 [00:42<00:00, 70.84seconds/s]\n",
      "100%|██████████████████████████████████████████████████████████████████████| 3003.0/3003.0 [00:44<00:00, 68.08seconds/s]\n",
      "100%|██████████████████████████████████████████████████████████████████████| 3003.0/3003.0 [00:44<00:00, 67.78seconds/s]\n",
      "100%|██████████████████████████████████████████████████████████████████████| 3003.0/3003.0 [00:42<00:00, 70.74seconds/s]\n"
     ]
    },
    {
     "name": "stdout",
     "output_type": "stream",
     "text": [
      "✅ Done: downloads/mmkknq8q_1743334873.mp3\n",
      "🎙️  Processing: downloads/xoqqkvd4_1743335728.mp3 (40.98 min)\n",
      "Selected model is a bag of 4 models. You will see that many progress bars per track.\n",
      "Separated tracks will be stored in /root/tts_datamaker/vocal_2/mdx_extra_q\n",
      "Separating track downloads/xoqqkvd4_1743335728.mp3\n"
     ]
    },
    {
     "name": "stderr",
     "output_type": "stream",
     "text": [
      "100%|██████████████████████████████████████████████████████████████████████| 2475.0/2475.0 [00:35<00:00, 70.49seconds/s]\n",
      "100%|██████████████████████████████████████████████████████████████████████| 2475.0/2475.0 [00:36<00:00, 68.05seconds/s]\n",
      "100%|██████████████████████████████████████████████████████████████████████| 2475.0/2475.0 [00:36<00:00, 67.89seconds/s]\n",
      "100%|██████████████████████████████████████████████████████████████████████| 2475.0/2475.0 [00:35<00:00, 70.27seconds/s]\n"
     ]
    },
    {
     "name": "stdout",
     "output_type": "stream",
     "text": [
      "✅ Done: downloads/xoqqkvd4_1743335728.mp3\n",
      "🎙️  Processing: downloads/h2ql9mu0_1743323055.mp3 (42.24 min)\n",
      "Selected model is a bag of 4 models. You will see that many progress bars per track.\n",
      "Separated tracks will be stored in /root/tts_datamaker/vocal_2/mdx_extra_q\n",
      "Separating track downloads/h2ql9mu0_1743323055.mp3\n"
     ]
    },
    {
     "name": "stderr",
     "output_type": "stream",
     "text": [
      "100%|██████████████████████████████████████████████████████████████████████| 2541.0/2541.0 [00:36<00:00, 70.19seconds/s]\n",
      "100%|██████████████████████████████████████████████████████████████████████| 2541.0/2541.0 [00:37<00:00, 67.82seconds/s]\n",
      "100%|██████████████████████████████████████████████████████████████████████| 2541.0/2541.0 [00:37<00:00, 67.50seconds/s]\n",
      "100%|██████████████████████████████████████████████████████████████████████| 2541.0/2541.0 [00:36<00:00, 70.03seconds/s]\n"
     ]
    },
    {
     "name": "stdout",
     "output_type": "stream",
     "text": [
      "✅ Done: downloads/h2ql9mu0_1743323055.mp3\n",
      "🎙️  Processing: downloads/0dz5hdnw_1743334548.mp3 (50.27 min)\n",
      "Selected model is a bag of 4 models. You will see that many progress bars per track.\n",
      "Separated tracks will be stored in /root/tts_datamaker/vocal_2/mdx_extra_q\n",
      "Separating track downloads/0dz5hdnw_1743334548.mp3\n"
     ]
    },
    {
     "name": "stderr",
     "output_type": "stream",
     "text": [
      "100%|██████████████████████████████████████████████████████████████████████| 3036.0/3036.0 [00:43<00:00, 70.57seconds/s]\n",
      "100%|██████████████████████████████████████████████████████████████████████| 3036.0/3036.0 [00:44<00:00, 67.73seconds/s]\n",
      "100%|██████████████████████████████████████████████████████████████████████| 3036.0/3036.0 [00:44<00:00, 67.78seconds/s]\n",
      "100%|██████████████████████████████████████████████████████████████████████| 3036.0/3036.0 [00:43<00:00, 70.42seconds/s]\n"
     ]
    },
    {
     "name": "stdout",
     "output_type": "stream",
     "text": [
      "✅ Done: downloads/0dz5hdnw_1743334548.mp3\n",
      "🎙️  Processing: downloads/05dcecof_1743321545.mp3 (37.95 min)\n",
      "Selected model is a bag of 4 models. You will see that many progress bars per track.\n",
      "Separated tracks will be stored in /root/tts_datamaker/vocal_2/mdx_extra_q\n",
      "Separating track downloads/05dcecof_1743321545.mp3\n"
     ]
    },
    {
     "name": "stderr",
     "output_type": "stream",
     "text": [
      "100%|██████████████████████████████████████████████████████████████████████| 2310.0/2310.0 [00:32<00:00, 71.16seconds/s]\n",
      "100%|██████████████████████████████████████████████████████████████████████| 2310.0/2310.0 [00:33<00:00, 68.47seconds/s]\n",
      "100%|██████████████████████████████████████████████████████████████████████| 2310.0/2310.0 [00:33<00:00, 68.34seconds/s]\n",
      "100%|██████████████████████████████████████████████████████████████████████| 2310.0/2310.0 [00:32<00:00, 70.92seconds/s]\n"
     ]
    },
    {
     "name": "stdout",
     "output_type": "stream",
     "text": [
      "✅ Done: downloads/05dcecof_1743321545.mp3\n",
      "🎙️  Processing: downloads/2dnxxjoi_1743334738.mp3 (37.80 min)\n",
      "Selected model is a bag of 4 models. You will see that many progress bars per track.\n",
      "Separated tracks will be stored in /root/tts_datamaker/vocal_2/mdx_extra_q\n",
      "Separating track downloads/2dnxxjoi_1743334738.mp3\n"
     ]
    },
    {
     "name": "stderr",
     "output_type": "stream",
     "text": [
      "100%|██████████████████████████████████████████████████████████████████████| 2277.0/2277.0 [00:32<00:00, 70.14seconds/s]\n",
      "100%|██████████████████████████████████████████████████████████████████████| 2277.0/2277.0 [00:33<00:00, 67.96seconds/s]\n",
      "100%|██████████████████████████████████████████████████████████████████████| 2277.0/2277.0 [00:33<00:00, 67.62seconds/s]\n",
      "100%|██████████████████████████████████████████████████████████████████████| 2277.0/2277.0 [00:32<00:00, 70.38seconds/s]\n",
      "100%|██████████████████████████████████████████████████████████████████████| 2343.0/2343.0 [00:34<00:00, 67.80seconds/s]\n",
      "100%|██████████████████████████████████████████████████████████████████████| 2343.0/2343.0 [00:33<00:00, 70.41seconds/s]\n"
     ]
    },
    {
     "name": "stdout",
     "output_type": "stream",
     "text": [
      "✅ Done: downloads/d5ozl2k8_1743337381.mp3\n",
      "🎙️  Processing: downloads/iqnlb9hl_1743322429.mp3 (41.18 min)\n",
      "Selected model is a bag of 4 models. You will see that many progress bars per track.\n",
      "Separated tracks will be stored in /root/tts_datamaker/vocal_2/mdx_extra_q\n",
      "Separating track downloads/iqnlb9hl_1743322429.mp3\n"
     ]
    },
    {
     "name": "stderr",
     "output_type": "stream",
     "text": [
      "100%|██████████████████████████████████████████████████████████████████████| 2475.0/2475.0 [00:35<00:00, 69.83seconds/s]\n",
      "100%|██████████████████████████████████████████████████████████████████████| 2475.0/2475.0 [00:36<00:00, 67.68seconds/s]\n",
      "100%|██████████████████████████████████████████████████████████████████████| 2475.0/2475.0 [00:36<00:00, 67.64seconds/s]\n",
      "100%|██████████████████████████████████████████████████████████████████████| 2475.0/2475.0 [00:35<00:00, 70.04seconds/s]\n"
     ]
    },
    {
     "name": "stdout",
     "output_type": "stream",
     "text": [
      "✅ Done: downloads/iqnlb9hl_1743322429.mp3\n",
      "🎙️  Processing: downloads/fkab1u02_1743322606.mp3 (35.73 min)\n",
      "Selected model is a bag of 4 models. You will see that many progress bars per track.\n",
      "Separated tracks will be stored in /root/tts_datamaker/vocal_2/mdx_extra_q\n",
      "Separating track downloads/fkab1u02_1743322606.mp3\n"
     ]
    },
    {
     "name": "stderr",
     "output_type": "stream",
     "text": [
      "100%|██████████████████████████████████████████████████████████████████████| 2145.0/2145.0 [00:30<00:00, 70.11seconds/s]\n",
      "100%|██████████████████████████████████████████████████████████████████████| 2145.0/2145.0 [00:31<00:00, 67.82seconds/s]\n",
      "100%|██████████████████████████████████████████████████████████████████████| 2145.0/2145.0 [00:31<00:00, 67.67seconds/s]\n",
      "100%|██████████████████████████████████████████████████████████████████████| 2145.0/2145.0 [00:30<00:00, 70.08seconds/s]\n"
     ]
    },
    {
     "name": "stdout",
     "output_type": "stream",
     "text": [
      "✅ Done: downloads/fkab1u02_1743322606.mp3\n",
      "🎙️  Processing: downloads/wwcp6roc_1743319973.mp3 (52.50 min)\n",
      "Selected model is a bag of 4 models. You will see that many progress bars per track.\n",
      "Separated tracks will be stored in /root/tts_datamaker/vocal_2/mdx_extra_q\n",
      "Separating track downloads/wwcp6roc_1743319973.mp3\n"
     ]
    },
    {
     "name": "stderr",
     "output_type": "stream",
     "text": [
      "100%|██████████████████████████████████████████████████████████████████████| 3168.0/3168.0 [00:45<00:00, 70.14seconds/s]\n",
      "100%|██████████████████████████████████████████████████████████████████████| 3168.0/3168.0 [00:46<00:00, 67.83seconds/s]\n",
      "100%|██████████████████████████████████████████████████████████████████████| 3168.0/3168.0 [00:46<00:00, 67.61seconds/s]\n",
      "100%|██████████████████████████████████████████████████████████████████████| 3168.0/3168.0 [00:45<00:00, 70.38seconds/s]\n"
     ]
    },
    {
     "name": "stdout",
     "output_type": "stream",
     "text": [
      "✅ Done: downloads/wwcp6roc_1743319973.mp3\n",
      "🎙️  Processing: downloads/mduxww2h_1743320785.mp3 (46.81 min)\n",
      "Selected model is a bag of 4 models. You will see that many progress bars per track.\n",
      "Separated tracks will be stored in /root/tts_datamaker/vocal_2/mdx_extra_q\n",
      "Separating track downloads/mduxww2h_1743320785.mp3\n"
     ]
    },
    {
     "name": "stderr",
     "output_type": "stream",
     "text": [
      "100%|██████████████████████████████████████████████████████████████████████| 2838.0/2838.0 [00:40<00:00, 70.70seconds/s]\n",
      "100%|██████████████████████████████████████████████████████████████████████| 2838.0/2838.0 [00:41<00:00, 68.20seconds/s]\n",
      "100%|██████████████████████████████████████████████████████████████████████| 2838.0/2838.0 [00:41<00:00, 67.97seconds/s]\n",
      "100%|██████████████████████████████████████████████████████████████████████| 2838.0/2838.0 [00:40<00:00, 70.46seconds/s]\n"
     ]
    },
    {
     "name": "stdout",
     "output_type": "stream",
     "text": [
      "✅ Done: downloads/mduxww2h_1743320785.mp3\n",
      "🎙️  Processing: downloads/6eyc7foi_1743323380.mp3 (50.27 min)\n",
      "Selected model is a bag of 4 models. You will see that many progress bars per track.\n",
      "Separated tracks will be stored in /root/tts_datamaker/vocal_2/mdx_extra_q\n",
      "Separating track downloads/6eyc7foi_1743323380.mp3\n"
     ]
    },
    {
     "name": "stderr",
     "output_type": "stream",
     "text": [
      "100%|██████████████████████████████████████████████████████████████████████| 3036.0/3036.0 [00:43<00:00, 70.40seconds/s]\n",
      "100%|██████████████████████████████████████████████████████████████████████| 3036.0/3036.0 [00:44<00:00, 67.89seconds/s]\n",
      "100%|██████████████████████████████████████████████████████████████████████| 3036.0/3036.0 [00:44<00:00, 67.56seconds/s]\n",
      "100%|██████████████████████████████████████████████████████████████████████| 3036.0/3036.0 [00:43<00:00, 70.28seconds/s]\n"
     ]
    },
    {
     "name": "stdout",
     "output_type": "stream",
     "text": [
      "✅ Done: downloads/6eyc7foi_1743323380.mp3\n",
      "🎙️  Processing: downloads/jcqj6yf0_1743323219.mp3 (48.90 min)\n",
      "Selected model is a bag of 4 models. You will see that many progress bars per track.\n",
      "Separated tracks will be stored in /root/tts_datamaker/vocal_2/mdx_extra_q\n",
      "Separating track downloads/jcqj6yf0_1743323219.mp3\n"
     ]
    },
    {
     "name": "stderr",
     "output_type": "stream",
     "text": [
      "100%|██████████████████████████████████████████████████████████████████████| 2937.0/2937.0 [00:41<00:00, 70.27seconds/s]\n",
      "100%|██████████████████████████████████████████████████████████████████████| 2937.0/2937.0 [00:43<00:00, 67.52seconds/s]\n",
      "100%|██████████████████████████████████████████████████████████████████████| 2937.0/2937.0 [00:43<00:00, 67.52seconds/s]\n",
      "100%|██████████████████████████████████████████████████████████████████████| 2937.0/2937.0 [00:41<00:00, 70.16seconds/s]\n"
     ]
    },
    {
     "name": "stdout",
     "output_type": "stream",
     "text": [
      "✅ Done: downloads/jcqj6yf0_1743323219.mp3\n",
      "🎙️  Processing: downloads/8c9bvzf8_1743322676.mp3 (45.38 min)\n",
      "Selected model is a bag of 4 models. You will see that many progress bars per track.\n",
      "Separated tracks will be stored in /root/tts_datamaker/vocal_2/mdx_extra_q\n",
      "Separating track downloads/8c9bvzf8_1743322676.mp3\n"
     ]
    },
    {
     "name": "stderr",
     "output_type": "stream",
     "text": [
      "100%|██████████████████████████████████████████████████████████████████████| 2739.0/2739.0 [00:38<00:00, 70.32seconds/s]\n",
      "100%|██████████████████████████████████████████████████████████████████████| 2739.0/2739.0 [00:40<00:00, 67.94seconds/s]\n",
      "100%|██████████████████████████████████████████████████████████████████████| 2739.0/2739.0 [00:40<00:00, 67.82seconds/s]\n",
      "100%|██████████████████████████████████████████████████████████████████████| 2739.0/2739.0 [00:38<00:00, 70.30seconds/s]\n"
     ]
    },
    {
     "name": "stdout",
     "output_type": "stream",
     "text": [
      "✅ Done: downloads/8c9bvzf8_1743322676.mp3\n",
      "🎙️  Processing: downloads/obw4cfex_1743323114.mp3 (44.55 min)\n",
      "Selected model is a bag of 4 models. You will see that many progress bars per track.\n",
      "Separated tracks will be stored in /root/tts_datamaker/vocal_2/mdx_extra_q\n",
      "Separating track downloads/obw4cfex_1743323114.mp3\n"
     ]
    },
    {
     "name": "stderr",
     "output_type": "stream",
     "text": [
      "100%|██████████████████████████████████████████████████████████████████████| 2706.0/2706.0 [00:38<00:00, 70.68seconds/s]\n",
      "100%|██████████████████████████████████████████████████████████████████████| 2706.0/2706.0 [00:39<00:00, 68.42seconds/s]\n",
      "100%|██████████████████████████████████████████████████████████████████████| 2706.0/2706.0 [00:39<00:00, 68.07seconds/s]\n",
      "100%|██████████████████████████████████████████████████████████████████████| 2706.0/2706.0 [00:38<00:00, 70.71seconds/s]\n"
     ]
    },
    {
     "name": "stdout",
     "output_type": "stream",
     "text": [
      "✅ Done: downloads/obw4cfex_1743323114.mp3\n",
      "🎙️  Processing: downloads/2bmrmu97_1743319813.mp3 (38.34 min)\n",
      "Selected model is a bag of 4 models. You will see that many progress bars per track.\n",
      "Separated tracks will be stored in /root/tts_datamaker/vocal_2/mdx_extra_q\n",
      "Separating track downloads/2bmrmu97_1743319813.mp3\n"
     ]
    },
    {
     "name": "stderr",
     "output_type": "stream",
     "text": [
      "100%|██████████████████████████████████████████████████████████████████████| 2310.0/2310.0 [00:33<00:00, 69.88seconds/s]\n",
      "100%|██████████████████████████████████████████████████████████████████████| 2310.0/2310.0 [00:34<00:00, 67.68seconds/s]\n",
      " 17%|████████████▏                                                          | 396.0/2310.0 [00:05<00:28, 67.33seconds/s]IOPub message rate exceeded.\n",
      "The Jupyter server will temporarily stop sending output\n",
      "to the client in order to avoid crashing it.\n",
      "To change this limit, set the config variable\n",
      "`--ServerApp.iopub_msg_rate_limit`.\n",
      "\n",
      "Current values:\n",
      "ServerApp.iopub_msg_rate_limit=1000.0 (msgs/sec)\n",
      "ServerApp.rate_limit_window=3.0 (secs)\n",
      "\n"
     ]
    }
   ],
   "source": [
    "run_demucs_on_longfiles(files_under_90_mins,output_root=\"vocal_2\",\n",
    "    model=\"mdx_extra_q\"\n",
    ")"
   ]
  },
  {
   "cell_type": "code",
   "execution_count": 12,
   "id": "fac36c41-61a9-47c1-a55a-6ec026a3cdab",
   "metadata": {},
   "outputs": [
    {
     "name": "stdout",
     "output_type": "stream",
     "text": [
      "DONE\n"
     ]
    }
   ],
   "source": [
    "print('DONE')"
   ]
  },
  {
   "cell_type": "code",
   "execution_count": null,
   "id": "c91532cd-ba04-4bc5-bf73-3f48ea4a5946",
   "metadata": {},
   "outputs": [],
   "source": []
  }
 ],
 "metadata": {
  "kernelspec": {
   "display_name": "research_env",
   "language": "python",
   "name": "research_env"
  },
  "language_info": {
   "codemirror_mode": {
    "name": "ipython",
    "version": 3
   },
   "file_extension": ".py",
   "mimetype": "text/x-python",
   "name": "python",
   "nbconvert_exporter": "python",
   "pygments_lexer": "ipython3",
   "version": "3.10.16"
  }
 },
 "nbformat": 4,
 "nbformat_minor": 5
}
