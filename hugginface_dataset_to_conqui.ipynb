{
 "cells": [
  {
   "cell_type": "code",
   "execution_count": 1,
   "id": "c1214269-7605-4853-9fba-1598b6ca6600",
   "metadata": {},
   "outputs": [],
   "source": [
    "import pandas as pd"
   ]
  },
  {
   "cell_type": "code",
   "execution_count": 2,
   "id": "02016e5a-427e-4e41-8ad4-e75ef96fc600",
   "metadata": {},
   "outputs": [
    {
     "name": "stderr",
     "output_type": "stream",
     "text": [
      "/root/anaconda3/envs/whisper_env/lib/python3.10/site-packages/requests/__init__.py:86: RequestsDependencyWarning: Unable to find acceptable character detection dependency (chardet or charset_normalizer).\n",
      "  warnings.warn(\n"
     ]
    }
   ],
   "source": [
    "from datasets import load_dataset"
   ]
  },
  {
   "cell_type": "code",
   "execution_count": 3,
   "id": "82997443-a3a0-4b26-be72-a88f8f02291a",
   "metadata": {},
   "outputs": [
    {
     "data": {
      "application/vnd.jupyter.widget-view+json": {
       "model_id": "08c18f8e2ebe4b3fb3882e6bc8c9428d",
       "version_major": 2,
       "version_minor": 0
      },
      "text/plain": [
       "README.md:   0%|          | 0.00/1.36k [00:00<?, ?B/s]"
      ]
     },
     "metadata": {},
     "output_type": "display_data"
    },
    {
     "name": "stderr",
     "output_type": "stream",
     "text": [
      "Repo card metadata block was not found. Setting CardData to empty.\n"
     ]
    },
    {
     "data": {
      "application/vnd.jupyter.widget-view+json": {
       "model_id": "19eabe1bfc3648febf2b5af788edf5a1",
       "version_major": 2,
       "version_minor": 0
      },
      "text/plain": [
       "Resolving data files:   0%|          | 0/42 [00:00<?, ?it/s]"
      ]
     },
     "metadata": {},
     "output_type": "display_data"
    },
    {
     "data": {
      "application/vnd.jupyter.widget-view+json": {
       "model_id": "ff0e491f6ebb41bc8e78c47b5294b5df",
       "version_major": 2,
       "version_minor": 0
      },
      "text/plain": [
       "Downloading data:   0%|          | 0/42 [00:00<?, ?files/s]"
      ]
     },
     "metadata": {},
     "output_type": "display_data"
    },
    {
     "data": {
      "application/vnd.jupyter.widget-view+json": {
       "model_id": "af93ec0cd43c44818a64d9595d9b10f4",
       "version_major": 2,
       "version_minor": 0
      },
      "text/plain": [
       "train-00000-of-00042.parquet:   0%|          | 0.00/411M [00:00<?, ?B/s]"
      ]
     },
     "metadata": {},
     "output_type": "display_data"
    },
    {
     "data": {
      "application/vnd.jupyter.widget-view+json": {
       "model_id": "e197d96238674944a28e302196f4e68e",
       "version_major": 2,
       "version_minor": 0
      },
      "text/plain": [
       "train-00001-of-00042.parquet:   0%|          | 0.00/471M [00:00<?, ?B/s]"
      ]
     },
     "metadata": {},
     "output_type": "display_data"
    },
    {
     "data": {
      "application/vnd.jupyter.widget-view+json": {
       "model_id": "2d0082ffefcb4a2fa22024be316e2933",
       "version_major": 2,
       "version_minor": 0
      },
      "text/plain": [
       "train-00002-of-00042.parquet:   0%|          | 0.00/407M [00:00<?, ?B/s]"
      ]
     },
     "metadata": {},
     "output_type": "display_data"
    },
    {
     "data": {
      "application/vnd.jupyter.widget-view+json": {
       "model_id": "008b62a2ab60459480d5a3b13184fc05",
       "version_major": 2,
       "version_minor": 0
      },
      "text/plain": [
       "train-00003-of-00042.parquet:   0%|          | 0.00/333M [00:00<?, ?B/s]"
      ]
     },
     "metadata": {},
     "output_type": "display_data"
    },
    {
     "data": {
      "application/vnd.jupyter.widget-view+json": {
       "model_id": "ba44ade900254c98a3f46ac1bcd9f259",
       "version_major": 2,
       "version_minor": 0
      },
      "text/plain": [
       "train-00004-of-00042.parquet:   0%|          | 0.00/384M [00:00<?, ?B/s]"
      ]
     },
     "metadata": {},
     "output_type": "display_data"
    },
    {
     "data": {
      "application/vnd.jupyter.widget-view+json": {
       "model_id": "a195f7234b8746e5860db036e9a136f2",
       "version_major": 2,
       "version_minor": 0
      },
      "text/plain": [
       "train-00005-of-00042.parquet:   0%|          | 0.00/742M [00:00<?, ?B/s]"
      ]
     },
     "metadata": {},
     "output_type": "display_data"
    },
    {
     "data": {
      "application/vnd.jupyter.widget-view+json": {
       "model_id": "e28ac10b0e5a46eb86e68e42d3e2c3af",
       "version_major": 2,
       "version_minor": 0
      },
      "text/plain": [
       "train-00006-of-00042.parquet:   0%|          | 0.00/488M [00:00<?, ?B/s]"
      ]
     },
     "metadata": {},
     "output_type": "display_data"
    },
    {
     "data": {
      "application/vnd.jupyter.widget-view+json": {
       "model_id": "a57e0a8901e342f0afb82846e03f0d67",
       "version_major": 2,
       "version_minor": 0
      },
      "text/plain": [
       "train-00007-of-00042.parquet:   0%|          | 0.00/629M [00:00<?, ?B/s]"
      ]
     },
     "metadata": {},
     "output_type": "display_data"
    },
    {
     "data": {
      "application/vnd.jupyter.widget-view+json": {
       "model_id": "ce1d3d450dd345b497c72e13e03507aa",
       "version_major": 2,
       "version_minor": 0
      },
      "text/plain": [
       "train-00008-of-00042.parquet:   0%|          | 0.00/503M [00:00<?, ?B/s]"
      ]
     },
     "metadata": {},
     "output_type": "display_data"
    },
    {
     "data": {
      "application/vnd.jupyter.widget-view+json": {
       "model_id": "1148ed0c675f43ccb4d97d2b8da3381b",
       "version_major": 2,
       "version_minor": 0
      },
      "text/plain": [
       "train-00009-of-00042.parquet:   0%|          | 0.00/545M [00:00<?, ?B/s]"
      ]
     },
     "metadata": {},
     "output_type": "display_data"
    },
    {
     "data": {
      "application/vnd.jupyter.widget-view+json": {
       "model_id": "2dc623611dc2420ab86b1e9047c2f0e2",
       "version_major": 2,
       "version_minor": 0
      },
      "text/plain": [
       "train-00010-of-00042.parquet:   0%|          | 0.00/603M [00:00<?, ?B/s]"
      ]
     },
     "metadata": {},
     "output_type": "display_data"
    },
    {
     "data": {
      "application/vnd.jupyter.widget-view+json": {
       "model_id": "40eab3e07f274f938b1c79c2f160d196",
       "version_major": 2,
       "version_minor": 0
      },
      "text/plain": [
       "train-00011-of-00042.parquet:   0%|          | 0.00/347M [00:00<?, ?B/s]"
      ]
     },
     "metadata": {},
     "output_type": "display_data"
    },
    {
     "data": {
      "application/vnd.jupyter.widget-view+json": {
       "model_id": "6e0629c5fe8045ed87766b8073b45d4d",
       "version_major": 2,
       "version_minor": 0
      },
      "text/plain": [
       "train-00012-of-00042.parquet:   0%|          | 0.00/482M [00:00<?, ?B/s]"
      ]
     },
     "metadata": {},
     "output_type": "display_data"
    },
    {
     "data": {
      "application/vnd.jupyter.widget-view+json": {
       "model_id": "aecdd716b36e4dc8889a683ebcfa83cd",
       "version_major": 2,
       "version_minor": 0
      },
      "text/plain": [
       "train-00013-of-00042.parquet:   0%|          | 0.00/535M [00:00<?, ?B/s]"
      ]
     },
     "metadata": {},
     "output_type": "display_data"
    },
    {
     "data": {
      "application/vnd.jupyter.widget-view+json": {
       "model_id": "8ebaff4edd57471faa8a31ad6d2a755b",
       "version_major": 2,
       "version_minor": 0
      },
      "text/plain": [
       "train-00014-of-00042.parquet:   0%|          | 0.00/595M [00:00<?, ?B/s]"
      ]
     },
     "metadata": {},
     "output_type": "display_data"
    },
    {
     "data": {
      "application/vnd.jupyter.widget-view+json": {
       "model_id": "24076df2c0744a8f81557df9688a5d9e",
       "version_major": 2,
       "version_minor": 0
      },
      "text/plain": [
       "train-00015-of-00042.parquet:   0%|          | 0.00/312M [00:00<?, ?B/s]"
      ]
     },
     "metadata": {},
     "output_type": "display_data"
    },
    {
     "data": {
      "application/vnd.jupyter.widget-view+json": {
       "model_id": "e3c7369d1db9407eb690f8eca5e25abf",
       "version_major": 2,
       "version_minor": 0
      },
      "text/plain": [
       "train-00016-of-00042.parquet:   0%|          | 0.00/442M [00:00<?, ?B/s]"
      ]
     },
     "metadata": {},
     "output_type": "display_data"
    },
    {
     "data": {
      "application/vnd.jupyter.widget-view+json": {
       "model_id": "12c21aa6676242de95575ec6487a91fa",
       "version_major": 2,
       "version_minor": 0
      },
      "text/plain": [
       "train-00017-of-00042.parquet:   0%|          | 0.00/302M [00:00<?, ?B/s]"
      ]
     },
     "metadata": {},
     "output_type": "display_data"
    },
    {
     "data": {
      "application/vnd.jupyter.widget-view+json": {
       "model_id": "36b2d98ba34d41f1a6107b60779ea5ed",
       "version_major": 2,
       "version_minor": 0
      },
      "text/plain": [
       "train-00018-of-00042.parquet:   0%|          | 0.00/641M [00:00<?, ?B/s]"
      ]
     },
     "metadata": {},
     "output_type": "display_data"
    },
    {
     "data": {
      "application/vnd.jupyter.widget-view+json": {
       "model_id": "5f8b3222af2b47c887a3c6b96376ded9",
       "version_major": 2,
       "version_minor": 0
      },
      "text/plain": [
       "train-00019-of-00042.parquet:   0%|          | 0.00/621M [00:00<?, ?B/s]"
      ]
     },
     "metadata": {},
     "output_type": "display_data"
    },
    {
     "data": {
      "application/vnd.jupyter.widget-view+json": {
       "model_id": "9481e90ca6dc4a1a826609ae8a45b4fb",
       "version_major": 2,
       "version_minor": 0
      },
      "text/plain": [
       "train-00020-of-00042.parquet:   0%|          | 0.00/655M [00:00<?, ?B/s]"
      ]
     },
     "metadata": {},
     "output_type": "display_data"
    },
    {
     "data": {
      "application/vnd.jupyter.widget-view+json": {
       "model_id": "49a765b2b262455a97248d5894e3d72a",
       "version_major": 2,
       "version_minor": 0
      },
      "text/plain": [
       "train-00021-of-00042.parquet:   0%|          | 0.00/477M [00:00<?, ?B/s]"
      ]
     },
     "metadata": {},
     "output_type": "display_data"
    },
    {
     "data": {
      "application/vnd.jupyter.widget-view+json": {
       "model_id": "ca5305bf9bd94e208a75d84f5f38972d",
       "version_major": 2,
       "version_minor": 0
      },
      "text/plain": [
       "train-00022-of-00042.parquet:   0%|          | 0.00/517M [00:00<?, ?B/s]"
      ]
     },
     "metadata": {},
     "output_type": "display_data"
    },
    {
     "data": {
      "application/vnd.jupyter.widget-view+json": {
       "model_id": "552f3e4027fa46d1ad9ec91978bac7d1",
       "version_major": 2,
       "version_minor": 0
      },
      "text/plain": [
       "train-00023-of-00042.parquet:   0%|          | 0.00/445M [00:00<?, ?B/s]"
      ]
     },
     "metadata": {},
     "output_type": "display_data"
    },
    {
     "data": {
      "application/vnd.jupyter.widget-view+json": {
       "model_id": "334f15643d244c94b63caf4d457b5c7c",
       "version_major": 2,
       "version_minor": 0
      },
      "text/plain": [
       "train-00024-of-00042.parquet:   0%|          | 0.00/516M [00:00<?, ?B/s]"
      ]
     },
     "metadata": {},
     "output_type": "display_data"
    },
    {
     "data": {
      "application/vnd.jupyter.widget-view+json": {
       "model_id": "2ef125a4cd1e40deadb7869ed2e3950f",
       "version_major": 2,
       "version_minor": 0
      },
      "text/plain": [
       "train-00025-of-00042.parquet:   0%|          | 0.00/301M [00:00<?, ?B/s]"
      ]
     },
     "metadata": {},
     "output_type": "display_data"
    },
    {
     "data": {
      "application/vnd.jupyter.widget-view+json": {
       "model_id": "66fbef21f2e44658ab4d3d8a50670a07",
       "version_major": 2,
       "version_minor": 0
      },
      "text/plain": [
       "train-00026-of-00042.parquet:   0%|          | 0.00/461M [00:00<?, ?B/s]"
      ]
     },
     "metadata": {},
     "output_type": "display_data"
    },
    {
     "data": {
      "application/vnd.jupyter.widget-view+json": {
       "model_id": "00f01330de0e4b6fafb473f9d279a6f2",
       "version_major": 2,
       "version_minor": 0
      },
      "text/plain": [
       "train-00027-of-00042.parquet:   0%|          | 0.00/401M [00:00<?, ?B/s]"
      ]
     },
     "metadata": {},
     "output_type": "display_data"
    },
    {
     "data": {
      "application/vnd.jupyter.widget-view+json": {
       "model_id": "312b018f7009451290375d0d9393fb00",
       "version_major": 2,
       "version_minor": 0
      },
      "text/plain": [
       "train-00028-of-00042.parquet:   0%|          | 0.00/457M [00:00<?, ?B/s]"
      ]
     },
     "metadata": {},
     "output_type": "display_data"
    },
    {
     "data": {
      "application/vnd.jupyter.widget-view+json": {
       "model_id": "7ae986ea957d4b8da15b45fed25ed239",
       "version_major": 2,
       "version_minor": 0
      },
      "text/plain": [
       "train-00029-of-00042.parquet:   0%|          | 0.00/682M [00:00<?, ?B/s]"
      ]
     },
     "metadata": {},
     "output_type": "display_data"
    },
    {
     "data": {
      "application/vnd.jupyter.widget-view+json": {
       "model_id": "0028a8e400fd4847a760c0d8709ff076",
       "version_major": 2,
       "version_minor": 0
      },
      "text/plain": [
       "train-00030-of-00042.parquet:   0%|          | 0.00/552M [00:00<?, ?B/s]"
      ]
     },
     "metadata": {},
     "output_type": "display_data"
    },
    {
     "data": {
      "application/vnd.jupyter.widget-view+json": {
       "model_id": "3de205a67561470d8c301f35a0246838",
       "version_major": 2,
       "version_minor": 0
      },
      "text/plain": [
       "train-00031-of-00042.parquet:   0%|          | 0.00/627M [00:00<?, ?B/s]"
      ]
     },
     "metadata": {},
     "output_type": "display_data"
    },
    {
     "data": {
      "application/vnd.jupyter.widget-view+json": {
       "model_id": "128f658f095c40cab2cc6fbeb0030afa",
       "version_major": 2,
       "version_minor": 0
      },
      "text/plain": [
       "train-00032-of-00042.parquet:   0%|          | 0.00/489M [00:00<?, ?B/s]"
      ]
     },
     "metadata": {},
     "output_type": "display_data"
    },
    {
     "data": {
      "application/vnd.jupyter.widget-view+json": {
       "model_id": "fbe0434e011f4dabb5e674765c7bdce4",
       "version_major": 2,
       "version_minor": 0
      },
      "text/plain": [
       "train-00033-of-00042.parquet:   0%|          | 0.00/396M [00:00<?, ?B/s]"
      ]
     },
     "metadata": {},
     "output_type": "display_data"
    },
    {
     "data": {
      "application/vnd.jupyter.widget-view+json": {
       "model_id": "8eeef72e9532405db05164d0d6eb0aed",
       "version_major": 2,
       "version_minor": 0
      },
      "text/plain": [
       "train-00034-of-00042.parquet:   0%|          | 0.00/653M [00:00<?, ?B/s]"
      ]
     },
     "metadata": {},
     "output_type": "display_data"
    },
    {
     "data": {
      "application/vnd.jupyter.widget-view+json": {
       "model_id": "f8d6a6008fde46ab866e040f7c3810e3",
       "version_major": 2,
       "version_minor": 0
      },
      "text/plain": [
       "train-00035-of-00042.parquet:   0%|          | 0.00/518M [00:00<?, ?B/s]"
      ]
     },
     "metadata": {},
     "output_type": "display_data"
    },
    {
     "data": {
      "application/vnd.jupyter.widget-view+json": {
       "model_id": "9c87f30e4dcb4d4394b10e6c5ed03ada",
       "version_major": 2,
       "version_minor": 0
      },
      "text/plain": [
       "train-00036-of-00042.parquet:   0%|          | 0.00/397M [00:00<?, ?B/s]"
      ]
     },
     "metadata": {},
     "output_type": "display_data"
    },
    {
     "data": {
      "application/vnd.jupyter.widget-view+json": {
       "model_id": "f9a8719c36254c04bbef5740da825805",
       "version_major": 2,
       "version_minor": 0
      },
      "text/plain": [
       "train-00037-of-00042.parquet:   0%|          | 0.00/521M [00:00<?, ?B/s]"
      ]
     },
     "metadata": {},
     "output_type": "display_data"
    },
    {
     "data": {
      "application/vnd.jupyter.widget-view+json": {
       "model_id": "37ffb2516030442d96f5e91801c5963a",
       "version_major": 2,
       "version_minor": 0
      },
      "text/plain": [
       "train-00038-of-00042.parquet:   0%|          | 0.00/451M [00:00<?, ?B/s]"
      ]
     },
     "metadata": {},
     "output_type": "display_data"
    },
    {
     "data": {
      "application/vnd.jupyter.widget-view+json": {
       "model_id": "466c3e1a5ace42d083f47353d97c962d",
       "version_major": 2,
       "version_minor": 0
      },
      "text/plain": [
       "train-00039-of-00042.parquet:   0%|          | 0.00/532M [00:00<?, ?B/s]"
      ]
     },
     "metadata": {},
     "output_type": "display_data"
    },
    {
     "data": {
      "application/vnd.jupyter.widget-view+json": {
       "model_id": "d9b015e5a25f4c6ea7c5264260b478c1",
       "version_major": 2,
       "version_minor": 0
      },
      "text/plain": [
       "train-00040-of-00042.parquet:   0%|          | 0.00/504M [00:00<?, ?B/s]"
      ]
     },
     "metadata": {},
     "output_type": "display_data"
    },
    {
     "data": {
      "application/vnd.jupyter.widget-view+json": {
       "model_id": "408e6994a78049518a5b4fea63f10e5b",
       "version_major": 2,
       "version_minor": 0
      },
      "text/plain": [
       "train-00041-of-00042.parquet:   0%|          | 0.00/561M [00:00<?, ?B/s]"
      ]
     },
     "metadata": {},
     "output_type": "display_data"
    },
    {
     "data": {
      "application/vnd.jupyter.widget-view+json": {
       "model_id": "789b5b012ce143eeb096a652a591f813",
       "version_major": 2,
       "version_minor": 0
      },
      "text/plain": [
       "Generating train split:   0%|          | 0/104520 [00:00<?, ? examples/s]"
      ]
     },
     "metadata": {},
     "output_type": "display_data"
    },
    {
     "data": {
      "application/vnd.jupyter.widget-view+json": {
       "model_id": "5728eac1d6c64091b61c8b04ad3f2e02",
       "version_major": 2,
       "version_minor": 0
      },
      "text/plain": [
       "Loading dataset shards:   0%|          | 0/42 [00:00<?, ?it/s]"
      ]
     },
     "metadata": {},
     "output_type": "display_data"
    }
   ],
   "source": [
    "# Download first 20000 examples from the dataset (assuming it supports slicing)\n",
    "dataset = load_dataset(\"m-aliabbas1/myeidi\")"
   ]
  },
  {
   "cell_type": "code",
   "execution_count": 4,
   "id": "b00671ba-545d-4a14-ad21-914e7ccad289",
   "metadata": {},
   "outputs": [],
   "source": [
    "# !pip install -U datasets "
   ]
  },
  {
   "cell_type": "code",
   "execution_count": 5,
   "id": "0cced596-01b9-4e59-9bb6-93414d4ea25b",
   "metadata": {},
   "outputs": [],
   "source": [
    "# !ls"
   ]
  },
  {
   "cell_type": "code",
   "execution_count": 6,
   "id": "7dfb9cad-01a7-4257-b034-d6fdb0baf319",
   "metadata": {},
   "outputs": [],
   "source": [
    "# !rm -rf ~/.cache/huggingface/datasets/"
   ]
  },
  {
   "cell_type": "code",
   "execution_count": 9,
   "id": "346205ba-34ad-4524-95ae-9dd98798a6c0",
   "metadata": {},
   "outputs": [],
   "source": [
    "dataset = dataset[\"train\"].train_test_split(train_size=30000, seed=42)[\"train\"]"
   ]
  },
  {
   "cell_type": "code",
   "execution_count": 11,
   "id": "fab7e5cf-e485-4c05-9b5c-9998194d2eca",
   "metadata": {},
   "outputs": [],
   "source": [
    "# dataset"
   ]
  },
  {
   "cell_type": "code",
   "execution_count": 12,
   "id": "da338727-4e57-4a2b-b18a-1cc76d3edb0f",
   "metadata": {},
   "outputs": [],
   "source": [
    "split_dataset = dataset.train_test_split(test_size=0.2, seed=42)"
   ]
  },
  {
   "cell_type": "code",
   "execution_count": 13,
   "id": "d0a92dc9-6b41-46f5-b3a1-580e7c5813c3",
   "metadata": {},
   "outputs": [
    {
     "data": {
      "text/plain": [
       "DatasetDict({\n",
       "    train: Dataset({\n",
       "        features: ['text', 'audio', 'duration'],\n",
       "        num_rows: 24000\n",
       "    })\n",
       "    test: Dataset({\n",
       "        features: ['text', 'audio', 'duration'],\n",
       "        num_rows: 6000\n",
       "    })\n",
       "})"
      ]
     },
     "execution_count": 13,
     "metadata": {},
     "output_type": "execute_result"
    }
   ],
   "source": [
    "split_dataset"
   ]
  },
  {
   "cell_type": "code",
   "execution_count": 14,
   "id": "f3151da3-702f-4591-93bb-449c2367ba66",
   "metadata": {},
   "outputs": [],
   "source": [
    "train_dataset = split_dataset[\"train\"]\n",
    "test_dataset = split_dataset[\"test\"]"
   ]
  },
  {
   "cell_type": "code",
   "execution_count": 15,
   "id": "3292a0e8-2ad7-498d-b4a5-e13c5b9ad6f1",
   "metadata": {},
   "outputs": [
    {
     "data": {
      "text/plain": [
       "Dataset({\n",
       "    features: ['text', 'audio', 'duration'],\n",
       "    num_rows: 24000\n",
       "})"
      ]
     },
     "execution_count": 15,
     "metadata": {},
     "output_type": "execute_result"
    }
   ],
   "source": [
    "train_dataset"
   ]
  },
  {
   "cell_type": "code",
   "execution_count": 16,
   "id": "67aed7f0-0f71-4956-a274-851c21f2a21f",
   "metadata": {},
   "outputs": [],
   "source": [
    "import csv\n",
    "import os\n",
    "\n"
   ]
  },
  {
   "cell_type": "code",
   "execution_count": 17,
   "id": "93b32e8c-7399-400b-9aba-f968efc544aa",
   "metadata": {},
   "outputs": [],
   "source": [
    "# Prepare metadata lines\n",
    "metadata = [[\"audio_file\", \"text\", \"speaker_name\"]]\n",
    "\n"
   ]
  },
  {
   "cell_type": "code",
   "execution_count": 19,
   "id": "75045a1b-283d-41e5-bdc7-df084753a9c7",
   "metadata": {},
   "outputs": [],
   "source": [
    "df = pd.read_csv('metadata_train.csv')"
   ]
  },
  {
   "cell_type": "code",
   "execution_count": 21,
   "id": "57a867e9-64f5-4282-b9fc-416483c8234c",
   "metadata": {},
   "outputs": [
    {
     "name": "stdout",
     "output_type": "stream",
     "text": [
      "ls: cannot access 'wavs': No such file or directory\n"
     ]
    }
   ],
   "source": [
    "!ls wavs"
   ]
  },
  {
   "cell_type": "code",
   "execution_count": 23,
   "id": "3e6a3725-af1b-4015-a24f-130fa4539b87",
   "metadata": {},
   "outputs": [
    {
     "data": {
      "text/plain": [
       "{'text': 'یوکرینینز بہت سست رفتار سے اپنی لینڈ، اپنی سرزمین اور اپنے جوان ان تمام ایریاز میں کھوتے جا رہے ہیں',\n",
       " 'audio': {'path': 'vocals_chunk_0169_742560ms_lvs7.wav',\n",
       "  'array': array([ 0.00405884,  0.00457764,  0.00482178, ..., -0.00054932,\n",
       "          0.00024414,  0.00082397]),\n",
       "  'sampling_rate': 22500},\n",
       " 'duration': 7.2799555555555555}"
      ]
     },
     "execution_count": 23,
     "metadata": {},
     "output_type": "execute_result"
    }
   ],
   "source": [
    "train_dataset[0]"
   ]
  },
  {
   "cell_type": "code",
   "execution_count": 24,
   "id": "b7fb9289-3bc8-452f-bbc6-35b27572f5cf",
   "metadata": {},
   "outputs": [
    {
     "name": "stdout",
     "output_type": "stream",
     "text": [
      "Requirement already satisfied: librosa in /root/anaconda3/envs/whisper_env/lib/python3.10/site-packages (0.9.2)\n",
      "Requirement already satisfied: soundfile in /root/anaconda3/envs/whisper_env/lib/python3.10/site-packages (0.11.0)\n",
      "Requirement already satisfied: tqdm in /root/anaconda3/envs/whisper_env/lib/python3.10/site-packages (4.67.1)\n",
      "Requirement already satisfied: audioread>=2.1.9 in /root/anaconda3/envs/whisper_env/lib/python3.10/site-packages (from librosa) (3.0.1)\n",
      "Requirement already satisfied: numpy>=1.17.0 in /root/anaconda3/envs/whisper_env/lib/python3.10/site-packages (from librosa) (1.26.3)\n",
      "Requirement already satisfied: scipy>=1.2.0 in /root/anaconda3/envs/whisper_env/lib/python3.10/site-packages (from librosa) (1.10.1)\n",
      "Requirement already satisfied: scikit-learn>=0.19.1 in /root/anaconda3/envs/whisper_env/lib/python3.10/site-packages (from librosa) (1.6.1)\n",
      "Requirement already satisfied: joblib>=0.14 in /root/anaconda3/envs/whisper_env/lib/python3.10/site-packages (from librosa) (1.4.2)\n",
      "Requirement already satisfied: decorator>=4.0.10 in /root/anaconda3/envs/whisper_env/lib/python3.10/site-packages (from librosa) (5.1.1)\n",
      "Requirement already satisfied: resampy>=0.2.2 in /root/anaconda3/envs/whisper_env/lib/python3.10/site-packages (from librosa) (0.4.3)\n",
      "Requirement already satisfied: numba>=0.45.1 in /root/anaconda3/envs/whisper_env/lib/python3.10/site-packages (from librosa) (0.61.0)\n",
      "Requirement already satisfied: pooch>=1.0 in /root/anaconda3/envs/whisper_env/lib/python3.10/site-packages (from librosa) (1.8.2)\n",
      "Requirement already satisfied: packaging>=20.0 in /root/anaconda3/envs/whisper_env/lib/python3.10/site-packages (from librosa) (23.2)\n",
      "Requirement already satisfied: cffi>=1.0 in /root/anaconda3/envs/whisper_env/lib/python3.10/site-packages (from soundfile) (1.16.0)\n",
      "Requirement already satisfied: pycparser in /root/anaconda3/envs/whisper_env/lib/python3.10/site-packages (from cffi>=1.0->soundfile) (2.21)\n",
      "Requirement already satisfied: llvmlite<0.45,>=0.44.0dev0 in /root/anaconda3/envs/whisper_env/lib/python3.10/site-packages (from numba>=0.45.1->librosa) (0.44.0)\n",
      "Requirement already satisfied: platformdirs>=2.5.0 in /root/anaconda3/envs/whisper_env/lib/python3.10/site-packages (from pooch>=1.0->librosa) (4.3.6)\n",
      "Requirement already satisfied: requests>=2.19.0 in /root/anaconda3/envs/whisper_env/lib/python3.10/site-packages (from pooch>=1.0->librosa) (2.32.3)\n",
      "Requirement already satisfied: threadpoolctl>=3.1.0 in /root/anaconda3/envs/whisper_env/lib/python3.10/site-packages (from scikit-learn>=0.19.1->librosa) (3.6.0)\n",
      "Requirement already satisfied: charset-normalizer<4,>=2 in /root/anaconda3/envs/whisper_env/lib/python3.10/site-packages (from requests>=2.19.0->pooch>=1.0->librosa) (3.4.1)\n",
      "Requirement already satisfied: idna<4,>=2.5 in /root/anaconda3/envs/whisper_env/lib/python3.10/site-packages (from requests>=2.19.0->pooch>=1.0->librosa) (3.10)\n",
      "Requirement already satisfied: urllib3<3,>=1.21.1 in /root/anaconda3/envs/whisper_env/lib/python3.10/site-packages (from requests>=2.19.0->pooch>=1.0->librosa) (2.0.4)\n",
      "Requirement already satisfied: certifi>=2017.4.17 in /root/anaconda3/envs/whisper_env/lib/python3.10/site-packages (from requests>=2.19.0->pooch>=1.0->librosa) (2023.7.22)\n",
      "\u001b[33mWARNING: Running pip as the 'root' user can result in broken permissions and conflicting behaviour with the system package manager, possibly rendering your system unusable. It is recommended to use a virtual environment instead: https://pip.pypa.io/warnings/venv. Use the --root-user-action option if you know what you are doing and want to suppress this warning.\u001b[0m\u001b[33m\n",
      "\u001b[0m"
     ]
    }
   ],
   "source": [
    "!pip install librosa soundfile tqdm\n"
   ]
  },
  {
   "cell_type": "code",
   "execution_count": 28,
   "id": "9dce92f1-4a2a-437d-9742-732cce330557",
   "metadata": {},
   "outputs": [],
   "source": [
    "import os\n",
    "import csv\n",
    "import librosa\n",
    "import soundfile as sf\n",
    "from tqdm import tqdm\n",
    "\n",
    "def process_dataset_to_metadata(\n",
    "    dataset, \n",
    "    output_dir=\"wavs\", \n",
    "    metadata_path=\"metadata_train.csv\", \n",
    "    target_sr=24000, \n",
    "    speaker_name=\"@faisal\"\n",
    "):\n",
    "    \"\"\"\n",
    "    Resamples and saves audio files from Hugging Face dataset and creates metadata CSV.\n",
    "    \n",
    "    Args:\n",
    "        dataset: Hugging Face dataset with 'audio' and 'text' fields\n",
    "        output_dir: Directory to save resampled audio files\n",
    "        metadata_path: Path to save metadata CSV file\n",
    "        target_sr: Target sample rate (default is 24000 Hz)\n",
    "        speaker_name: Speaker name to use in metadata\n",
    "\n",
    "    Returns:\n",
    "        None (saves audio files and CSV to disk)\n",
    "    \"\"\"\n",
    "    os.makedirs(output_dir, exist_ok=True)\n",
    "    metadata = [[\"audio_file\", \"text\", \"speaker_name\"]]\n",
    "\n",
    "    for example in tqdm(dataset, desc=\"Processing audio\"):\n",
    "        audio_data = example[\"audio\"]\n",
    "        text = example[\"text\"]\n",
    "        filename = os.path.basename(audio_data[\"path\"])\n",
    "        new_filename = filename.replace(\".wav\", f\"_{target_sr//1000}k.wav\")\n",
    "        output_path = os.path.join(output_dir, new_filename)\n",
    "\n",
    "        # Resample and save\n",
    "        y = audio_data[\"array\"]\n",
    "        sr = audio_data[\"sampling_rate\"]\n",
    "        y_resampled = librosa.resample(y, orig_sr=sr, target_sr=target_sr)\n",
    "        sf.write(output_path, y_resampled, target_sr)\n",
    "\n",
    "        # Append metadata row\n",
    "        metadata.append([output_path, text, speaker_name])\n",
    "\n",
    "    # Write metadata to CSV\n",
    "    with open(metadata_path, \"w\", newline='', encoding=\"utf-8\") as f:\n",
    "        writer = csv.writer(f, delimiter='|')\n",
    "        writer.writerows(metadata)\n",
    "\n",
    "    print(f\"✅ Done: {len(dataset)} samples processed.\")\n",
    "    print(f\"📁 Audio saved in: {output_dir}\")\n",
    "    print(f\"📝 Metadata saved to: {metadata_path}\")\n"
   ]
  },
  {
   "cell_type": "code",
   "execution_count": 33,
   "id": "6a8aaa73-80b4-4685-90d1-373c4a633aae",
   "metadata": {},
   "outputs": [
    {
     "name": "stderr",
     "output_type": "stream",
     "text": [
      "Processing audio: 100%|██████████████████████████████████████████████████████████████████████████████████████████████████████| 24000/24000 [12:09<00:00, 32.91it/s]"
     ]
    },
    {
     "name": "stdout",
     "output_type": "stream",
     "text": [
      "✅ Done: 24000 samples processed.\n",
      "📁 Audio saved in: wavs\n",
      "📝 Metadata saved to: metadata_train.csv\n"
     ]
    },
    {
     "name": "stderr",
     "output_type": "stream",
     "text": [
      "\n"
     ]
    }
   ],
   "source": [
    "process_dataset_to_metadata(train_dataset)"
   ]
  },
  {
   "cell_type": "code",
   "execution_count": 32,
   "id": "ed5277df-7c49-473a-b104-382f4970b841",
   "metadata": {},
   "outputs": [],
   "source": [
    "# !rm -rf wavs"
   ]
  },
  {
   "cell_type": "code",
   "execution_count": 34,
   "id": "e6f8956b-7798-49b4-89ba-7e108d4c7969",
   "metadata": {},
   "outputs": [],
   "source": [
    "test_dataset = split_dataset[\"test\"]"
   ]
  },
  {
   "cell_type": "code",
   "execution_count": null,
   "id": "3a3a15ec-8e95-42fd-8f4f-548255f7baca",
   "metadata": {},
   "outputs": [],
   "source": []
  },
  {
   "cell_type": "code",
   "execution_count": 35,
   "id": "5e982824-b414-4d3c-a485-204dadb44089",
   "metadata": {},
   "outputs": [
    {
     "name": "stderr",
     "output_type": "stream",
     "text": [
      "Processing audio: 100%|████████████████████████████████████████████████████████████████████████████████████████████████████████| 6000/6000 [03:15<00:00, 30.75it/s]"
     ]
    },
    {
     "name": "stdout",
     "output_type": "stream",
     "text": [
      "✅ Done: 6000 samples processed.\n",
      "📁 Audio saved in: wavs\n",
      "📝 Metadata saved to: metadata_test.csv\n"
     ]
    },
    {
     "name": "stderr",
     "output_type": "stream",
     "text": [
      "\n"
     ]
    }
   ],
   "source": [
    "process_dataset_to_metadata(test_dataset,output_dir=\"wavs\", \n",
    "    metadata_path=\"metadata_test.csv\", \n",
    "    target_sr=24000, \n",
    "    speaker_name=\"@faisal\")"
   ]
  },
  {
   "cell_type": "code",
   "execution_count": 37,
   "id": "4be05823-7a9b-42c2-9849-c02f4fd2c744",
   "metadata": {},
   "outputs": [],
   "source": [
    "!mv wavs ./XTTSv2-Finetuning-for-New-Languages/datasets-1/"
   ]
  },
  {
   "cell_type": "code",
   "execution_count": null,
   "id": "cc5c3623-3d49-4401-aa38-d0755d3e8dc1",
   "metadata": {},
   "outputs": [],
   "source": []
  }
 ],
 "metadata": {
  "kernelspec": {
   "display_name": "whisper_env",
   "language": "python",
   "name": "whisper_env"
  },
  "language_info": {
   "codemirror_mode": {
    "name": "ipython",
    "version": 3
   },
   "file_extension": ".py",
   "mimetype": "text/x-python",
   "name": "python",
   "nbconvert_exporter": "python",
   "pygments_lexer": "ipython3",
   "version": "3.10.16"
  }
 },
 "nbformat": 4,
 "nbformat_minor": 5
}
