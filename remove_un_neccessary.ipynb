{
 "cells": [
  {
   "cell_type": "code",
   "execution_count": 1,
   "id": "c1214269-7605-4853-9fba-1598b6ca6600",
   "metadata": {},
   "outputs": [],
   "source": [
    "import pandas as pd"
   ]
  },
  {
   "cell_type": "code",
   "execution_count": 2,
   "id": "02016e5a-427e-4e41-8ad4-e75ef96fc600",
   "metadata": {},
   "outputs": [],
   "source": [
    "! rm -rf downloads preprocess_waves tts_dataset vocal_1 vocal_2 vocals "
   ]
  },
  {
   "cell_type": "code",
   "execution_count": null,
   "id": "82997443-a3a0-4b26-be72-a88f8f02291a",
   "metadata": {},
   "outputs": [],
   "source": []
  }
 ],
 "metadata": {
  "kernelspec": {
   "display_name": "whisper_env",
   "language": "python",
   "name": "whisper_env"
  },
  "language_info": {
   "codemirror_mode": {
    "name": "ipython",
    "version": 3
   },
   "file_extension": ".py",
   "mimetype": "text/x-python",
   "name": "python",
   "nbconvert_exporter": "python",
   "pygments_lexer": "ipython3",
   "version": "3.10.16"
  }
 },
 "nbformat": 4,
 "nbformat_minor": 5
}
