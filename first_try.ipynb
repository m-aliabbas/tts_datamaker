{
 "cells": [
  {
   "cell_type": "code",
   "execution_count": 1,
   "id": "f9ebb89d-8bc7-4141-92f3-27349893b397",
   "metadata": {},
   "outputs": [],
   "source": [
    "# !pip install yt-dlp"
   ]
  },
  {
   "cell_type": "code",
   "execution_count": 2,
   "id": "2eb5dc2d-0868-451c-b4e5-14e104bbf8c6",
   "metadata": {},
   "outputs": [],
   "source": [
    "# Download Video"
   ]
  },
  {
   "cell_type": "code",
   "execution_count": 1,
   "id": "5e533d65-bebb-458a-a22d-0c427e1eea5f",
   "metadata": {},
   "outputs": [],
   "source": [
    "from yt_dlp import YoutubeDL\n",
    "import os\n",
    "\n",
    "def download_youtube_audio(url, output_path=\".\", is_playlist=False):\n",
    "    \"\"\"\n",
    "    Downloads audio from a YouTube video or playlist and converts it to MP3 (320kbps).\n",
    "\n",
    "    Args:\n",
    "        url (str): YouTube video or playlist URL.\n",
    "        output_path (str): Output directory (for playlist) or filename path (for single video).\n",
    "        is_playlist (bool): Set True if URL is a playlist.\n",
    "    Returns:\n",
    "        str: Path to the downloaded MP3 file or directory.\n",
    "    \"\"\"\n",
    "    try:\n",
    "        if is_playlist:\n",
    "            os.makedirs(output_path, exist_ok=True)\n",
    "            outtmpl = os.path.join(output_path, '%(playlist_index)s.%(ext)s')\n",
    "        else:\n",
    "            os.makedirs(os.path.dirname(output_path), exist_ok=True)\n",
    "            if not output_path.endswith('.mp3'):\n",
    "                output_path += '.%(ext)s'\n",
    "            outtmpl = output_path\n",
    "\n",
    "        ydl_opts = {\n",
    "            'format': 'bestaudio/best',\n",
    "            'cookiefile': 'cookies/yt_cookies.txt',\n",
    "            'postprocessors': [{\n",
    "                'key': 'FFmpegExtractAudio',\n",
    "                'preferredcodec': 'mp3',\n",
    "                'preferredquality': '320',\n",
    "            }],\n",
    "            'outtmpl': outtmpl,\n",
    "            'noplaylist': not is_playlist,\n",
    "        }\n",
    "\n",
    "        with YoutubeDL(ydl_opts) as ydl:\n",
    "            ydl.download([url])\n",
    "\n",
    "        return output_path if not is_playlist else os.path.abspath(output_path)\n",
    "\n",
    "    except Exception as e:\n",
    "        raise RuntimeError(f\"Error downloading/converting: {e}\")"
   ]
  },
  {
   "cell_type": "code",
   "execution_count": 62,
   "id": "3a0ab201-6140-41b4-8e15-7edee360e4eb",
   "metadata": {},
   "outputs": [],
   "source": [
    "# from yt_dlp import YoutubeDL\n",
    "\n",
    "# def get_all_video_links(channel_url):\n",
    "#     \"\"\"\n",
    "#     Fetch all video URLs from a YouTube channel using yt-dlp.\n",
    "    \n",
    "#     Args:\n",
    "#         channel_url (str): URL of the YouTube channel (e.g., https://www.youtube.com/@ChannelName or /c/ or /channel/ID).\n",
    "    \n",
    "#     Returns:\n",
    "#         list[str]: List of video URLs.\n",
    "#     \"\"\"\n",
    "#     # try:\n",
    "#     ydl_opts = {\n",
    "#         'cookiefile': 'cookies/yt_cookies.txt',\n",
    "#         'quiet': True,\n",
    "#         'extract_flat': True,  # Do not download, just get metadata\n",
    "#         'force_generic_extractor': False,\n",
    "#         'skip_download': True,\n",
    "#     }\n",
    "\n",
    "#     with YoutubeDL(ydl_opts) as ydl:\n",
    "#         result = ydl.extract_info(channel_url, download=False)\n",
    "#         if 'entries' in result:\n",
    "#             return [entry['url'] if entry['url'].startswith(\"http\") else f\"https://www.youtube.com/watch?v={entry['id']}\" for entry in result['entries']]\n",
    "#         else:\n",
    "#             return []\n",
    "\n",
    "#     # except Exception as e:\n",
    "#     #     print(f\"Error fetching video links: {e}\")\n",
    "#     #     return []\n"
   ]
  },
  {
   "cell_type": "code",
   "execution_count": 2,
   "id": "6e690f2a-6bdd-4eac-b3ba-c68e1523dcf3",
   "metadata": {},
   "outputs": [
    {
     "name": "stdout",
     "output_type": "stream",
     "text": [
      "cookies.txt  yt_cookies.txt\n"
     ]
    }
   ],
   "source": [
    "!ls cookies"
   ]
  },
  {
   "cell_type": "code",
   "execution_count": 3,
   "id": "78e4e96c-7afd-4fc3-8225-4d895e3fed1b",
   "metadata": {},
   "outputs": [],
   "source": [
    "import random\n",
    "import string\n",
    "import time\n",
    "\n",
    "def generate_random_filename(extension=\".wav\", length=8):\n",
    "    timestamp = int(time.time())\n",
    "    random_str = ''.join(random.choices(string.ascii_lowercase + string.digits, k=length))\n",
    "    return f\"{random_str}_{timestamp}\""
   ]
  },
  {
   "cell_type": "code",
   "execution_count": 4,
   "id": "36e7a679-b779-48ef-bb98-3a38177a8661",
   "metadata": {},
   "outputs": [
    {
     "name": "stdout",
     "output_type": "stream",
     "text": [
      "[youtube] Extracting URL: https://www.youtube.com/watch?v=e7hwJrMpz_U\n",
      "[youtube] e7hwJrMpz_U: Downloading webpage\n",
      "[youtube] e7hwJrMpz_U: Downloading tv client config\n",
      "[youtube] e7hwJrMpz_U: Downloading player 20830619\n",
      "[youtube] e7hwJrMpz_U: Downloading tv player API JSON\n",
      "[info] e7hwJrMpz_U: Downloading 1 format(s): 251\n",
      "[download] Destination: downloads/bs65mdqf_1743316334.webm\n",
      "[download] 100% of   27.42MiB in 00:00:00 at 48.06MiB/s    \n",
      "[ExtractAudio] Destination: downloads/bs65mdqf_1743316334.mp3\n",
      "Deleting original file downloads/bs65mdqf_1743316334.webm (pass -k to keep)\n"
     ]
    }
   ],
   "source": [
    "mp3_file = download_youtube_audio(\"https://www.youtube.com/watch?v=e7hwJrMpz_U\", output_path=f\"downloads/{generate_random_filename()}\", is_playlist=False)"
   ]
  },
  {
   "cell_type": "code",
   "execution_count": 5,
   "id": "e12c8c0f-37d8-4289-9e52-34ad4ffb289e",
   "metadata": {},
   "outputs": [],
   "source": [
    "# !pip install demucs"
   ]
  },
  {
   "cell_type": "code",
   "execution_count": 5,
   "id": "1cd773fc-87e4-49af-8772-3c7d6ce9338a",
   "metadata": {},
   "outputs": [
    {
     "name": "stdout",
     "output_type": "stream",
     "text": [
      "bs65mdqf_1743316334.mp3  hhr01zvj_1743315022.mp3\n"
     ]
    }
   ],
   "source": [
    "!ls downloads"
   ]
  },
  {
   "cell_type": "code",
   "execution_count": 4,
   "id": "20a4c764-e446-4794-afb3-484e90e9e815",
   "metadata": {},
   "outputs": [],
   "source": [
    "# !demucs --model=htdemucs --two-stems=vocals "
   ]
  },
  {
   "cell_type": "code",
   "execution_count": 10,
   "id": "7a0f09a5-a73a-473d-afd1-46fddf3abd13",
   "metadata": {},
   "outputs": [],
   "source": [
    "# !demucs --list"
   ]
  },
  {
   "cell_type": "code",
   "execution_count": 11,
   "id": "075c5254-6585-4b6e-9d77-b76b4044bb92",
   "metadata": {},
   "outputs": [
    {
     "name": "stdout",
     "output_type": "stream",
     "text": [
      "Collecting pydub\n",
      "  Using cached pydub-0.25.1-py2.py3-none-any.whl.metadata (1.4 kB)\n",
      "Using cached pydub-0.25.1-py2.py3-none-any.whl (32 kB)\n",
      "Installing collected packages: pydub\n",
      "Successfully installed pydub-0.25.1\n",
      "\u001b[33mWARNING: Running pip as the 'root' user can result in broken permissions and conflicting behaviour with the system package manager, possibly rendering your system unusable. It is recommended to use a virtual environment instead: https://pip.pypa.io/warnings/venv. Use the --root-user-action option if you know what you are doing and want to suppress this warning.\u001b[0m\u001b[33m\n",
      "\u001b[0m"
     ]
    }
   ],
   "source": [
    "!pip install pydub"
   ]
  },
  {
   "cell_type": "code",
   "execution_count": 12,
   "id": "14738e1a-36b7-4fc1-bad9-b568a8f98757",
   "metadata": {},
   "outputs": [
    {
     "name": "stdout",
     "output_type": "stream",
     "text": [
      "Segment saved as segment_1min_to_2min.mp3\n"
     ]
    }
   ],
   "source": [
    "from pydub import AudioSegment\n",
    "\n",
    "# Load your audio\n",
    "audio = AudioSegment.from_file(\"downloads/bs65mdqf_1743316334.mp3\")\n",
    "\n",
    "# Define time range in milliseconds\n",
    "start_time = 60 * 1000   # 1 minute\n",
    "end_time = 120 * 1000    # 2 minutes\n",
    "\n",
    "# Slice the audio\n",
    "segment = audio[start_time:end_time]\n",
    "\n",
    "# Export the sliced segment\n",
    "segment.export(\"segment_1min_to_2min.mp3\", format=\"mp3\")\n",
    "\n",
    "print(\"Segment saved as segment_1min_to_2min.mp3\")"
   ]
  },
  {
   "cell_type": "code",
   "execution_count": 16,
   "id": "a03115f0-8feb-4a69-b839-7c0991e497f6",
   "metadata": {},
   "outputs": [
    {
     "name": "stdout",
     "output_type": "stream",
     "text": [
      "Downloading: \"https://dl.fbaipublicfiles.com/demucs/mdx_final/464b36d7-e5a9386e.th\" to /root/.cache/torch/hub/checkpoints/464b36d7-e5a9386e.th\n",
      "100%|███████████████████████████████████████| 37.1M/37.1M [00:00<00:00, 107MB/s]\n",
      "Downloading: \"https://dl.fbaipublicfiles.com/demucs/mdx_final/14fc6a69-a89dd0ee.th\" to /root/.cache/torch/hub/checkpoints/14fc6a69-a89dd0ee.th\n",
      "100%|███████████████████████████████████████| 36.7M/36.7M [00:00<00:00, 108MB/s]\n",
      "Downloading: \"https://dl.fbaipublicfiles.com/demucs/mdx_final/7fd6ef75-a905dd85.th\" to /root/.cache/torch/hub/checkpoints/7fd6ef75-a905dd85.th\n",
      "100%|███████████████████████████████████████| 37.6M/37.6M [00:00<00:00, 107MB/s]\n",
      "Selected model is a bag of 4 models. You will see that many progress bars per track.\n",
      "Separated tracks will be stored in /root/tts_datamaker/clean_vocals/mdx_extra_q\n",
      "Separating track segment_1min_to_2min.mp3\n",
      "100%|██████████████████████████████████████████████████████████████████████████| 66.0/66.0 [00:00<00:00, 71.44seconds/s]\n",
      "100%|██████████████████████████████████████████████████████████████████████████| 66.0/66.0 [00:00<00:00, 73.30seconds/s]\n",
      "100%|██████████████████████████████████████████████████████████████████████████| 66.0/66.0 [00:00<00:00, 85.71seconds/s]\n",
      "100%|██████████████████████████████████████████████████████████████████████████| 66.0/66.0 [00:00<00:00, 89.23seconds/s]\n"
     ]
    }
   ],
   "source": [
    "!demucs -n mdx_extra_q -d cuda \\\n",
    "  --two-stems=vocals \\\n",
    "  -o ./clean_vocals \\\n",
    "  --mp3 \\\n",
    "  segment_1min_to_2min.mp3"
   ]
  },
  {
   "cell_type": "code",
   "execution_count": 15,
   "id": "c231d0ed-64e8-4748-9810-cfa47910a5d0",
   "metadata": {},
   "outputs": [],
   "source": [
    "# !pip install diffq"
   ]
  },
  {
   "cell_type": "code",
   "execution_count": 19,
   "id": "19c7e9ec-04ae-4d33-a6ce-b48ec992771b",
   "metadata": {},
   "outputs": [],
   "source": [
    "# !pip install deepfilternet\n"
   ]
  },
  {
   "cell_type": "code",
   "execution_count": 23,
   "id": "658b46ff-45e5-423e-b8e5-6e74406d1c82",
   "metadata": {},
   "outputs": [
    {
     "name": "stdout",
     "output_type": "stream",
     "text": [
      "clean_vocals/mdx_extra_q/segment_1min_to_2min/vocals.mp3\n"
     ]
    }
   ],
   "source": [
    "!ls clean_vocals/mdx_extra_q/segment_1min_to_2min/vocals.mp3"
   ]
  },
  {
   "cell_type": "code",
   "execution_count": 24,
   "id": "34fcc920-38ac-468e-90cc-2fd7a6f0e86a",
   "metadata": {},
   "outputs": [],
   "source": [
    "import os\n",
    "import librosa\n",
    "import soundfile as sf\n",
    "\n",
    "def convert_mp3_to_16k_wav(input_mp3_path: str, output_dir: str, output_filename: str = None):\n",
    "    \"\"\"\n",
    "    Converts an MP3 file to 16kHz WAV format and saves it in the specified directory.\n",
    "\n",
    "    Args:\n",
    "        input_mp3_path (str): Path to the input MP3 file.\n",
    "        output_dir (str): Directory where the output WAV will be saved.\n",
    "        output_filename (str, optional): Custom name for the output file (without extension).\n",
    "                                         If not provided, uses the input file name.\n",
    "    Returns:\n",
    "        str: Path to the saved WAV file.\n",
    "    \"\"\"\n",
    "    # Ensure output directory exists\n",
    "    os.makedirs(output_dir, exist_ok=True)\n",
    "\n",
    "    # Use input file name if custom name is not provided\n",
    "    if output_filename is None:\n",
    "        output_filename = os.path.splitext(os.path.basename(input_mp3_path))[0]\n",
    "\n",
    "    # Define output path\n",
    "    output_path = os.path.join(output_dir, f\"{output_filename}_16k.wav\")\n",
    "\n",
    "    # Load and resample to 16 kHz\n",
    "    audio, sr = librosa.load(input_mp3_path, sr=16000)\n",
    "\n",
    "    # Save as WAV\n",
    "    sf.write(output_path, audio, samplerate=16000)\n",
    "\n",
    "    print(f\"✅ Converted and saved: {output_path}\")\n",
    "    return output_path\n"
   ]
  },
  {
   "cell_type": "code",
   "execution_count": 25,
   "id": "17052a7b-b082-42b4-9966-c3635b98f449",
   "metadata": {},
   "outputs": [
    {
     "name": "stdout",
     "output_type": "stream",
     "text": [
      "✅ Converted and saved: clean_waves/vocals_16k.wav\n"
     ]
    },
    {
     "data": {
      "text/plain": [
       "'clean_waves/vocals_16k.wav'"
      ]
     },
     "execution_count": 25,
     "metadata": {},
     "output_type": "execute_result"
    }
   ],
   "source": [
    "convert_mp3_to_16k_wav('clean_vocals/mdx_extra_q/segment_1min_to_2min/vocals.mp3', 'clean_waves')"
   ]
  },
  {
   "cell_type": "code",
   "execution_count": 6,
   "id": "f14e4034-1b79-4038-8c75-a3f4b8b7b37e",
   "metadata": {},
   "outputs": [],
   "source": [
    "# !deepFilter -i clean_waves/vocals_16k.wav -o clean_final.wav\n"
   ]
  },
  {
   "cell_type": "code",
   "execution_count": 5,
   "id": "49f3f0d7-1ea8-4766-9549-5d3eb89c5a9f",
   "metadata": {},
   "outputs": [],
   "source": [
    "# !deepFilter clean_waves/vocals_16k.wav --output-dir filter_waves"
   ]
  },
  {
   "cell_type": "code",
   "execution_count": 32,
   "id": "e5e1ab0d-6b41-4863-ad95-84efa936f25a",
   "metadata": {},
   "outputs": [],
   "source": [
    "import os\n",
    "import subprocess\n",
    "\n",
    "def run_deepfilter_with_output_dir(input_wav_path: str, output_dir: str):\n",
    "    \"\"\"\n",
    "    Runs DeepFilterNet (via CLI) on a WAV file and saves the enhanced file in a given output directory.\n",
    "\n",
    "    Args:\n",
    "        input_wav_path (str): Path to the input WAV file.\n",
    "        output_dir (str): Directory to store the enhanced WAV output.\n",
    "\n",
    "    Returns:\n",
    "        str: Path to the enhanced WAV file.\n",
    "    \"\"\"\n",
    "    os.makedirs(output_dir, exist_ok=True)\n",
    "\n",
    "    # Run deepFilter command with custom output directory\n",
    "    command = [\n",
    "        \"deepFilter\",\n",
    "        input_wav_path,\n",
    "        \"--output-dir\", output_dir\n",
    "    ]\n",
    "\n",
    "    print(f\"🚀 Running DeepFilterNet on: {input_wav_path}\")\n",
    "    subprocess.run(command, check=True)\n",
    "\n",
    "    # Expected output file name\n",
    "    base_name = os.path.splitext(os.path.basename(input_wav_path))[0]\n",
    "    output_path = os.path.join(output_dir, f\"{base_name}_enhanced.wav\")\n",
    "\n",
    "    print(f\"✅ Saved enhanced file to: {output_path}\")\n",
    "    return output_path\n",
    "\n"
   ]
  },
  {
   "cell_type": "code",
   "execution_count": 45,
   "id": "ada0dfe9-b824-44c9-9336-522362a199b6",
   "metadata": {},
   "outputs": [],
   "source": [
    "from yt_dlp import YoutubeDL\n",
    "\n",
    "def get_all_video_links(channel_url):\n",
    "    \"\"\"\n",
    "    Fetch all video URLs from a YouTube channel using yt-dlp.\n",
    "    \n",
    "    Args:\n",
    "        channel_url (str): YouTube channel URL (e.g., https://www.youtube.com/@username).\n",
    "    \n",
    "    Returns:\n",
    "        list[str]: List of full YouTube video URLs.\n",
    "    \"\"\"\n",
    "    try:\n",
    "        ydl_opts = {\n",
    "            'quiet': True,\n",
    "            'extract_flat': True,       # Only extract metadata, no download\n",
    "            'skip_download': True,\n",
    "        }\n",
    "\n",
    "        with YoutubeDL(ydl_opts) as ydl:\n",
    "            result = ydl.extract_info(channel_url, download=False)\n",
    "            return result\n",
    "            \n",
    "    except Exception as e:\n",
    "        print(f\"Error fetching video links: {e}\")\n",
    "        return []\n"
   ]
  },
  {
   "cell_type": "code",
   "execution_count": 51,
   "id": "23826851-f416-4044-a424-ce128ce1e916",
   "metadata": {},
   "outputs": [],
   "source": [
    "channel = \"https://www.youtube.com/channel/UCyzvb3N0ChAnWeQhoD0McRg\"\n",
    "video_links = get_all_video_links(channel)\n",
    "\n"
   ]
  },
  {
   "cell_type": "code",
   "execution_count": 54,
   "id": "df08f763-682f-4f1c-926e-dd622d92569d",
   "metadata": {},
   "outputs": [],
   "source": [
    "data = video_links"
   ]
  },
  {
   "cell_type": "code",
   "execution_count": 56,
   "id": "fa9c4fc3-cfb1-46af-9d00-857dabdf3143",
   "metadata": {},
   "outputs": [],
   "source": []
  },
  {
   "cell_type": "code",
   "execution_count": 67,
   "id": "59335ae4-1a16-4178-9134-5b15f48a499e",
   "metadata": {},
   "outputs": [],
   "source": [
    "def extract_channel_video_link(channel_info):\n",
    "    vid_links = []\n",
    "    data = channel_info\n",
    "    try:\n",
    "        # Access the main list of entries\n",
    "        main_entries = data.get('entries', [])\n",
    "        if main_entries:\n",
    "            # Access the first item in main_entries (which seems to be a playlist)\n",
    "            playlist_entry = main_entries[0]\n",
    "            # Access the list of video entries within that playlist\n",
    "            video_entries = playlist_entry.get('entries', [])\n",
    "    \n",
    "            # Loop through each video entry in the list\n",
    "            for video in video_entries:\n",
    "                # Check if the entry type is 'url' and get the 'url' value\n",
    "                if video.get('_type') == 'url':\n",
    "                    url = video.get('url')\n",
    "                    if url:\n",
    "                        vid_links.append(url)\n",
    "        return vid_links\n",
    "    \n",
    "    except (IndexError, KeyError, TypeError) as e:\n",
    "        print(f\"Error accessing data structure: {e}\")\n",
    "        return []\n"
   ]
  },
  {
   "cell_type": "code",
   "execution_count": 59,
   "id": "6d481976-0ceb-43e3-b938-d739f4706e64",
   "metadata": {},
   "outputs": [],
   "source": [
    "# len(vid_links)"
   ]
  },
  {
   "cell_type": "code",
   "execution_count": 66,
   "id": "abf5c79a-c200-46fa-8688-9166285c891e",
   "metadata": {},
   "outputs": [],
   "source": [
    "# vid_links"
   ]
  },
  {
   "cell_type": "code",
   "execution_count": 61,
   "id": "c53252cc-2f98-429b-b9f5-2f695ea8cf97",
   "metadata": {},
   "outputs": [
    {
     "name": "stdout",
     "output_type": "stream",
     "text": [
      "Successfully saved the list to 'faisal.json'\n"
     ]
    }
   ],
   "source": [
    "import json\n",
    "\n",
    "\n",
    "# Specify the name for the JSON file you want to create\n",
    "output_filename = 'faisal.json'\n",
    "\n",
    "try:\n",
    "    # Open the file in write mode ('w')\n",
    "    # 'with open(...)' ensures the file is properly closed afterward\n",
    "    with open(output_filename, 'w', encoding='utf-8') as f:\n",
    "        # Use json.dump() to write the Python list to the file as JSON\n",
    "        # - The first argument is the Python object (your list).\n",
    "        # - The second argument is the file object.\n",
    "        # - 'indent=4' makes the JSON file human-readable (optional).\n",
    "        # - 'ensure_ascii=False' is good practice if your list contains non-ASCII characters.\n",
    "        json.dump(vid_links, f, indent=4, ensure_ascii=False)\n",
    "\n",
    "    print(f\"Successfully saved the list to '{output_filename}'\")\n",
    "\n",
    "except Exception as e:\n",
    "    print(f\"An error occurred: {e}\")\n"
   ]
  },
  {
   "cell_type": "code",
   "execution_count": null,
   "id": "83b75901-a6cc-415b-a253-03c425e457b3",
   "metadata": {},
   "outputs": [],
   "source": []
  }
 ],
 "metadata": {
  "kernelspec": {
   "display_name": "research_env",
   "language": "python",
   "name": "research_env"
  },
  "language_info": {
   "codemirror_mode": {
    "name": "ipython",
    "version": 3
   },
   "file_extension": ".py",
   "mimetype": "text/x-python",
   "name": "python",
   "nbconvert_exporter": "python",
   "pygments_lexer": "ipython3",
   "version": "3.10.16"
  }
 },
 "nbformat": 4,
 "nbformat_minor": 5
}
